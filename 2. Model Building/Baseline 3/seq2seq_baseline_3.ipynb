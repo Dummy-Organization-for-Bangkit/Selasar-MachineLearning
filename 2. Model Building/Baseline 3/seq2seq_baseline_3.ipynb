{
 "cells": [
  {
   "cell_type": "markdown",
   "metadata": {
    "id": "qbkvkHGHr1rs",
    "pycharm": {
     "name": "#%% md\n"
    }
   },
   "source": [
    "## Load Data"
   ]
  },
  {
   "cell_type": "code",
   "execution_count": 1,
   "metadata": {
    "colab": {
     "base_uri": "https://localhost:8080/"
    },
    "id": "uu3DPdwZjtmv",
    "outputId": "eda70a70-7035-4052-c655-20c6fc1ee4de",
    "pycharm": {
     "name": "#%%\n"
    }
   },
   "outputs": [
    {
     "name": "stdout",
     "output_type": "stream",
     "text": [
      "Downloading...\n",
      "From: https://drive.google.com/uc?id=1OgYbPfXFAv3TbwP1Qcwt_CC9cVWSJaco\n",
      "To: /home/dabestevanzzacc/indosum.tar.gz\n",
      "100%|███████████████████████████████████████| 96.0M/96.0M [00:00<00:00, 265MB/s]\n"
     ]
    }
   ],
   "source": [
    "# Import data from Google Drive\n",
    "!gdown 1OgYbPfXFAv3TbwP1Qcwt_CC9cVWSJaco"
   ]
  },
  {
   "cell_type": "code",
   "execution_count": 2,
   "metadata": {
    "pycharm": {
     "name": "#%%\n"
    }
   },
   "outputs": [
    {
     "name": "stdout",
     "output_type": "stream",
     "text": [
      "Downloading...\n",
      "From: https://drive.google.com/uc?id=1X5ZPsaoXFxJFrcJ7pVkV9VC81lmDIzdI\n",
      "To: /home/dabestevanzzacc/idwiki_word2vec_300.zip\n",
      "100%|█████████████████████████████████████████| 746M/746M [00:02<00:00, 333MB/s]\n",
      "Archive:  idwiki_word2vec_300.zip\n",
      "  inflating: idwiki_word2vec_300.model.trainables.syn1neg.npy  \n",
      "  inflating: idwiki_word2vec_300.model.wv.vectors.npy  \n",
      "  inflating: idwiki_word2vec_300.model  \n"
     ]
    }
   ],
   "source": [
    "# Download pre-trained word2vec\n",
    "!gdown 1X5ZPsaoXFxJFrcJ7pVkV9VC81lmDIzdI\n",
    "!unzip idwiki_word2vec_300.zip"
   ]
  },
  {
   "cell_type": "code",
   "execution_count": 3,
   "metadata": {
    "pycharm": {
     "name": "#%%\n"
    },
    "scrolled": true
   },
   "outputs": [
    {
     "name": "stderr",
     "output_type": "stream",
     "text": [
      "[nltk_data] Downloading collection 'popular'\n",
      "[nltk_data]    | \n",
      "[nltk_data]    | Downloading package cmudict to\n",
      "[nltk_data]    |     /home/dabestevanzzacc/nltk_data...\n",
      "[nltk_data]    |   Unzipping corpora/cmudict.zip.\n",
      "[nltk_data]    | Downloading package gazetteers to\n",
      "[nltk_data]    |     /home/dabestevanzzacc/nltk_data...\n",
      "[nltk_data]    |   Unzipping corpora/gazetteers.zip.\n",
      "[nltk_data]    | Downloading package genesis to\n",
      "[nltk_data]    |     /home/dabestevanzzacc/nltk_data...\n",
      "[nltk_data]    |   Unzipping corpora/genesis.zip.\n",
      "[nltk_data]    | Downloading package gutenberg to\n",
      "[nltk_data]    |     /home/dabestevanzzacc/nltk_data...\n",
      "[nltk_data]    |   Unzipping corpora/gutenberg.zip.\n",
      "[nltk_data]    | Downloading package inaugural to\n",
      "[nltk_data]    |     /home/dabestevanzzacc/nltk_data...\n",
      "[nltk_data]    |   Unzipping corpora/inaugural.zip.\n",
      "[nltk_data]    | Downloading package movie_reviews to\n",
      "[nltk_data]    |     /home/dabestevanzzacc/nltk_data...\n",
      "[nltk_data]    |   Unzipping corpora/movie_reviews.zip.\n",
      "[nltk_data]    | Downloading package names to\n",
      "[nltk_data]    |     /home/dabestevanzzacc/nltk_data...\n",
      "[nltk_data]    |   Unzipping corpora/names.zip.\n",
      "[nltk_data]    | Downloading package shakespeare to\n",
      "[nltk_data]    |     /home/dabestevanzzacc/nltk_data...\n",
      "[nltk_data]    |   Unzipping corpora/shakespeare.zip.\n",
      "[nltk_data]    | Downloading package stopwords to\n",
      "[nltk_data]    |     /home/dabestevanzzacc/nltk_data...\n",
      "[nltk_data]    |   Unzipping corpora/stopwords.zip.\n",
      "[nltk_data]    | Downloading package treebank to\n",
      "[nltk_data]    |     /home/dabestevanzzacc/nltk_data...\n",
      "[nltk_data]    |   Unzipping corpora/treebank.zip.\n",
      "[nltk_data]    | Downloading package twitter_samples to\n",
      "[nltk_data]    |     /home/dabestevanzzacc/nltk_data...\n",
      "[nltk_data]    |   Unzipping corpora/twitter_samples.zip.\n",
      "[nltk_data]    | Downloading package omw to\n",
      "[nltk_data]    |     /home/dabestevanzzacc/nltk_data...\n",
      "[nltk_data]    |   Unzipping corpora/omw.zip.\n",
      "[nltk_data]    | Downloading package omw-1.4 to\n",
      "[nltk_data]    |     /home/dabestevanzzacc/nltk_data...\n",
      "[nltk_data]    |   Unzipping corpora/omw-1.4.zip.\n",
      "[nltk_data]    | Downloading package wordnet to\n",
      "[nltk_data]    |     /home/dabestevanzzacc/nltk_data...\n",
      "[nltk_data]    |   Unzipping corpora/wordnet.zip.\n",
      "[nltk_data]    | Downloading package wordnet2021 to\n",
      "[nltk_data]    |     /home/dabestevanzzacc/nltk_data...\n",
      "[nltk_data]    |   Unzipping corpora/wordnet2021.zip.\n",
      "[nltk_data]    | Downloading package wordnet31 to\n",
      "[nltk_data]    |     /home/dabestevanzzacc/nltk_data...\n",
      "[nltk_data]    |   Unzipping corpora/wordnet31.zip.\n",
      "[nltk_data]    | Downloading package wordnet_ic to\n",
      "[nltk_data]    |     /home/dabestevanzzacc/nltk_data...\n",
      "[nltk_data]    |   Unzipping corpora/wordnet_ic.zip.\n",
      "[nltk_data]    | Downloading package words to\n",
      "[nltk_data]    |     /home/dabestevanzzacc/nltk_data...\n",
      "[nltk_data]    |   Unzipping corpora/words.zip.\n",
      "[nltk_data]    | Downloading package maxent_ne_chunker to\n",
      "[nltk_data]    |     /home/dabestevanzzacc/nltk_data...\n",
      "[nltk_data]    |   Unzipping chunkers/maxent_ne_chunker.zip.\n",
      "[nltk_data]    | Downloading package punkt to\n",
      "[nltk_data]    |     /home/dabestevanzzacc/nltk_data...\n",
      "[nltk_data]    |   Unzipping tokenizers/punkt.zip.\n",
      "[nltk_data]    | Downloading package snowball_data to\n",
      "[nltk_data]    |     /home/dabestevanzzacc/nltk_data...\n",
      "[nltk_data]    | Downloading package averaged_perceptron_tagger to\n",
      "[nltk_data]    |     /home/dabestevanzzacc/nltk_data...\n",
      "[nltk_data]    |   Unzipping taggers/averaged_perceptron_tagger.zip.\n",
      "[nltk_data]    | \n",
      "[nltk_data]  Done downloading collection popular\n"
     ]
    },
    {
     "data": {
      "text/plain": [
       "True"
      ]
     },
     "execution_count": 3,
     "metadata": {},
     "output_type": "execute_result"
    }
   ],
   "source": [
    "# Download NLTK stopwords\n",
    "import nltk\n",
    "nltk.download('popular')"
   ]
  },
  {
   "cell_type": "code",
   "execution_count": 4,
   "metadata": {
    "id": "2w6rulXatUtq",
    "pycharm": {
     "name": "#%%\n"
    }
   },
   "outputs": [],
   "source": [
    "# Extract the dataset\n",
    "import tarfile\n",
    "\n",
    "with tarfile.open('indosum.tar.gz') as tar:\n",
    "   tar.extractall()\n",
    "   tar.close()"
   ]
  },
  {
   "cell_type": "code",
   "execution_count": 5,
   "metadata": {
    "id": "4IOSsspvuA-z",
    "pycharm": {
     "name": "#%%\n"
    }
   },
   "outputs": [],
   "source": [
    "import os\n",
    "import json\n",
    "\n",
    "# Load data to dictionary and save as json\n",
    "BASE_PATH = './indosum'\n",
    "indosum = {\n",
    "    'train': [],\n",
    "    'val': []\n",
    "}\n",
    "\n",
    "for i, json_file in enumerate(os.listdir('indosum')):\n",
    "    if json_file.endswith('.jsonl'):\n",
    "        split, fold, ext = json_file.split('.')\n",
    "        file_path = os.path.join(BASE_PATH, json_file)\n",
    "        \n",
    "        with open(file_path, 'r') as json_file:\n",
    "            json_list = list(json_file)\n",
    "            for json_str in json_list:\n",
    "                result = json.loads(json_str)\n",
    "                if result['category'] != 'olahraga':\n",
    "                    if split == 'train':\n",
    "                        indosum['train'].append(result)\n",
    "                    else:\n",
    "                        indosum['val'].append(result)\n",
    "\n",
    "#with open('indosum.json', 'w', encoding='utf-8') as f:\n",
    "#    json.dump(indosum, f, ensure_ascii=False, indent=2)\n",
    "    "
   ]
  },
  {
   "cell_type": "code",
   "execution_count": 6,
   "metadata": {
    "pycharm": {
     "name": "#%%\n"
    }
   },
   "outputs": [
    {
     "name": "stdout",
     "output_type": "stream",
     "text": [
      "53209\n",
      "16821\n"
     ]
    }
   ],
   "source": [
    "for split in indosum.keys():\n",
    "    print(len(indosum[split]))"
   ]
  },
  {
   "cell_type": "markdown",
   "metadata": {
    "id": "ABeI3i5AwVVE",
    "pycharm": {
     "name": "#%% md\n"
    }
   },
   "source": [
    "## Preprocess Data"
   ]
  },
  {
   "cell_type": "code",
   "execution_count": 7,
   "metadata": {
    "pycharm": {
     "name": "#%%\n"
    }
   },
   "outputs": [],
   "source": [
    "# load pretrained word embedding\n",
    "import gensim\n",
    "\n",
    "emb_model = gensim.models.Word2Vec.load('idwiki_word2vec_300.model')"
   ]
  },
  {
   "cell_type": "code",
   "execution_count": 8,
   "metadata": {
    "pycharm": {
     "name": "#%%\n"
    }
   },
   "outputs": [],
   "source": [
    "# Stopwords\n",
    "from nltk.corpus import stopwords\n",
    "\n",
    "stop_words = set(stopwords.words('indonesian'))"
   ]
  },
  {
   "cell_type": "code",
   "execution_count": 9,
   "metadata": {
    "id": "ou0qHmnRwZzL",
    "pycharm": {
     "name": "#%%\n"
    }
   },
   "outputs": [],
   "source": [
    "import re\n",
    "\n",
    "def add_start_end_sequence(summary):\n",
    "    summary = 'START ' + summary + ' END'\n",
    "    return summary\n",
    "\n",
    "def convert_to_article(news_file):\n",
    "    content_words = []\n",
    "    for paragraph in news_file['paragraphs']:\n",
    "        for sentence in paragraph:\n",
    "            for word in sentence:\n",
    "                if re.match('[A-Za-z]+', word):\n",
    "                    word = str(word).lower()\n",
    "                    if not word in stop_words:\n",
    "                        content_words.append(word)\n",
    "\n",
    "    summary_words = []\n",
    "    for sentence in news_file['summary']:\n",
    "        for word in sentence:\n",
    "            if re.match('[A-Za-z]+', word):\n",
    "                word = str(word).lower()\n",
    "                if not word in stop_words:\n",
    "                    summary_words.append(word)\n",
    "\n",
    "    content_words = ' '.join(content_words)\n",
    "    summary_words = ' '.join(summary_words)\n",
    "    \n",
    "    news_file['paragraphs'] = content_words\n",
    "    news_file['summary'] = summary_words"
   ]
  },
  {
   "cell_type": "code",
   "execution_count": 10,
   "metadata": {
    "id": "6QuVdHJ4uXZo",
    "pycharm": {
     "name": "#%%\n"
    }
   },
   "outputs": [],
   "source": [
    "for split in indosum.keys():\n",
    "    for news in indosum[split]:\n",
    "        convert_to_article(news)"
   ]
  },
  {
   "cell_type": "code",
   "execution_count": 11,
   "metadata": {
    "colab": {
     "base_uri": "https://localhost:8080/"
    },
    "id": "vJB2xTlgwOrB",
    "outputId": "482a9155-4e69-4283-8ba9-06dee8b23185",
    "pycharm": {
     "name": "#%%\n"
    }
   },
   "outputs": [
    {
     "name": "stdout",
     "output_type": "stream",
     "text": [
      "jakarta cnn indonesia menteri perindustrian airlangga hartarto australia berpeluang destinasi ekspor industri otomotif nasional pasar kendaraan roda mencapai juta unit produsen otomotif terpaksa tutup kesempatan bagus indonesia masuk pasar australia mengutip kamis pemerintah industri otomotif tanah air agresif memperluas pasar ekspor menyeimbangkan kebutuhan pasar domestik kementerian perindustrian menargetkan nilai ekspor mobil tumbuh persen merealisasikan target kemenperin meningkatkan penelitian pengembangan produk penguatan inovasi daya saing memenuhi selera konsumen global produksi nasional kendaraan roda mencapai juta unit ekspor ribu unit target produksi nasional kendaraan roda mencapai juta unit kendaraan produksi negeri didominasi varian multi purpose vehicle mpv sport utility vehicle suv low cost green car lcgc konsumen australia meminati kendaraan berjenis sedan kabin ganda mobil berpenggerak terkait penerapan standar emisi euro4 airlangga mengklaim pelaku industri menjalankan aturan kemenperin berkoordinasi kementerian energi sumber daya mineral esdm pertamina perusahaan migas pelat merah diharapkan penerapan euro4 terlaksana harapan terpenuhi pembangunan kilang minyak cilacap rampung sisi mendukung konsep ramah lingkungan memperluas pasar ekspor kemenperin mendorong produsen memproduksi kendaraan beremisi rendah low carbon emission vehicle lcev kemenperin mencatat subsektor industri alat angkutan industri otomotif sumbangan pdb sektor industri non migas mencapai persen terbesar ketiga sub sektor industri makanan minuman persen subsektor industri barang logam komputer elektronik optik peralatan listrik persen\n",
      "menteri perindustrian airlangga hartarto australia berpeluang destinasi ekspor industri otomotif nasional pasar kendaraan roda mencapai juta unit australia produsen otomotif terpaksa tutup kesempatan bagus indonesia masuk pasar australia pemerintah industri otomotif tanah air agresif memperluas pasar ekspor menyeimbangkan kebutuhan pasar domestik\n"
     ]
    }
   ],
   "source": [
    "print(indosum['train'][10]['paragraphs'])\n",
    "print(indosum['train'][10]['summary'])"
   ]
  },
  {
   "cell_type": "markdown",
   "metadata": {
    "id": "akNF_iX-w9aq",
    "pycharm": {
     "name": "#%% md\n"
    }
   },
   "source": [
    "### Visualize Words Distribution"
   ]
  },
  {
   "cell_type": "code",
   "execution_count": 12,
   "metadata": {
    "colab": {
     "base_uri": "https://localhost:8080/",
     "height": 281
    },
    "id": "LOo12J3vwhNa",
    "outputId": "130bed51-9bd5-4047-d1ed-28e3ae8a2741",
    "pycharm": {
     "name": "#%%\n"
    }
   },
   "outputs": [
    {
     "data": {
      "image/png": "[encoded data removed]",
      "text/plain": [
       "<Figure size 432x288 with 2 Axes>"
      ]
     },
     "metadata": {
      "needs_background": "light"
     },
     "output_type": "display_data"
    }
   ],
   "source": [
    "import pandas as pd\n",
    "import matplotlib.pyplot as plt\n",
    "\n",
    "def visualize_words_distribution(dataset_dict):\n",
    "    content_count = []\n",
    "    summary_count = []\n",
    "\n",
    "    for split in dataset_dict.keys():\n",
    "        for news in dataset_dict[split]:\n",
    "            content_word_count = len(news['paragraphs'].split(' '))\n",
    "            summary_word_count = len(news['summary'].split(' '))\n",
    "            content_count.append(content_word_count)\n",
    "            summary_count.append(summary_word_count)\n",
    "\n",
    "    average_length = pd.DataFrame() \n",
    "\n",
    "    average_length['content'] = content_count\n",
    "    average_length['summary'] = summary_count\n",
    "\n",
    "    average_length.hist(bins = 5)\n",
    "    plt.show()\n",
    "    return average_length\n",
    "\n",
    "average_length = visualize_words_distribution(indosum)          "
   ]
  },
  {
   "cell_type": "code",
   "execution_count": 13,
   "metadata": {
    "colab": {
     "base_uri": "https://localhost:8080/"
    },
    "id": "QQkABhSdxBBt",
    "outputId": "cb06d230-929a-4d34-db7e-6f38bfac1194",
    "pycharm": {
     "name": "#%%\n"
    }
   },
   "outputs": [
    {
     "name": "stdout",
     "output_type": "stream",
     "text": [
      "0.958075110666857\n",
      "0.998429244609453\n"
     ]
    }
   ],
   "source": [
    "def count_words_length_percentage(max_len, length_list):\n",
    "    cnt = 0\n",
    "    for length in length_list:\n",
    "        if length <= max_len:\n",
    "            cnt = cnt + 1\n",
    "    return cnt / len(length_list)\n",
    "\n",
    "max_len_content = 300\n",
    "max_len_summary = 50\n",
    "\n",
    "print(count_words_length_percentage(max_len_content, average_length['content']))\n",
    "print(count_words_length_percentage(max_len_summary, average_length['summary']))"
   ]
  },
  {
   "cell_type": "code",
   "execution_count": 14,
   "metadata": {
    "id": "A2QA5036xGem",
    "pycharm": {
     "name": "#%%\n"
    }
   },
   "outputs": [],
   "source": [
    "indosum_new = {\n",
    "    'train': [],\n",
    "    'val': []\n",
    "}\n",
    "\n",
    "for split in indosum_new.keys():\n",
    "    for news in indosum[split]:\n",
    "        content_len = len(news['paragraphs'].split(' '))\n",
    "        summary_len = len(news['summary'].split(' '))\n",
    "        if (content_len < max_len_content) and (summary_len < (max_len_summary)):\n",
    "            indosum_new[split].append(news)"
   ]
  },
  {
   "cell_type": "code",
   "execution_count": 15,
   "metadata": {
    "pycharm": {
     "name": "#%%\n"
    }
   },
   "outputs": [
    {
     "name": "stdout",
     "output_type": "stream",
     "text": [
      "50793\n",
      "16042\n"
     ]
    }
   ],
   "source": [
    "for split in indosum_new.keys():\n",
    "    print(len(indosum_new[split]))"
   ]
  },
  {
   "cell_type": "code",
   "execution_count": 16,
   "metadata": {
    "colab": {
     "base_uri": "https://localhost:8080/",
     "height": 281
    },
    "id": "8xFdcXJWxJkv",
    "outputId": "799d4194-dadf-4a7d-84f1-dcd2e977c7bb",
    "pycharm": {
     "name": "#%%\n"
    }
   },
   "outputs": [
    {
     "data": {
      "image/png": "[encoded data removed]",
      "text/plain": [
       "<Figure size 432x288 with 2 Axes>"
      ]
     },
     "metadata": {
      "needs_background": "light"
     },
     "output_type": "display_data"
    }
   ],
   "source": [
    "average_length_new = visualize_words_distribution(indosum_new)"
   ]
  },
  {
   "cell_type": "markdown",
   "metadata": {
    "id": "ie13-qWJxPiX",
    "pycharm": {
     "name": "#%% md\n"
    }
   },
   "source": [
    "## Split to Train, Val"
   ]
  },
  {
   "cell_type": "code",
   "execution_count": 17,
   "metadata": {
    "id": "oBKkZV4_xLbu",
    "pycharm": {
     "name": "#%%\n"
    }
   },
   "outputs": [],
   "source": [
    "X = {\n",
    "    'train': [],\n",
    "     'val': []\n",
    "}\n",
    "for split in indosum_new.keys():\n",
    "    for news in indosum_new[split]:\n",
    "        X[split].append(news['paragraphs'])\n",
    "\n",
    "y = {\n",
    "    'train': [],\n",
    "     'val': []\n",
    "}\n",
    "for split in indosum_new.keys():\n",
    "    for news in indosum_new[split]:\n",
    "        summary = add_start_end_sequence(news['summary'])\n",
    "        y[split].append(summary)"
   ]
  },
  {
   "cell_type": "code",
   "execution_count": 18,
   "metadata": {
    "id": "-1GS4ybBxqwj",
    "pycharm": {
     "name": "#%%\n"
    }
   },
   "outputs": [],
   "source": [
    "import numpy as np\n",
    "\n",
    "X_train, X_val = np.array(X['train'], dtype='object'), np.array(X['val'], dtype='object')\n",
    "y_train, y_val = np.array(y['train'], dtype='object'), np.array(y['val'], dtype='object')"
   ]
  },
  {
   "cell_type": "markdown",
   "metadata": {
    "id": "8FQMxJECxf_9",
    "pycharm": {
     "name": "#%% md\n"
    }
   },
   "source": [
    "### Tokenization"
   ]
  },
  {
   "cell_type": "code",
   "execution_count": 19,
   "metadata": {
    "id": "E78cTTe_xa9F",
    "pycharm": {
     "name": "#%%\n"
    }
   },
   "outputs": [],
   "source": [
    "# Tokenize the text to get the vocab count \n",
    "from tensorflow.keras.preprocessing.text import Tokenizer \n",
    "from tensorflow.keras.preprocessing.sequence import pad_sequences\n",
    "\n",
    "# Prepare a tokenizer on training data\n",
    "x_tokenizer = Tokenizer(lower=False) \n",
    "x_tokenizer.fit_on_texts(list(X_train))"
   ]
  },
  {
   "cell_type": "code",
   "execution_count": 20,
   "metadata": {
    "colab": {
     "base_uri": "https://localhost:8080/"
    },
    "id": "F7OMbTtxyCW5",
    "outputId": "60f994d4-6105-4783-ee6e-08a679732481",
    "pycharm": {
     "name": "#%%\n"
    }
   },
   "outputs": [
    {
     "name": "stdout",
     "output_type": "stream",
     "text": [
      "Threshold: 4\n",
      "% of rare words in vocabulary:  7.636620049359502\n"
     ]
    }
   ],
   "source": [
    "# Counting the number of rare words\n",
    "def count_rare_words(threshold, tokenizer):\n",
    "    count = 0\n",
    "    total_count = 0\n",
    "\n",
    "    for key, value in tokenizer.word_counts.items():\n",
    "        total_count += 1\n",
    "        if value < threshold:\n",
    "            count += 1\n",
    "            \n",
    "    print('Threshold: {}'.format(threshold))\n",
    "    print(\"% of rare words in vocabulary: \", (count / total_count) * 100)\n",
    "\n",
    "    return count, total_count\n",
    "\n",
    "count, total_count = count_rare_words(4, x_tokenizer)"
   ]
  },
  {
   "cell_type": "code",
   "execution_count": 21,
   "metadata": {
    "colab": {
     "base_uri": "https://localhost:8080/"
    },
    "id": "Ty348odxyKlK",
    "outputId": "dd390174-0c53-4906-e53d-e915fc169865",
    "pycharm": {
     "name": "#%%\n"
    }
   },
   "outputs": [
    {
     "name": "stdout",
     "output_type": "stream",
     "text": [
      "Size of vocabulary in X = 78593\n"
     ]
    }
   ],
   "source": [
    "padding_type = 'post'\n",
    "truncation_type = 'post'\n",
    "\n",
    "# Prepare tokenizer without rare_words\n",
    "x_tokenizer = Tokenizer(num_words = total_count - count, lower=False) \n",
    "x_tokenizer.fit_on_texts(list(X_train))\n",
    "\n",
    "# Convert text sequences to integer sequences \n",
    "x_train_seq = x_tokenizer.texts_to_sequences(X_train) \n",
    "x_val_seq = x_tokenizer.texts_to_sequences(X_val)\n",
    "\n",
    "# Pad zero upto maximum length\n",
    "x_train = pad_sequences(x_train_seq,  maxlen=max_len_content, padding=padding_type, truncating=truncation_type)\n",
    "x_val = pad_sequences(x_val_seq, maxlen=max_len_content, padding=padding_type, truncating=truncation_type)\n",
    "\n",
    "# Size of vocabulary (+1 for padding token)\n",
    "x_vocab = x_tokenizer.num_words + 1\n",
    "\n",
    "print(\"Size of vocabulary in X = {}\".format(x_vocab))"
   ]
  },
  {
   "cell_type": "code",
   "execution_count": 22,
   "metadata": {
    "pycharm": {
     "name": "#%%\n"
    }
   },
   "outputs": [],
   "source": [
    "x_word_index = x_tokenizer.word_index"
   ]
  },
  {
   "cell_type": "code",
   "execution_count": 23,
   "metadata": {
    "colab": {
     "base_uri": "https://localhost:8080/"
    },
    "id": "hClY_voHyXKQ",
    "outputId": "cf19fab3-275e-443e-a217-b5dab58a891d",
    "pycharm": {
     "name": "#%%\n"
    }
   },
   "outputs": [
    {
     "name": "stdout",
     "output_type": "stream",
     "text": [
      "Threshold: 4\n",
      "% of rare words in vocabulary:  7.980915202775971\n"
     ]
    }
   ],
   "source": [
    "# Prepare a tokenizer on test data\n",
    "y_tokenizer = Tokenizer(lower=False)\n",
    "y_tokenizer.fit_on_texts(list(y_train))\n",
    "\n",
    "count_test, total_count_test = count_rare_words(4, y_tokenizer)"
   ]
  },
  {
   "cell_type": "code",
   "execution_count": 24,
   "metadata": {
    "colab": {
     "base_uri": "https://localhost:8080/"
    },
    "id": "2KcwIkEKyhea",
    "outputId": "6cf44787-3e25-417d-ca24-146cf891c19c",
    "pycharm": {
     "name": "#%%\n"
    }
   },
   "outputs": [
    {
     "name": "stdout",
     "output_type": "stream",
     "text": [
      "Size of vocabulary in y = 38188\n"
     ]
    }
   ],
   "source": [
    "# Prepare a tokenizer, again -- by not considering the rare words\n",
    "y_tokenizer = Tokenizer(num_words = total_count_test - count_test, lower=False)\n",
    "y_tokenizer.fit_on_texts(list(y_train))\n",
    "\n",
    "# Convert text sequences to integer sequences \n",
    "y_train_seq = y_tokenizer.texts_to_sequences(y_train) \n",
    "y_val_seq = y_tokenizer.texts_to_sequences(y_val)\n",
    "\n",
    "\n",
    "# Pad zero upto maximum length\n",
    "y_train = pad_sequences(y_train_seq,  maxlen=max_len_summary, padding=padding_type, truncating=truncation_type)\n",
    "y_val = pad_sequences(y_val_seq, maxlen=max_len_summary, padding=padding_type, truncating=truncation_type)\n",
    "\n",
    "# Size of vocabulary (+1 for padding token)\n",
    "y_vocab = y_tokenizer.num_words + 1\n",
    "\n",
    "print(\"Size of vocabulary in y = {}\".format(y_vocab))"
   ]
  },
  {
   "cell_type": "code",
   "execution_count": 25,
   "metadata": {
    "pycharm": {
     "name": "#%%\n"
    }
   },
   "outputs": [],
   "source": [
    "y_word_index = y_tokenizer.word_index"
   ]
  },
  {
   "cell_type": "markdown",
   "metadata": {
    "pycharm": {
     "name": "#%% md\n"
    }
   },
   "source": [
    "### Get Word Embedding"
   ]
  },
  {
   "cell_type": "code",
   "execution_count": 26,
   "metadata": {
    "pycharm": {
     "name": "#%%\n"
    }
   },
   "outputs": [
    {
     "data": {
      "text/plain": [
       "array([ 0.84189427,  0.47632346, -1.1766492 ,  0.25574908,  0.09264122,\n",
       "       -2.7322097 ,  0.8570757 , -0.57358754,  1.0942527 , -0.9513626 ,\n",
       "        2.9275017 ,  0.35804108,  1.2643884 , -0.7866188 ,  0.87832814,\n",
       "        0.09763497, -0.6606212 , -0.28487957,  0.916794  ,  0.9691184 ,\n",
       "        0.88071096, -2.3729293 ,  0.13130492,  2.2228258 , -0.863914  ,\n",
       "       -1.1509233 , -1.0396649 ,  2.601395  ,  0.7902187 , -0.19417086,\n",
       "        0.976901  ,  0.6401671 ,  0.0897091 ,  0.94686574, -1.9991553 ,\n",
       "        0.9908602 , -0.31589964,  1.5877668 , -0.36063603,  0.49553853,\n",
       "       -0.19416898,  1.48142   , -0.8472128 ,  0.15805113,  0.979304  ,\n",
       "        0.31823194,  2.0998394 , -0.8014474 , -0.18803787, -0.3232879 ,\n",
       "        1.3980634 ,  1.5919431 ,  2.5725882 ,  1.2681477 , -0.18499345,\n",
       "        0.19948776, -2.2788723 ,  1.2867996 ,  3.758738  ,  0.81254876,\n",
       "       -2.6911812 , -0.5403767 ,  1.4493308 ,  1.8177983 ,  1.473583  ,\n",
       "        1.275461  , -1.2754492 , -1.7918911 , -1.7170591 ,  0.05208469,\n",
       "        1.1314856 ,  0.3282458 , -2.260028  ,  0.12303051, -1.0145904 ,\n",
       "       -0.45807454, -1.7041118 , -0.5134358 , -0.46123886,  0.9832933 ,\n",
       "       -1.3609908 , -1.192301  ,  0.9095197 ,  0.46690068, -1.8577619 ,\n",
       "        0.2546481 , -1.8626399 , -0.21854572, -0.5948503 ,  0.29084194,\n",
       "        0.3088384 ,  0.5854333 ,  0.16907746, -0.76302606, -0.90147036,\n",
       "        0.5047335 ,  0.24605367,  2.4326434 , -0.38056543,  2.1013048 ,\n",
       "       -0.00973563,  1.4264611 , -1.1019564 , -1.2629119 ,  1.6528249 ,\n",
       "        1.9557798 ,  0.51210093,  2.2892125 , -2.4899945 ,  0.5229085 ,\n",
       "        0.9967048 ,  2.4090257 ,  1.6194743 ,  2.5106907 , -0.04265797,\n",
       "       -1.4861604 , -0.81719744,  1.0009538 ,  0.14734349,  0.8730998 ,\n",
       "       -1.0103164 , -1.0780973 , -2.0042303 ,  0.6184254 ,  0.06647666,\n",
       "        1.1017898 , -0.89737165, -2.0816333 ,  2.4657624 , -1.4992104 ,\n",
       "       -0.9675281 ,  0.7800548 ,  0.36172137, -0.4494958 , -2.7134862 ,\n",
       "        1.4245093 , -1.5625652 ,  0.78049076, -2.532963  , -0.53433526,\n",
       "        1.20554   ,  2.0632005 , -0.7962232 , -0.2595752 ,  0.748361  ,\n",
       "        3.3166385 , -1.6740175 , -2.9479315 , -1.1358476 , -0.51808333,\n",
       "        2.1702511 , -0.11329231, -0.6122602 , -0.6438355 , -0.10100013,\n",
       "       -1.2174095 , -1.3536557 , -0.3743522 ,  2.0112247 ,  0.54570454,\n",
       "        2.6141627 , -2.1861985 ,  1.7646154 , -0.7882613 ,  2.064022  ,\n",
       "        0.892677  ,  0.6882267 , -0.5327495 ,  1.8328391 , -0.32006326,\n",
       "        0.33745217,  1.963614  , -0.70459133, -1.0762585 , -0.5897646 ,\n",
       "        1.331297  , -0.5253221 , -2.0231335 , -1.1166325 , -1.8601593 ,\n",
       "        0.49053168, -0.847148  , -2.9857783 , -0.7143903 ,  2.2169998 ,\n",
       "       -0.06143055, -0.86742765, -1.8148705 , -0.3556237 ,  1.0943035 ,\n",
       "       -0.5731347 , -1.50336   ,  1.29169   , -0.5512016 ,  0.8245741 ,\n",
       "       -1.3456445 ,  1.454113  ,  0.59977466, -0.93433815, -0.47029474,\n",
       "       -0.8624339 ,  0.09436756, -1.2401412 ,  0.6099164 ,  0.5466904 ,\n",
       "       -1.6714251 , -0.33711898, -1.6994263 ,  2.5818205 ,  2.950675  ,\n",
       "        0.05598449, -0.8674506 ,  0.14350854,  0.8110708 , -0.64058805,\n",
       "       -0.9834006 ,  1.2052974 , -1.0871615 , -2.7631664 ,  1.3563614 ,\n",
       "       -1.7209209 ,  1.804569  , -0.7069651 ,  2.0304992 , -0.92745614,\n",
       "       -0.37068126, -1.1769459 , -0.94858694,  2.0538201 ,  0.08538956,\n",
       "       -1.5138323 ,  1.6493819 , -1.4506408 ,  0.12623686, -2.311502  ,\n",
       "       -0.7846286 , -0.8928078 , -0.2421893 ,  1.2991664 , -0.10529761,\n",
       "        1.1767457 , -0.9780071 ,  0.9693564 , -1.9485844 ,  0.64555013,\n",
       "       -1.4992136 , -0.6871849 , -0.06727478,  0.3994892 , -1.7748761 ,\n",
       "       -1.3410077 ,  0.23987226, -1.5460573 , -0.94531316, -1.9919517 ,\n",
       "        1.6320791 , -0.6514833 , -0.02276575,  2.010147  ,  0.27371663,\n",
       "        0.16329849,  1.3484743 , -2.6513557 ,  1.9201682 ,  1.4922738 ,\n",
       "        0.8048245 , -0.03143608, -0.7486313 ,  1.0471808 , -1.1914489 ,\n",
       "       -1.0316133 ,  1.5069357 ,  1.0697224 ,  0.27076995,  0.63536936,\n",
       "        0.44773948,  0.7034602 ,  0.49694452,  0.7635038 , -1.7811817 ,\n",
       "       -1.3322519 ,  1.5242565 ,  1.87129   ,  1.6817806 ,  0.5332481 ,\n",
       "       -2.6529312 , -2.3116426 , -1.0979118 ,  0.59062773, -0.41106427,\n",
       "        1.852839  , -0.16173826,  0.4080242 , -0.2131629 , -1.7209237 ,\n",
       "       -1.3789681 ,  3.0902762 ,  0.6007698 , -1.8858826 ,  0.43470457],\n",
       "      dtype=float32)"
      ]
     },
     "execution_count": 26,
     "metadata": {},
     "output_type": "execute_result"
    }
   ],
   "source": [
    "emb_model.wv['jakarta']"
   ]
  },
  {
   "cell_type": "code",
   "execution_count": 27,
   "metadata": {
    "pycharm": {
     "name": "#%%\n"
    }
   },
   "outputs": [
    {
     "data": {
      "text/plain": [
       "(300,)"
      ]
     },
     "execution_count": 27,
     "metadata": {},
     "output_type": "execute_result"
    }
   ],
   "source": [
    "emb_model.wv['jakarta'].shape"
   ]
  },
  {
   "cell_type": "code",
   "execution_count": 28,
   "metadata": {
    "pycharm": {
     "name": "#%%\n"
    },
    "scrolled": true
   },
   "outputs": [],
   "source": [
    "#embedded_words = list(emb_model.wv.index_to_key)\n",
    "#words_in_embedding = 0\n",
    "#words_not_in_embed = []\n",
    "#for word in x_word_index:\n",
    "#    if word in embedded_words:\n",
    "#        words_in_embedding += 1\n",
    "#    else:\n",
    "#        words_not_in_embed.append(word)\n",
    "\n",
    "#print('{} out of {} words in tokenized dictionary exist in embedding'.format(words_in_embedding, len(x_word_index)))\n",
    "#print('There are {} words not in word2vec'.format(len(x_word_index) - words_in_embedding))"
   ]
  },
  {
   "cell_type": "code",
   "execution_count": 29,
   "metadata": {
    "pycharm": {
     "name": "#%%\n"
    }
   },
   "outputs": [
    {
     "data": {
      "text/plain": [
       "85090"
      ]
     },
     "execution_count": 29,
     "metadata": {},
     "output_type": "execute_result"
    }
   ],
   "source": [
    "len(x_tokenizer.word_index)"
   ]
  },
  {
   "cell_type": "code",
   "execution_count": 30,
   "metadata": {
    "pycharm": {
     "name": "#%%\n"
    }
   },
   "outputs": [
    {
     "data": {
      "text/plain": [
       "78592"
      ]
     },
     "execution_count": 30,
     "metadata": {},
     "output_type": "execute_result"
    }
   ],
   "source": [
    "x_tokenizer.num_words"
   ]
  },
  {
   "cell_type": "code",
   "execution_count": 31,
   "metadata": {
    "pycharm": {
     "name": "#%%\n"
    }
   },
   "outputs": [],
   "source": [
    "import numpy as np\n",
    "\n",
    "embedding_dim = 300\n",
    "\n",
    "#embedding_matrix = np.zeros((x_vocab, max_len_content))\n",
    "embedding_matrix = np.zeros((len(x_word_index)+1, max_len_content))\n",
    "for word, i in x_word_index.items():\n",
    "    try:\n",
    "        embedding_vector = emb_model.wv[word]\n",
    "        if embedding_vector is not None:\n",
    "            embedding_matrix[i] = embedding_vector\n",
    "    except:\n",
    "        embedding_matrix[i] = np.zeros(embedding_dim, None)\n",
    "    \n",
    "    "
   ]
  },
  {
   "cell_type": "code",
   "execution_count": 32,
   "metadata": {
    "pycharm": {
     "name": "#%%\n"
    }
   },
   "outputs": [
    {
     "data": {
      "text/plain": [
       "78592"
      ]
     },
     "execution_count": 32,
     "metadata": {},
     "output_type": "execute_result"
    }
   ],
   "source": [
    "x_tokenizer.num_words"
   ]
  },
  {
   "cell_type": "code",
   "execution_count": 33,
   "metadata": {
    "pycharm": {
     "name": "#%%\n"
    }
   },
   "outputs": [
    {
     "data": {
      "text/plain": [
       "85090"
      ]
     },
     "execution_count": 33,
     "metadata": {},
     "output_type": "execute_result"
    }
   ],
   "source": [
    "len(x_word_index)"
   ]
  },
  {
   "cell_type": "markdown",
   "metadata": {
    "id": "EyawoO4hywL-",
    "pycharm": {
     "name": "#%% md\n"
    }
   },
   "source": [
    "## Building Model"
   ]
  },
  {
   "cell_type": "code",
   "execution_count": 34,
   "metadata": {
    "id": "OcK1oGYayoD6",
    "pycharm": {
     "name": "#%%\n"
    }
   },
   "outputs": [],
   "source": [
    "#Model Building\n",
    "\n",
    "#Adding Custom Attention layer \n",
    "\n",
    "import tensorflow as tf\n",
    "import os\n",
    "from tensorflow.keras.layers import Layer\n",
    "from tensorflow.keras import backend as K\n",
    "\n",
    "\n",
    "class AttentionLayer(Layer):\n",
    "    \"\"\"\n",
    "    This class implements Bahdanau attention (https://arxiv.org/pdf/1409.0473.pdf).\n",
    "    There are three sets of weights introduced W_a, U_a, and V_a\n",
    "     \"\"\"\n",
    "\n",
    "    def __init__(self, **kwargs):\n",
    "        super(AttentionLayer, self).__init__(**kwargs)\n",
    "\n",
    "    def build(self, input_shape):\n",
    "        assert isinstance(input_shape, list)\n",
    "        # Create a trainable weight variable for this layer.\n",
    "\n",
    "        self.W_a = self.add_weight(name='W_a',\n",
    "                                   shape=tf.TensorShape((input_shape[0][2], input_shape[0][2])),\n",
    "                                   initializer='uniform',\n",
    "                                   trainable=True)\n",
    "        self.U_a = self.add_weight(name='U_a',\n",
    "                                   shape=tf.TensorShape((input_shape[1][2], input_shape[0][2])),\n",
    "                                   initializer='uniform',\n",
    "                                   trainable=True)\n",
    "        self.V_a = self.add_weight(name='V_a',\n",
    "                                   shape=tf.TensorShape((input_shape[0][2], 1)),\n",
    "                                   initializer='uniform',\n",
    "                                   trainable=True)\n",
    "\n",
    "        super(AttentionLayer, self).build(input_shape)  # Be sure to call this at the end\n",
    "\n",
    "    def call(self, inputs, verbose=False):\n",
    "        \"\"\"\n",
    "        inputs: [encoder_output_sequence, decoder_output_sequence]\n",
    "        \"\"\"\n",
    "        assert type(inputs) == list\n",
    "        encoder_out_seq, decoder_out_seq = inputs\n",
    "        if verbose:\n",
    "            print('encoder_out_seq>', encoder_out_seq.shape)\n",
    "            print('decoder_out_seq>', decoder_out_seq.shape)\n",
    "\n",
    "        def energy_step(inputs, states):\n",
    "            \"\"\" Step function for computing energy for a single decoder state \"\"\"\n",
    "\n",
    "            assert_msg = \"States must be a list. However states {} is of type {}\".format(states, type(states))\n",
    "            assert isinstance(states, list) or isinstance(states, tuple), assert_msg\n",
    "\n",
    "            \"\"\" Some parameters required for shaping tensors\"\"\"\n",
    "            en_seq_len, en_hidden = encoder_out_seq.shape[1], encoder_out_seq.shape[2]\n",
    "            de_hidden = inputs.shape[-1]\n",
    "\n",
    "            \"\"\" Computing S.Wa where S=[s0, s1, ..., si]\"\"\"\n",
    "            # <= batch_size*en_seq_len, latent_dim\n",
    "            reshaped_enc_outputs = K.reshape(encoder_out_seq, (-1, en_hidden))\n",
    "            # <= batch_size*en_seq_len, latent_dim\n",
    "            W_a_dot_s = K.reshape(K.dot(reshaped_enc_outputs, self.W_a), (-1, en_seq_len, en_hidden))\n",
    "            if verbose:\n",
    "                print('wa.s>',W_a_dot_s.shape)\n",
    "\n",
    "            \"\"\" Computing hj.Ua \"\"\"\n",
    "            U_a_dot_h = K.expand_dims(K.dot(inputs, self.U_a), 1)  # <= batch_size, 1, latent_dim\n",
    "            if verbose:\n",
    "                print('Ua.h>',U_a_dot_h.shape)\n",
    "\n",
    "            \"\"\" tanh(S.Wa + hj.Ua) \"\"\"\n",
    "            # <= batch_size*en_seq_len, latent_dim\n",
    "            reshaped_Ws_plus_Uh = K.tanh(K.reshape(W_a_dot_s + U_a_dot_h, (-1, en_hidden)))\n",
    "            if verbose:\n",
    "                print('Ws+Uh>', reshaped_Ws_plus_Uh.shape)\n",
    "\n",
    "            \"\"\" softmax(va.tanh(S.Wa + hj.Ua)) \"\"\"\n",
    "            # <= batch_size, en_seq_len\n",
    "            e_i = K.reshape(K.dot(reshaped_Ws_plus_Uh, self.V_a), (-1, en_seq_len))\n",
    "            # <= batch_size, en_seq_len\n",
    "            e_i = K.softmax(e_i)\n",
    "\n",
    "            if verbose:\n",
    "                print('ei>', e_i.shape)\n",
    "\n",
    "            return e_i, [e_i]\n",
    "\n",
    "        def context_step(inputs, states):\n",
    "            \"\"\" Step function for computing ci using ei \"\"\"\n",
    "            # <= batch_size, hidden_size\n",
    "            c_i = K.sum(encoder_out_seq * K.expand_dims(inputs, -1), axis=1)\n",
    "            if verbose:\n",
    "                print('ci>', c_i.shape)\n",
    "            return c_i, [c_i]\n",
    "\n",
    "        def create_inital_state(inputs, hidden_size):\n",
    "            # We are not using initial states, but need to pass something to K.rnn funciton\n",
    "            fake_state = K.zeros_like(inputs)  # <= (batch_size, enc_seq_len, latent_dim\n",
    "            fake_state = K.sum(fake_state, axis=[1, 2])  # <= (batch_size)\n",
    "            fake_state = K.expand_dims(fake_state)  # <= (batch_size, 1)\n",
    "            fake_state = K.tile(fake_state, [1, hidden_size])  # <= (batch_size, latent_dim\n",
    "            return fake_state\n",
    "\n",
    "        fake_state_c = create_inital_state(encoder_out_seq, encoder_out_seq.shape[-1])\n",
    "        fake_state_e = create_inital_state(encoder_out_seq, encoder_out_seq.shape[1])  # <= (batch_size, enc_seq_len, latent_dim\n",
    "\n",
    "        \"\"\" Computing energy outputs \"\"\"\n",
    "        # e_outputs => (batch_size, de_seq_len, en_seq_len)\n",
    "        last_out, e_outputs, _ = K.rnn(\n",
    "            energy_step, decoder_out_seq, [fake_state_e],\n",
    "        )\n",
    "\n",
    "        \"\"\" Computing context vectors \"\"\"\n",
    "        last_out, c_outputs, _ = K.rnn(\n",
    "            context_step, e_outputs, [fake_state_c],\n",
    "        )\n",
    "\n",
    "        return c_outputs, e_outputs\n",
    "\n",
    "    def compute_output_shape(self, input_shape):\n",
    "        \"\"\" Outputs produced by the layer \"\"\"\n",
    "        return [\n",
    "            tf.TensorShape((input_shape[1][0], input_shape[1][1], input_shape[1][2])),\n",
    "            tf.TensorShape((input_shape[1][0], input_shape[1][1], input_shape[0][1]))\n",
    "        ]"
   ]
  },
  {
   "cell_type": "code",
   "execution_count": 35,
   "metadata": {
    "id": "pqlQAEEVy3S6",
    "pycharm": {
     "name": "#%%\n"
    }
   },
   "outputs": [],
   "source": [
    "from tensorflow.keras.preprocessing.text import Tokenizer\n",
    "from tensorflow.keras.preprocessing.sequence import pad_sequences\n",
    "from tensorflow.keras.layers import Input, LSTM, Embedding, Dense, \\\n",
    "    Concatenate, TimeDistributed\n",
    "from tensorflow.keras.models import Model\n",
    "from tensorflow.keras.callbacks import EarlyStopping"
   ]
  },
  {
   "cell_type": "code",
   "execution_count": 36,
   "metadata": {
    "pycharm": {
     "name": "#%%\n"
    }
   },
   "outputs": [
    {
     "data": {
      "text/plain": [
       "(85091, 300)"
      ]
     },
     "execution_count": 36,
     "metadata": {},
     "output_type": "execute_result"
    }
   ],
   "source": [
    "embedding_matrix.shape"
   ]
  },
  {
   "cell_type": "code",
   "execution_count": 37,
   "metadata": {
    "colab": {
     "base_uri": "https://localhost:8080/"
    },
    "id": "1MOd9Ogly9me",
    "outputId": "fc50bcbd-d814-4eb0-a095-a5608556a7c8",
    "pycharm": {
     "name": "#%%\n"
    }
   },
   "outputs": [
    {
     "name": "stderr",
     "output_type": "stream",
     "text": [
      "2022-06-10 02:12:27.507597: I tensorflow/stream_executor/cuda/cuda_gpu_executor.cc:936] successful NUMA node read from SysFS had negative value (-1), but there must be at least one NUMA node, so returning NUMA node zero\n",
      "2022-06-10 02:12:27.770628: I tensorflow/stream_executor/cuda/cuda_gpu_executor.cc:936] successful NUMA node read from SysFS had negative value (-1), but there must be at least one NUMA node, so returning NUMA node zero\n",
      "2022-06-10 02:12:27.771334: I tensorflow/stream_executor/cuda/cuda_gpu_executor.cc:936] successful NUMA node read from SysFS had negative value (-1), but there must be at least one NUMA node, so returning NUMA node zero\n",
      "2022-06-10 02:12:27.773122: I tensorflow/core/platform/cpu_feature_guard.cc:151] This TensorFlow binary is optimized with oneAPI Deep Neural Network Library (oneDNN) to use the following CPU instructions in performance-critical operations:  AVX2 FMA\n",
      "To enable them in other operations, rebuild TensorFlow with the appropriate compiler flags.\n",
      "2022-06-10 02:12:27.774590: I tensorflow/stream_executor/cuda/cuda_gpu_executor.cc:936] successful NUMA node read from SysFS had negative value (-1), but there must be at least one NUMA node, so returning NUMA node zero\n",
      "2022-06-10 02:12:27.775204: I tensorflow/stream_executor/cuda/cuda_gpu_executor.cc:936] successful NUMA node read from SysFS had negative value (-1), but there must be at least one NUMA node, so returning NUMA node zero\n",
      "2022-06-10 02:12:27.775809: I tensorflow/stream_executor/cuda/cuda_gpu_executor.cc:936] successful NUMA node read from SysFS had negative value (-1), but there must be at least one NUMA node, so returning NUMA node zero\n",
      "2022-06-10 02:12:30.476473: I tensorflow/stream_executor/cuda/cuda_gpu_executor.cc:936] successful NUMA node read from SysFS had negative value (-1), but there must be at least one NUMA node, so returning NUMA node zero\n",
      "2022-06-10 02:12:30.477182: I tensorflow/stream_executor/cuda/cuda_gpu_executor.cc:936] successful NUMA node read from SysFS had negative value (-1), but there must be at least one NUMA node, so returning NUMA node zero\n",
      "2022-06-10 02:12:30.477872: I tensorflow/stream_executor/cuda/cuda_gpu_executor.cc:936] successful NUMA node read from SysFS had negative value (-1), but there must be at least one NUMA node, so returning NUMA node zero\n",
      "2022-06-10 02:12:30.479572: I tensorflow/core/common_runtime/gpu/gpu_device.cc:1525] Created device /job:localhost/replica:0/task:0/device:GPU:0 with 13823 MB memory:  -> device: 0, name: Tesla T4, pci bus id: 0000:00:04.0, compute capability: 7.5\n"
     ]
    },
    {
     "name": "stdout",
     "output_type": "stream",
     "text": [
      "Model: \"model\"\n",
      "__________________________________________________________________________________________________\n",
      " Layer (type)                   Output Shape         Param #     Connected to                     \n",
      "==================================================================================================\n",
      " text_input (InputLayer)        [(None, 300)]        0           []                               \n",
      "                                                                                                  \n",
      " embedding (Embedding)          (None, 300, 300)     25527300    ['text_input[0][0]']             \n",
      "                                                                                                  \n",
      " lstm (LSTM)                    [(None, 300, 300),   721200      ['embedding[0][0]']              \n",
      "                                 (None, 300),                                                     \n",
      "                                 (None, 300)]                                                     \n",
      "                                                                                                  \n",
      " input_1 (InputLayer)           [(None, None)]       0           []                               \n",
      "                                                                                                  \n",
      " lstm_1 (LSTM)                  [(None, 300, 300),   721200      ['lstm[0][0]']                   \n",
      "                                 (None, 300),                                                     \n",
      "                                 (None, 300)]                                                     \n",
      "                                                                                                  \n",
      " embedding_1 (Embedding)        (None, None, 300)    11456400    ['input_1[0][0]']                \n",
      "                                                                                                  \n",
      " lstm_2 (LSTM)                  [(None, 300, 300),   721200      ['lstm_1[0][0]']                 \n",
      "                                 (None, 300),                                                     \n",
      "                                 (None, 300)]                                                     \n",
      "                                                                                                  \n",
      " lstm_3 (LSTM)                  [(None, None, 300),  721200      ['embedding_1[0][0]',            \n",
      "                                 (None, 300),                     'lstm_2[0][1]',                 \n",
      "                                 (None, 300)]                     'lstm_2[0][2]']                 \n",
      "                                                                                                  \n",
      " attention_layer (AttentionLaye  ((None, None, 300),  180300     ['lstm_2[0][0]',                 \n",
      " r)                              (None, None, 300))               'lstm_3[0][0]']                 \n",
      "                                                                                                  \n",
      " concat_layer (Concatenate)     (None, None, 600)    0           ['lstm_3[0][0]',                 \n",
      "                                                                  'attention_layer[0][0]']        \n",
      "                                                                                                  \n",
      " time_distributed (TimeDistribu  (None, None, 38188)  22950988   ['concat_layer[0][0]']           \n",
      " ted)                                                                                             \n",
      "                                                                                                  \n",
      "==================================================================================================\n",
      "Total params: 62,999,788\n",
      "Trainable params: 37,472,488\n",
      "Non-trainable params: 25,527,300\n",
      "__________________________________________________________________________________________________\n"
     ]
    }
   ],
   "source": [
    "K.clear_session()\n",
    "\n",
    "latent_dim = 300\n",
    "embedding_dim = 300\n",
    "\n",
    "# Setup encoder\n",
    "encoder_inputs = Input(shape=(max_len_content, ), name='text_input')\n",
    "\n",
    "encoder_emb = Embedding(len(x_word_index)+1, embedding_dim, trainable=False,\n",
    "                       weights=[embedding_matrix],\n",
    "                        input_length=max_len_content)(encoder_inputs)\n",
    "\n",
    "#encoder lstm 1\n",
    "encoder_lstm1 = LSTM(latent_dim,return_sequences=True,return_state=True,dropout=0.4)\n",
    "encoder_output1, state_h1, state_c1 = encoder_lstm1(encoder_emb)\n",
    "\n",
    "#encoder lstm 2\n",
    "encoder_lstm2 = LSTM(latent_dim,return_sequences=True,return_state=True,dropout=0.4)\n",
    "encoder_output2, state_h2, state_c2 = encoder_lstm2(encoder_output1)\n",
    "\n",
    "#encoder lstm 3\n",
    "encoder_lstm3 = LSTM(latent_dim,return_sequences=True,return_state=True,dropout=0.4)\n",
    "encoder_outputs, state_h, state_c = encoder_lstm3(encoder_output2)\n",
    "\n",
    "#Setting up the Decoder using 'encoder_states' as initial state\n",
    "decoder_inputs = Input(shape=(None,))\n",
    "\n",
    "#Embedding layer\n",
    "decoder_emb_layer = Embedding(y_vocab, embedding_dim,trainable=True)\n",
    "decoder_emb = decoder_emb_layer(decoder_inputs)\n",
    "\n",
    "decoder_lstm = LSTM(latent_dim, return_sequences=True, return_state=True,dropout=0.4)\n",
    "decoder_outputs,decoder_fwd_state, decoder_back_state = decoder_lstm(decoder_emb,initial_state=[state_h, state_c])\n",
    "\n",
    "#Attention layer\n",
    "attn_layer = AttentionLayer(name='attention_layer')\n",
    "attn_out, attn_states = attn_layer([encoder_outputs, decoder_outputs])\n",
    "\n",
    "#Concating Attention input and Decoder LSTM output\n",
    "decoder_concat_input = Concatenate(axis=-1, name='concat_layer')([decoder_outputs, attn_out])\n",
    "\n",
    "# Dense Layer\n",
    "decoder_dense = TimeDistributed(Dense(y_vocab, activation='softmax'))\n",
    "decoder_outputs = decoder_dense(decoder_concat_input)\n",
    "\n",
    "# Define the model\n",
    "model = Model([encoder_inputs, decoder_inputs], decoder_outputs)\n",
    "\n",
    "model.summary()"
   ]
  },
  {
   "cell_type": "code",
   "execution_count": 38,
   "metadata": {
    "id": "s2FnxVSm0Zbq",
    "pycharm": {
     "name": "#%%\n"
    }
   },
   "outputs": [],
   "source": [
    "#Visualize the Model\n",
    "from tensorflow.keras.utils import plot_model\n",
    "\n",
    "#plot_model(model, to_file='model_plot.png', show_shapes=True, show_layer_names=True)"
   ]
  },
  {
   "cell_type": "code",
   "execution_count": 39,
   "metadata": {
    "id": "ljOUGgeg0ezn",
    "pycharm": {
     "name": "#%%\n"
    }
   },
   "outputs": [],
   "source": [
    "from tensorflow.keras.callbacks import ModelCheckpoint\n",
    "\n",
    "#Adding Metrics\n",
    "model.compile(optimizer='rmsprop' , loss='sparse_categorical_crossentropy' , metrics=['accuracy'])\n",
    "\n",
    "#Adding Callback\n",
    "es = EarlyStopping(monitor='val_loss', mode='min', verbose=1, patience=3)"
   ]
  },
  {
   "cell_type": "code",
   "execution_count": 40,
   "metadata": {
    "colab": {
     "base_uri": "https://localhost:8080/"
    },
    "id": "ogPFBdfI0naA",
    "outputId": "48671a4d-0492-4d34-eac1-db634635e046",
    "pycharm": {
     "name": "#%%\n"
    }
   },
   "outputs": [
    {
     "name": "stdout",
     "output_type": "stream",
     "text": [
      "Epoch 1/50\n"
     ]
    },
    {
     "name": "stderr",
     "output_type": "stream",
     "text": [
      "2022-06-10 02:12:40.709237: I tensorflow/stream_executor/cuda/cuda_dnn.cc:368] Loaded cuDNN version 8200\n"
     ]
    },
    {
     "name": "stdout",
     "output_type": "stream",
     "text": [
      "794/794 [==============================] - 679s 839ms/step - loss: 6.0105 - accuracy: 0.2856 - val_loss: 5.2822 - val_accuracy: 0.3174\n",
      "Epoch 2/50\n",
      "794/794 [==============================] - 665s 838ms/step - loss: 5.0617 - accuracy: 0.3317 - val_loss: 4.6137 - val_accuracy: 0.3581\n",
      "Epoch 3/50\n",
      "794/794 [==============================] - 665s 838ms/step - loss: 4.5280 - accuracy: 0.3655 - val_loss: 4.1597 - val_accuracy: 0.3916\n",
      "Epoch 4/50\n",
      "794/794 [==============================] - 664s 836ms/step - loss: 4.1227 - accuracy: 0.3946 - val_loss: 3.7758 - val_accuracy: 0.4220\n",
      "Epoch 5/50\n",
      "794/794 [==============================] - 661s 833ms/step - loss: 3.7945 - accuracy: 0.4215 - val_loss: 3.4563 - val_accuracy: 0.4518\n",
      "Epoch 6/50\n",
      "794/794 [==============================] - 661s 833ms/step - loss: 3.5191 - accuracy: 0.4470 - val_loss: 3.1965 - val_accuracy: 0.4797\n",
      "Epoch 7/50\n",
      "794/794 [==============================] - 661s 833ms/step - loss: 3.2937 - accuracy: 0.4706 - val_loss: 2.9809 - val_accuracy: 0.5051\n",
      "Epoch 8/50\n",
      "794/794 [==============================] - 661s 833ms/step - loss: 3.1055 - accuracy: 0.4919 - val_loss: 2.7986 - val_accuracy: 0.5276\n",
      "Epoch 9/50\n",
      "794/794 [==============================] - 659s 830ms/step - loss: 2.9289 - accuracy: 0.5123 - val_loss: 2.6171 - val_accuracy: 0.5541\n",
      "Epoch 10/50\n",
      "794/794 [==============================] - 658s 829ms/step - loss: 2.7830 - accuracy: 0.5310 - val_loss: 2.4715 - val_accuracy: 0.5744\n",
      "Epoch 11/50\n",
      "794/794 [==============================] - 658s 829ms/step - loss: 2.6492 - accuracy: 0.5480 - val_loss: 2.3328 - val_accuracy: 0.5944\n",
      "Epoch 12/50\n",
      "794/794 [==============================] - 658s 829ms/step - loss: 2.5291 - accuracy: 0.5646 - val_loss: 2.2174 - val_accuracy: 0.6135\n",
      "Epoch 13/50\n",
      "794/794 [==============================] - 658s 828ms/step - loss: 2.4273 - accuracy: 0.5796 - val_loss: 2.1070 - val_accuracy: 0.6308\n",
      "Epoch 14/50\n",
      "794/794 [==============================] - 658s 828ms/step - loss: 2.3284 - accuracy: 0.5930 - val_loss: 2.0155 - val_accuracy: 0.6451\n",
      "Epoch 15/50\n",
      "794/794 [==============================] - 657s 828ms/step - loss: 2.2425 - accuracy: 0.6052 - val_loss: 1.9229 - val_accuracy: 0.6592\n",
      "Epoch 16/50\n",
      "794/794 [==============================] - 657s 828ms/step - loss: 2.1666 - accuracy: 0.6161 - val_loss: 1.8376 - val_accuracy: 0.6753\n",
      "Epoch 17/50\n",
      "794/794 [==============================] - 657s 828ms/step - loss: 2.0936 - accuracy: 0.6259 - val_loss: 1.7589 - val_accuracy: 0.6857\n",
      "Epoch 18/50\n",
      "794/794 [==============================] - 657s 828ms/step - loss: 2.0254 - accuracy: 0.6347 - val_loss: 1.6966 - val_accuracy: 0.6948\n",
      "Epoch 19/50\n",
      "794/794 [==============================] - 657s 828ms/step - loss: 1.9561 - accuracy: 0.6426 - val_loss: 1.6195 - val_accuracy: 0.7062\n",
      "Epoch 20/50\n",
      "794/794 [==============================] - 657s 827ms/step - loss: 1.8902 - accuracy: 0.6501 - val_loss: 1.5497 - val_accuracy: 0.7148\n",
      "Epoch 21/50\n",
      "794/794 [==============================] - 657s 827ms/step - loss: 1.8307 - accuracy: 0.6573 - val_loss: 1.4910 - val_accuracy: 0.7246\n",
      "Epoch 22/50\n",
      "794/794 [==============================] - 657s 827ms/step - loss: 1.7765 - accuracy: 0.6643 - val_loss: 1.4342 - val_accuracy: 0.7331\n",
      "Epoch 23/50\n",
      "794/794 [==============================] - 657s 827ms/step - loss: 1.7216 - accuracy: 0.6715 - val_loss: 1.3857 - val_accuracy: 0.7423\n",
      "Epoch 24/50\n",
      "794/794 [==============================] - 657s 827ms/step - loss: 1.6665 - accuracy: 0.6787 - val_loss: 1.3310 - val_accuracy: 0.7493\n",
      "Epoch 25/50\n",
      "794/794 [==============================] - 657s 827ms/step - loss: 1.6135 - accuracy: 0.6859 - val_loss: 1.2735 - val_accuracy: 0.7594\n",
      "Epoch 26/50\n",
      "794/794 [==============================] - 656s 827ms/step - loss: 1.5611 - accuracy: 0.6941 - val_loss: 1.2357 - val_accuracy: 0.7668\n",
      "Epoch 27/50\n",
      "794/794 [==============================] - 656s 827ms/step - loss: 1.5108 - accuracy: 0.7019 - val_loss: 1.1819 - val_accuracy: 0.7768\n",
      "Epoch 28/50\n",
      "794/794 [==============================] - 656s 827ms/step - loss: 1.4651 - accuracy: 0.7095 - val_loss: 1.1319 - val_accuracy: 0.7881\n",
      "Epoch 29/50\n",
      "794/794 [==============================] - 656s 826ms/step - loss: 1.4225 - accuracy: 0.7170 - val_loss: 1.0981 - val_accuracy: 0.7945\n",
      "Epoch 30/50\n",
      "794/794 [==============================] - 656s 826ms/step - loss: 1.3802 - accuracy: 0.7247 - val_loss: 1.0547 - val_accuracy: 0.8024\n",
      "Epoch 31/50\n",
      "794/794 [==============================] - 656s 826ms/step - loss: 1.3454 - accuracy: 0.7310 - val_loss: 1.0262 - val_accuracy: 0.8092\n",
      "Epoch 32/50\n",
      "794/794 [==============================] - 656s 826ms/step - loss: 1.3097 - accuracy: 0.7379 - val_loss: 0.9917 - val_accuracy: 0.8156\n",
      "Epoch 33/50\n",
      "794/794 [==============================] - 656s 826ms/step - loss: 1.2788 - accuracy: 0.7438 - val_loss: 0.9611 - val_accuracy: 0.8221\n",
      "Epoch 34/50\n",
      "794/794 [==============================] - 656s 827ms/step - loss: 1.2484 - accuracy: 0.7498 - val_loss: 0.9321 - val_accuracy: 0.8277\n",
      "Epoch 35/50\n",
      "794/794 [==============================] - 656s 826ms/step - loss: 1.2209 - accuracy: 0.7549 - val_loss: 0.9143 - val_accuracy: 0.8313\n",
      "Epoch 36/50\n",
      "794/794 [==============================] - 656s 826ms/step - loss: 1.1950 - accuracy: 0.7601 - val_loss: 0.8913 - val_accuracy: 0.8374\n",
      "Epoch 37/50\n",
      "794/794 [==============================] - 656s 826ms/step - loss: 1.1707 - accuracy: 0.7652 - val_loss: 0.8672 - val_accuracy: 0.8412\n",
      "Epoch 38/50\n",
      "794/794 [==============================] - 655s 825ms/step - loss: 1.1487 - accuracy: 0.7695 - val_loss: 0.8427 - val_accuracy: 0.8466\n",
      "Epoch 39/50\n",
      "794/794 [==============================] - 655s 825ms/step - loss: 1.1268 - accuracy: 0.7736 - val_loss: 0.8215 - val_accuracy: 0.8510\n",
      "Epoch 40/50\n",
      "794/794 [==============================] - 655s 825ms/step - loss: 1.1048 - accuracy: 0.7782 - val_loss: 0.8037 - val_accuracy: 0.8543\n",
      "Epoch 41/50\n",
      "794/794 [==============================] - 655s 826ms/step - loss: 1.0847 - accuracy: 0.7825 - val_loss: 0.7865 - val_accuracy: 0.8579\n",
      "Epoch 42/50\n",
      "794/794 [==============================] - 655s 825ms/step - loss: 1.0682 - accuracy: 0.7855 - val_loss: 0.7618 - val_accuracy: 0.8631\n",
      "Epoch 43/50\n",
      "794/794 [==============================] - 655s 825ms/step - loss: 1.0517 - accuracy: 0.7890 - val_loss: 0.7526 - val_accuracy: 0.8649\n",
      "Epoch 44/50\n",
      "794/794 [==============================] - 656s 826ms/step - loss: 1.0352 - accuracy: 0.7923 - val_loss: 0.7354 - val_accuracy: 0.8686\n",
      "Epoch 45/50\n",
      "794/794 [==============================] - 655s 826ms/step - loss: 1.0192 - accuracy: 0.7953 - val_loss: 0.7227 - val_accuracy: 0.8706\n",
      "Epoch 46/50\n",
      "794/794 [==============================] - 656s 826ms/step - loss: 1.0017 - accuracy: 0.7991 - val_loss: 0.7051 - val_accuracy: 0.8746\n",
      "Epoch 47/50\n",
      "794/794 [==============================] - 655s 826ms/step - loss: 0.9869 - accuracy: 0.8023 - val_loss: 0.6963 - val_accuracy: 0.8758\n",
      "Epoch 48/50\n",
      "794/794 [==============================] - 655s 826ms/step - loss: 0.9750 - accuracy: 0.8047 - val_loss: 0.6836 - val_accuracy: 0.8788\n",
      "Epoch 49/50\n",
      "794/794 [==============================] - 655s 825ms/step - loss: 0.9628 - accuracy: 0.8070 - val_loss: 0.6711 - val_accuracy: 0.8810\n",
      "Epoch 50/50\n",
      "794/794 [==============================] - 655s 825ms/step - loss: 0.9522 - accuracy: 0.8090 - val_loss: 0.6609 - val_accuracy: 0.8838\n"
     ]
    }
   ],
   "source": [
    "#Training the Model\n",
    "history = model.fit([x_train,y_train[:,:-1]], \n",
    "                    y_train.reshape(y_train.shape[0],y_train.shape[1], 1)[:,1:],\n",
    "                    epochs=50,\n",
    "                    callbacks=[es],\n",
    "                    batch_size= 64,\n",
    "                    validation_data=([x_val,y_val[:,:-1]], \n",
    "                                     y_val.reshape(y_val.shape[0],y_val.shape[1], 1)[:,1:]))"
   ]
  },
  {
   "cell_type": "code",
   "execution_count": 98,
   "metadata": {
    "id": "JOHdhPsi3NNm",
    "pycharm": {
     "name": "#%%\n"
    },
    "scrolled": true
   },
   "outputs": [
    {
     "name": "stdout",
     "output_type": "stream",
     "text": [
      "updating: baseline 3/ (stored 0%)\n",
      "updating: baseline 3/x_tokenizer.pickle (deflated 52%)\n",
      "updating: baseline 3/y_tokenizer.pickle (deflated 51%)\n",
      "updating: baseline 3/tes_inference-Copy1.ipynb (deflated 80%)\n",
      "updating: baseline 3/.ipynb_checkpoints/ (stored 0%)\n",
      "updating: baseline 3/.ipynb_checkpoints/tes_inference-Copy1-checkpoint.ipynb (deflated 80%)\n",
      "updating: baseline 3/baseline_3/ (stored 0%)\n",
      "updating: baseline 3/baseline_3/variables/ (stored 0%)\n",
      "updating: baseline 3/baseline_3/variables/variables.index (deflated 69%)\n",
      "updating: baseline 3/baseline_3/variables/variables.data-00000-of-00001 (deflated 14%)\n",
      "updating: baseline 3/baseline_3/keras_metadata.pb (deflated 92%)\n",
      "updating: baseline 3/baseline_3/assets/ (stored 0%)\n",
      "updating: baseline 3/baseline_3/saved_model.pb (deflated 90%)\n",
      "  adding: baseline 3/baseline_3.h5 (deflated 14%)\n"
     ]
    }
   ],
   "source": [
    "#model.save('baseline_3')\n",
    "!zip -r baseline_3.zip 'baseline 3/'"
   ]
  },
  {
   "cell_type": "code",
   "execution_count": 99,
   "metadata": {
    "id": "lU6tzOBz3XgO",
    "pycharm": {
     "name": "#%%\n"
    }
   },
   "outputs": [],
   "source": [
    "import pickle\n",
    "\n",
    "with open('history.pkl', 'wb') as f:\n",
    "    pickle.dump(history.history, f)"
   ]
  },
  {
   "cell_type": "code",
   "execution_count": 57,
   "metadata": {
    "colab": {
     "base_uri": "https://localhost:8080/",
     "height": 265
    },
    "id": "wqX1wbIA06s4",
    "outputId": "99363c96-29d8-4c6e-fb34-0f0b50f4b5e0",
    "pycharm": {
     "name": "#%%\n"
    }
   },
   "outputs": [
    {
     "data": {
      "image/png": "[encoded data removed]",
      "text/plain": [
       "<Figure size 432x288 with 1 Axes>"
      ]
     },
     "metadata": {
      "needs_background": "light"
     },
     "output_type": "display_data"
    }
   ],
   "source": [
    "from matplotlib import pyplot\n",
    "\n",
    "pyplot.plot(history.history['loss'], label='train')\n",
    "pyplot.plot(history.history['val_loss'], label='test')\n",
    "pyplot.legend()\n",
    "pyplot.show()"
   ]
  },
  {
   "cell_type": "code",
   "execution_count": 58,
   "metadata": {
    "pycharm": {
     "name": "#%%\n"
    }
   },
   "outputs": [
    {
     "data": {
      "image/png": "[encoded data removed]",
      "text/plain": [
       "<Figure size 432x288 with 1 Axes>"
      ]
     },
     "metadata": {
      "needs_background": "light"
     },
     "output_type": "display_data"
    }
   ],
   "source": [
    "pyplot.plot(history.history['accuracy'], label='train')\n",
    "pyplot.plot(history.history['val_accuracy'], label='test')\n",
    "pyplot.legend()\n",
    "pyplot.show()"
   ]
  },
  {
   "cell_type": "code",
   "execution_count": 45,
   "metadata": {
    "id": "NrF7KM4K1dr-",
    "pycharm": {
     "name": "#%%\n"
    }
   },
   "outputs": [],
   "source": [
    "#Building Dictionary for Source Vocabulary\n",
    "reverse_target_word_index=y_tokenizer.index_word \n",
    "reverse_source_word_index=x_tokenizer.index_word \n",
    "target_word_index=y_tokenizer.word_index"
   ]
  },
  {
   "cell_type": "code",
   "execution_count": 46,
   "metadata": {
    "id": "dFXQA8Vm1rqq",
    "pycharm": {
     "name": "#%%\n"
    }
   },
   "outputs": [],
   "source": [
    "#Inference/Validation Phase\n",
    "#Encoding the input sequence to get the feature vector\n",
    "encoder_model = Model(inputs=encoder_inputs,outputs=[encoder_outputs, state_h, state_c])\n",
    "\n",
    "#Decoder setup\n",
    "#These tensors will hold the states of the previous time step\n",
    "decoder_state_input_h = Input(shape=(latent_dim,))\n",
    "decoder_state_input_c = Input(shape=(latent_dim,))\n",
    "decoder_hidden_state_input = Input(shape=(max_len_content,latent_dim))\n",
    "\n",
    "#Getting the embeddings of the decoder sequence\n",
    "dec_emb2= decoder_emb_layer(decoder_inputs) \n",
    "\n",
    "#Setting the initial states to the states from the previous time step for better prediction\n",
    "decoder_outputs2, state_h2, state_c2 = decoder_lstm(dec_emb2, initial_state=[decoder_state_input_h, decoder_state_input_c])\n",
    "\n",
    "#Attention inference\n",
    "attn_out_inf, attn_states_inf = attn_layer([decoder_hidden_state_input, decoder_outputs2])\n",
    "decoder_inf_concat = Concatenate(axis=-1, name='concat')([decoder_outputs2, attn_out_inf])\n",
    "\n",
    "#Adding Dense softmax layer to generate proability distribution over the target vocabulary\n",
    "decoder_outputs2 = decoder_dense(decoder_inf_concat) \n",
    "\n",
    "#Final Decoder model\n",
    "decoder_model = Model(\n",
    "    [decoder_inputs] + [decoder_hidden_state_input,decoder_state_input_h, decoder_state_input_c],\n",
    "    [decoder_outputs2] + [state_h2, state_c2])"
   ]
  },
  {
   "cell_type": "code",
   "execution_count": 89,
   "metadata": {},
   "outputs": [
    {
     "name": "stdout",
     "output_type": "stream",
     "text": [
      "KerasTensor(type_spec=TensorSpec(shape=(None, None), dtype=tf.float32, name='input_1'), name='input_1', description=\"created by layer 'input_1'\")\n",
      "KerasTensor(type_spec=TensorSpec(shape=(None, None, 300), dtype=tf.float32, name=None), name='embedding_1/embedding_lookup/Identity_1:0', description=\"created by layer 'embedding_1'\")\n",
      "KerasTensor(type_spec=TensorSpec(shape=(None, 300), dtype=tf.float32, name='input_2'), name='input_2', description=\"created by layer 'input_2'\")\n",
      "KerasTensor(type_spec=TensorSpec(shape=(None, 300), dtype=tf.float32, name='input_3'), name='input_3', description=\"created by layer 'input_3'\")\n",
      "[<KerasTensor: shape=(None, None, 300) dtype=float32 (created by layer 'lstm_3')>, <KerasTensor: shape=(None, 300) dtype=float32 (created by layer 'lstm_3')>, <KerasTensor: shape=(None, 300) dtype=float32 (created by layer 'lstm_3')>]\n",
      "KerasTensor(type_spec=TensorSpec(shape=(None, 300, 300), dtype=tf.float32, name='input_4'), name='input_4', description=\"created by layer 'input_4'\")\n",
      "(<KerasTensor: shape=(None, None, 300) dtype=float32 (created by layer 'attention_layer')>, <KerasTensor: shape=(None, None, 300) dtype=float32 (created by layer 'attention_layer')>)\n",
      "KerasTensor(type_spec=TensorSpec(shape=(None, None, 600), dtype=tf.float32, name=None), name='concat/concat:0', description=\"created by layer 'concat'\")\n",
      "KerasTensor(type_spec=TensorSpec(shape=(None, None, 38188), dtype=tf.float32, name=None), name='time_distributed/Reshape_1:0', description=\"created by layer 'time_distributed'\")\n"
     ]
    }
   ],
   "source": [
    "for layer in decoder_model.layers:\n",
    "    print(layer.output)"
   ]
  },
  {
   "cell_type": "code",
   "execution_count": 47,
   "metadata": {
    "id": "YxOPkUOv12Tj",
    "pycharm": {
     "name": "#%%\n"
    }
   },
   "outputs": [],
   "source": [
    "#Function defining the implementation of inference process\n",
    "import numpy as np\n",
    "def decode_sequence(input_seq):\n",
    "    #Encoding the input as state vectors\n",
    "    e_out, e_h, e_c = encoder_model.predict(input_seq)\n",
    "    \n",
    "    #Generating empty target sequence of length 1\n",
    "    target_seq = np.zeros((1,1))\n",
    "    \n",
    "    #Populating the first word of target sequence with the start word\n",
    "    target_seq[0, 0] = target_word_index['START']\n",
    "\n",
    "    stop_condition = False\n",
    "    decoded_sentence = ''\n",
    "    while not stop_condition:\n",
    "      \n",
    "        output_tokens, h, c = decoder_model.predict([target_seq] + [e_out, e_h, e_c])\n",
    "\n",
    "        #Sampling a token\n",
    "        sampled_token_index = np.argmax(output_tokens[0, -1, :])\n",
    "        if sampled_token_index == 0:\n",
    "            continue\n",
    "        sampled_token = reverse_target_word_index[sampled_token_index]\n",
    "        \n",
    "        if sampled_token != 'END':\n",
    "            decoded_sentence += ' '+sampled_token\n",
    "\n",
    "        #Exit condition: either hit max length or find stop word\n",
    "        if (sampled_token == 'END' or len(decoded_sentence.split()) >= (max_len_summary-1)):\n",
    "            stop_condition = True\n",
    "\n",
    "        #Updating the target sequence (of length 1)\n",
    "        target_seq = np.zeros((1,1))\n",
    "        target_seq[0, 0] = sampled_token_index\n",
    "\n",
    "        #Updating internal states\n",
    "        e_h, e_c = h, c\n",
    "\n",
    "    return decoded_sentence"
   ]
  },
  {
   "cell_type": "code",
   "execution_count": 48,
   "metadata": {
    "id": "fU6dOMs42Bqb",
    "pycharm": {
     "name": "#%%\n"
    }
   },
   "outputs": [],
   "source": [
    "#Functions to convert an integer sequence to a word sequence for summary as well as reviews \n",
    "def seq2summary(input_seq):\n",
    "    newString=''\n",
    "    for i in input_seq:\n",
    "        if((i!=0 and i!=target_word_index['START']) and i!=target_word_index['END']):\n",
    "            newString=newString+reverse_target_word_index[i]+' '\n",
    "    return newString\n",
    "\n",
    "def seq2text(input_seq):\n",
    "    newString=''\n",
    "    for i in input_seq:\n",
    "        if(i!=0):\n",
    "            newString=newString+reverse_source_word_index[i]+' '\n",
    "    return newString"
   ]
  },
  {
   "cell_type": "code",
   "execution_count": 49,
   "metadata": {
    "colab": {
     "base_uri": "https://localhost:8080/",
     "height": 1000
    },
    "id": "0zDSFPM82Dpf",
    "outputId": "6844b05b-bcff-44b4-e3ae-e47629f219e8",
    "pycharm": {
     "name": "#%%\n"
    }
   },
   "outputs": [],
   "source": [
    "#for i, news in enumerate(x_dev):\n",
    "#    print ('Review:', seq2text(news))\n",
    "#    print ('Original summary:', seq2summary(y_dev[i]))\n",
    "#    print ('Predicted summary:', decode_sequence(news.reshape(1, max_len_content)))\n",
    "#    print ('\\n')"
   ]
  },
  {
   "cell_type": "code",
   "execution_count": 71,
   "metadata": {
    "colab": {
     "base_uri": "https://localhost:8080/"
    },
    "id": "WHQmWc3gCNgs",
    "outputId": "5eb58c42-88ad-4ad4-b1f6-fa25ab1b7ce1",
    "pycharm": {
     "name": "#%%\n"
    }
   },
   "outputs": [
    {
     "name": "stdout",
     "output_type": "stream",
     "text": [
      "Original summary: pemerintah indonesia korea selatan sepakat memperkuat kerja bidang ekonomi sejalan pertemuan bilateral presiden korea selatan moon jae in presiden jokowi istana bogor jawa barat negara menargetkan nilai perdagangan miliar dolar as rp triliun  \n",
      "\n",
      "Predicted summary:  pemerintah indonesia korea selatan sepakat memperkuat kerja bidang ekonomi sejalan pertemuan bilateral presiden ri pemerintah indonesia membahas mekanisme pasar perdagangan indonesia pertemuan tingkat kepemimpinan as jokowi menilai pemerintah agustus dolar as mengejar nilai ekonomi perdagangan negara mengejar pertumbuhan ekonomi \n",
      "\n",
      "\n",
      "Original summary: aplikasi manajemen password populer lastpass mengumumkan rencana meluncurkan paket khusus keluarga lastpass families paket dirancang enam anggota keluarga menyimpan mengakses sandi dokumen perangkat apapun manapun berlangganan lastpass families anggota keluarga berbagi akses rekening bank kartu kredit  \n",
      "\n",
      "Predicted summary:  aplikasi manajemen password populer lastpass mengumumkan rencana meluncurkan paket khusus lastpass families paket dirancang enam anggota keluarga menyimpan mengakses sandi dokumen perangkat apapun manapun berlangganan lastpass families anggota keluarga berbagi akses rekening bank kartu kredit \n",
      "\n",
      "\n",
      "Original summary: gubernur dki jakarta djarot saiful hidayat penghuni rumah susun menunggak meninggalkan unit rusun tempati keputusan diatur instruksi kepala dinas perumahan rakyat kawasan permukiman dki jakarta nomor total unit rusun dihuni menunggak  \n",
      "\n",
      "Predicted summary:  gubernur dki jakarta djarot saiful hidayat penghuni rumah susun sederhana meninggalkan unit rusun tempati keputusan diatur instruksi kepala dinas perumahan rakyat dki jakarta basuki tjahaja purnama ahok mengeluarkan biaya kehilangan rusun dianggap memenuhi panggilan permintaan \n",
      "\n",
      "\n",
      "Original summary: persatuan artis film indonesia gatot brajamusti ditangkap tim satgas merah putih polres mataram polres lombok barat dugaan penyalahgunaan narkoba gatot ditangkap minggu malam wanita berinisial da salah hotel lombok nusa tenggara barat benda diduga sabu beserta alat barang bukti gatot ditangkap petugas  \n",
      "\n",
      "Predicted summary:  ketua tim satuan keluarga polres jakarta barat ditangkap polisi menangkap pelaku berinisial da ditangkap dibawa berinisial da hotel jakarta selatan jumat ditangkap rumah bukti polisi kali menjalani pemeriksaan polisi menyebut penangkapan polisi barang bukti barang bukti wanita berinisial da kepala barang bukti dibawa barang bukti \n",
      "\n",
      "\n",
      "Original summary: wakil ketua dpr fahri hamzah menilai keberadaan komnas ham kpk politikus pks komisi dibubarkan pernyataan fahri ditanggapi keras komisioner komnas ham natalius pigai pigai menilai pemikiran fahri mundur komisi dihilangkan komnas ham pencari keadilan menuntut hak asasi  \n",
      "\n",
      "Predicted summary:  wakil ketua dpr fahri hamzah menilai keberadaan komnas ham komnas ham kpk politikus pks komisi pemberantasan korupsi kpk fahri menilai lembaga antirasuah ham lembaga antirasuah penelitian ormas fahri menyebut fahri koalisi komisi pemberantasan korupsi kpk sesuai kewenangan komnas ham \n",
      "\n",
      "\n",
      "Original summary: adele mengawali penampilan wembley stadium london rabu dijadwalkan tampil kali panggung sang pelantun hello konser london kampung halaman adele perpisahan sang penyanyi penggemarnya jalanan adele membayangkan mengadakan konser  \n",
      "\n",
      "Predicted summary:  lady gaga penggemarnya penonton konser amal one love manchester inggris ariana grande dikenal penggemarnya berencana menggelar tur konser pertunjukan hiburan adele menghentikan tur konser musik adele mengadakan kondisi kampung halamannya \n",
      "\n",
      "\n",
      "Original summary: hobbit memiliki rumah lucu seukuran tubuh dibangun padang rerumputan luas dihiasi tanaman bunga rumah menikmati suasana kehidupan bangsa hobbit merasakan sensasi langsung syuting serial trilogi the hobbit lord of the rings new zealand  \n",
      "\n",
      "Predicted summary:  kisah petualangan bangsa bangsa dunia memiliki bangsa bernama serial fantasi bangsa unik dewasa melintasi rumah setnov membuka pembahasan serial bunga suami memenangkan kategori film horor populer netizen netizen menilai tujuh orang memiliki adegan unik film cerita \n",
      "\n",
      "\n",
      "Original summary: agen rahasia inggris alias james bond layar kaca daniel craig pemeran utamanya sony pictures main main film aksi ditunggu tanggung tanggung sutradara dilirik menggarap serial james bond dikenal sebutan bond  \n",
      "\n",
      "Predicted summary:  agen rahasia inggris alias james bond daniel craig pemeran james bond daniel craig agen rahasia pemeran james bond daniel craig wali kota jakarta timur james bond mengumumkan rilis agen james bond \n",
      "\n",
      "\n",
      "Original summary: idn media perusahaan menaungi idn times mengumumkan perolehan pendanaan seri b east ventures central exchange perusahaan modal ventura berbasis hong kong pendanaan idn media memperluas ekspansinya mencakup kota vertikal  \n",
      "\n",
      "Predicted summary:  media online mengumumkan perolehan pendanaan east ventures perusahaan milik pendanaan diadakan suara bisnis nilai nilai mencapai us pendanaan pendanaan kali lipat investasi mencapai us juta rp miliar pendanaan kali lipat angka investasi kelas saham media informasi media mayoritas media hiburan \n",
      "\n",
      "\n",
      "Original summary: ratusan warga memblokir jalan wr supratman polda bali denpasar bubar lantaran rekannya dharmawijaya ditangkap insiden penurunan bendera merah putih demonstrasi ditahan kapolda bali dharmawijaya dibawa polda ditahan diperiksa penurunan bendera dharmawijaya dijemput penyidik diperiksa tersangka rabu malam  \n",
      "\n",
      "Predicted summary:  ratusan warga memblokir jalan wr supratman polda bali denpasar bubar lantaran rekannya ditangkap insiden bendera merah putih ditahan demonstrasi kapolda bali irjen pol ditangkap rekannya satuan panitia operasi khusus tersangka insiden ditahan membawa bendera motor ditahan ditahan rumah sakit ditahan \n",
      "\n",
      "\n",
      "Original summary: digital marketing skill share dmss digelar bali oktober orang hadir acara acara memfokuskan diskusi bertajuk strategi pemasaran digital sesuai kondisi memanfaatkan sumber daya media sosial strategi seo search engine optimization situs website  \n",
      "\n",
      "Predicted summary:  digital marketing skill share dmss digelar jakarta selatan oktober acara september oktober terbaru digital komunitas oktober pemasaran digital komunitas ii membahas agenda informasi membahas agenda diskusi tambahan digelar oktober diskusi oktober komunitas menunggu \n",
      "\n",
      "\n",
      "Original summary: aktor tom hanks dikenal menyukai mesin tik manual memutuskan menghadiahi mesin tik spesialnya fans hadiah ungkapan terima kasih tom fansnya seniman bernama denise esposito memberinya buku berisi sketsa wajah tom dilansir mashable denise langsung hadiah akun media sosialnya  \n",
      "\n",
      "Predicted summary:  aktor tom hanks dikenal menyukai mesin tik manual memutuskan menghadiahi mesin tik fans fans hadiah ungkapan fans sketsa tahan juta pemilik akun instagram miliknya memutuskan sketsa wajah tom wajah tom hanks dikenal teman temannya \n",
      "\n",
      "\n",
      "Original summary: pt bandara internasional bali utara bibu berencana membangun bandar udara kawasan lepas pantai offshore buleleng provinsi bali menteri perhubungan budi karya sumadi mengakui mengomentari rencana pembangunan bandara menurutnya kementerian perhubungan kajian budi meneliti aspek sosial budaya lingkungan terkait penambahan bandara bali  \n",
      "\n",
      "Predicted summary:  bandara indonesia bandara internasional kabupaten jember jawa barat mendukung pemerintah provinsi jakarta pusat sabtu malam pemerintah provinsi jawa barat dampak pembangunan nasional bandara lingkungan bandara lingkungan bandara internasional direktur utama kementerian perhubungan budi karya sumadi budi mengomentari pembangunan bandara orang aspek pemerintah mengembangkan pariwisata \n",
      "\n",
      "\n",
      "Original summary: gmic indonesia diselenggarakan tanggal september gmic hadir indonesia convention exhibition ice konferensi relevan dunia bisnis mobile internet disruptive technology startup village money talks mobile marketing growth acara diprediksi konferensi mobile internet terakbar mempertemukan peserta  \n",
      "\n",
      "Predicted summary:  konferensi mobile internet diselenggarakan agustus menghadirkan teknologi startup lokal internet mobile nama industri teknologi digital gelaran e money acara inovasi industri bisnis industri teknologi diselenggarakan september acara forum industri teknologi industri teknologi digital gaya hidup \n",
      "\n",
      "\n"
     ]
    }
   ],
   "source": [
    "for i in range(1110, 1180, 5):\n",
    "    #print(\"Review:\",seq2text(x_val[112]),\"\\n\")\n",
    "    print(\"Original summary:\",seq2summary(y_val[i]),\"\\n\")\n",
    "    print(\"Predicted summary:\",decode_sequence(x_val[i].reshape(1,max_len_content)), '\\n\\n')"
   ]
  },
  {
   "cell_type": "markdown",
   "metadata": {
    "pycharm": {
     "name": "#%% md\n"
    }
   },
   "source": [
    "## Save Tokenizer "
   ]
  },
  {
   "cell_type": "code",
   "execution_count": 95,
   "metadata": {
    "pycharm": {
     "name": "#%%\n"
    }
   },
   "outputs": [],
   "source": [
    "import pickle\n",
    "\n",
    "def save_pickle(file_path, data):\n",
    "    with open(file_path, 'wb') as f:\n",
    "        pickle.dump(data, f, protocol=pickle.HIGHEST_PROTOCOL)\n",
    "        \n",
    "save_pickle('x_tokenizer.pickle', x_tokenizer)\n",
    "save_pickle('y_tokenizer.pickle', y_tokenizer)"
   ]
  },
  {
   "cell_type": "code",
   "execution_count": 96,
   "metadata": {},
   "outputs": [
    {
     "data": {
      "text/plain": [
       "38187"
      ]
     },
     "execution_count": 96,
     "metadata": {},
     "output_type": "execute_result"
    }
   ],
   "source": [
    "y_tokenizer.num_words"
   ]
  },
  {
   "cell_type": "code",
   "execution_count": 52,
   "metadata": {
    "pycharm": {
     "name": "#%%\n"
    }
   },
   "outputs": [],
   "source": [
    "test_token = X_val[214]\n",
    "test_sum = y_val[214]"
   ]
  },
  {
   "cell_type": "code",
   "execution_count": 60,
   "metadata": {
    "pycharm": {
     "name": "#%%\n"
    }
   },
   "outputs": [],
   "source": [
    "text = 'Laju Indeks Harga Saham Gabungan (IHSG) anjlok setelah hampir 1,5 jam perdagangan pada Senin (6/6/2022). Investor asing pun melakukan aksi jual saham di seluruh pasar. Mengutip data RTI, pukul 10.23 WIB, IHSG anjlok 1,19 persen ke posisi 7.099,72. IHSG sempat berada di level tertinggi 7.194,53 dan terendah 7.096,52. Sebanyak 287 saham melemah sehingga menekan IHSG. Sementara itu, 231 saham menguat dan 162 saham diam di tempat. Total frekuensi perdagangan 706.314 kali dengan volume perdagangan 11,8 miliar saham. Nilai transaksi harian Rp 5,9 triliun. Investor asing jual saham Rp 357,67 miliar di seluruh pasar. Indeks LQ45 merosot 0,82 persen ke posisi 1.034. Seluruh indeks acuan kompak tertekan. Secara sektoral, sebagian besar sektor saham tertekan. Indeks sektor saham IDXtechno melemah 3,23 persen, dan pimpin penurunan terbesar. Diikuti indeks sektor saham IDXtransportasi susut 1,76 persen, dan indeks sektor saham IDXbasic melemah 1,09 persen. Analis PT MNC Sekuritas, Herditya Wicaksana menuturkan, koreksi IHSG terjadi seiring bursa saham Amerika Serikat atau wall street pada pekan lalu merosot seiring meningkatnya kembali kekhawatiran atas pengetatan kebijakan moneter bank sentral Amerika Serikat atau the Federal Reserve (the Fed). Hal ini setelah rilis data nonfarm payroll yang meningkat dan berada di atas konsensus. \"Kemudian dari yield treasury AS 10 tahun juga mulai mendekati angka 3 persen kembali,” kata dia saat dihubungi Liputan6.com, Senin pekan ini. Ia menuturkan, secara teknikal, IHSG juga diprediksi berada di akhir penguatannya dan rawan koreksi dan masih inline. Untuk strategi saham dengan IHSG melemah, Herditya menilai bisa buy on weakness dulu. “Karena kami mencermati akan ada level koreksi ke rentang area 6.960-7.060 terlebih dahulu,” ujar dia. Sedangkan dari sentimen internal, Herditya menilai sepi katalis. Pada pekan ini, hanya ada rilis data cadangan devisa dan indeks kepercayaan konsumen (IKK). “Kita lihat juga sampai detik ini inflow asing masih muncul,” kata dia. Ia menilai, tekanan IHSG ini didorong sentimen eksternal dan kemungkinan ada aksi ambil untung karena IHSG juga sudah menutup gap.'"
   ]
  },
  {
   "cell_type": "code",
   "execution_count": 72,
   "metadata": {},
   "outputs": [],
   "source": [
    "text = 'JAKARTA, KOMPAS.com - Kepala Bidang Pangan Dinas Ketahanan Pangan Kelautan dan Perikanan (DKPKP) DKI Jakarta Lya Imbasari menjelaskan, melambungnya harga cabai di Ibu kota disebabkan oleh pasokan yang berkurang. Dia mengatakan, jumlah komodotas cabai yang masuk ke Jakarta dalam keadaan normal seberat 35-40 ton per hari. \"Namun saat ini pasokan yang masuk hanya berkisar 30 ton per hari,\" ujar Lya saat dihubungi melalui pesan singkat, Jumat (10/6/2022). Berkurangnya pasokan cabai tersebut mengakibatkan kenaikan harga yang signifikan. Lya mencontohkan, dalam sepekan terakhir cabai rawit merah besar di Pasar Induk Kramat Jati alami kenaikan sebesar 36,81 persen. \"Naik dari Rp 52.000 per kilogram menjadi Rp 71.143 per kilogram,\" tutur Lya. Pasokan yang menurun tersebut, kata Lya, disebabkan daerah produsen sedang diserang hama patek serta layu daun akibat hujan yang berlangsung lama. Gagal panen akibat perubahan cuaca tersebut mengakibatkan harga di tingkat produsen meningkat dan berimbas pada Pasar Induk Kramat Jati. Pemprov DKI Jakarta sendiri sedang mencoba memaksimalkan penggunaan mesin Controlled Atmosphere Storage (CAS) untuk memantau panen produsen dan mendapatkan harga yang lebih terjangkau. \"Perumda Pasar Jaya juga melakukan kerjasama antar daerah dengan cara pembelian langsung ke Kelompok Tani penghasil cabai,\" ujar Lya.'"
   ]
  },
  {
   "cell_type": "code",
   "execution_count": 73,
   "metadata": {
    "pycharm": {
     "name": "#%%\n"
    }
   },
   "outputs": [
    {
     "name": "stdout",
     "output_type": "stream",
     "text": [
      " konsumsi bahan bakar mengalami penurunan harga didukung sayangnya harga cabai disebabkan efek pasar indonesia mengalami kenaikan harga meningkatkan angka dianggap kehilangan pasar tingkat musim hujan dianggap dijadikan musim hujan berhasil musim hujan berhasil musim panas\n"
     ]
    }
   ],
   "source": [
    "from nltk import flatten\n",
    "\n",
    "def inference(text):\n",
    "    text = [text]\n",
    "    text_infer = x_tokenizer.texts_to_sequences(text)\n",
    "    text_infer = pad_sequences(text_infer, maxlen=max_len_content, padding='post', truncating=truncation_type)\n",
    "    text_infer = decode_sequence(text_infer.reshape(1,max_len_content))\n",
    "    #print(text_infer)\n",
    "    print(text_infer)\n",
    "inference(text)\n",
    "    "
   ]
  },
  {
   "cell_type": "markdown",
   "metadata": {},
   "source": [
    "## Test"
   ]
  },
  {
   "cell_type": "code",
   "execution_count": 76,
   "metadata": {},
   "outputs": [
    {
     "name": "stderr",
     "output_type": "stream",
     "text": [
      "/opt/conda/lib/python3.7/site-packages/nltk/translate/bleu_score.py:552: UserWarning: \n",
      "The hypothesis contains 0 counts of 2-gram overlaps.\n",
      "Therefore the BLEU score evaluates to 0, independently of\n",
      "how many N-gram overlaps of lower order it contains.\n",
      "Consider using lower n-gram order or use SmoothingFunction()\n",
      "  warnings.warn(_msg)\n",
      "/opt/conda/lib/python3.7/site-packages/nltk/translate/bleu_score.py:552: UserWarning: \n",
      "The hypothesis contains 0 counts of 3-gram overlaps.\n",
      "Therefore the BLEU score evaluates to 0, independently of\n",
      "how many N-gram overlaps of lower order it contains.\n",
      "Consider using lower n-gram order or use SmoothingFunction()\n",
      "  warnings.warn(_msg)\n",
      "/opt/conda/lib/python3.7/site-packages/nltk/translate/bleu_score.py:552: UserWarning: \n",
      "The hypothesis contains 0 counts of 4-gram overlaps.\n",
      "Therefore the BLEU score evaluates to 0, independently of\n",
      "how many N-gram overlaps of lower order it contains.\n",
      "Consider using lower n-gram order or use SmoothingFunction()\n",
      "  warnings.warn(_msg)\n"
     ]
    },
    {
     "name": "stdout",
     "output_type": "stream",
     "text": [
      "Individual 1-gram: 0.067449\n",
      "Individual 2-gram: 0.000000\n",
      "Individual 3-gram: 0.000000\n",
      "Individual 4-gram: 0.000000\n"
     ]
    }
   ],
   "source": [
    "#BLEU Score of Training set\n",
    "#n-gram individual BLEU\n",
    "from nltk.translate.bleu_score import sentence_bleu\n",
    "for i in range(0,1000):\n",
    "  reference = seq2summary(y_train[i])\n",
    "  candidate = decode_sequence(x_train[i].reshape(1, max_len_content))\n",
    "\n",
    "print('Individual 1-gram: %f' % sentence_bleu(reference, candidate, weights=(1, 0, 0, 0)))"
   ]
  },
  {
   "cell_type": "markdown",
   "metadata": {
    "pycharm": {
     "name": "#%% md\n"
    }
   },
   "source": [
    "## Saved Each Layer Weight "
   ]
  },
  {
   "cell_type": "code",
   "execution_count": 85,
   "metadata": {
    "pycharm": {
     "name": "#%%\n"
    }
   },
   "outputs": [
    {
     "name": "stdout",
     "output_type": "stream",
     "text": [
      "  adding: baseline 3/ (stored 0%)\n",
      "  adding: baseline 3/x_tokenizer.pickle (deflated 52%)\n",
      "  adding: baseline 3/y_tokenizer.pickle (deflated 52%)\n",
      "  adding: baseline 3/tes_inference-Copy1.ipynb (deflated 80%)\n",
      "  adding: baseline 3/.ipynb_checkpoints/ (stored 0%)\n",
      "  adding: baseline 3/.ipynb_checkpoints/tes_inference-Copy1-checkpoint.ipynb (deflated 80%)\n",
      "  adding: baseline 3/baseline_3/ (stored 0%)\n",
      "  adding: baseline 3/baseline_3/variables/ (stored 0%)\n",
      "  adding: baseline 3/baseline_3/variables/variables.index (deflated 69%)\n",
      "  adding: baseline 3/baseline_3/variables/variables.data-00000-of-00001 (deflated 14%)\n",
      "  adding: baseline 3/baseline_3/keras_metadata.pb (deflated 92%)\n",
      "  adding: baseline 3/baseline_3/assets/ (stored 0%)\n",
      "  adding: baseline 3/baseline_3/saved_model.pb (deflated 90%)\n"
     ]
    }
   ],
   "source": [
    "!zip -r baseline_3.zip 'baseline 3/'"
   ]
  },
  {
   "cell_type": "code",
   "execution_count": 90,
   "metadata": {},
   "outputs": [],
   "source": [
    "with open('encoder_model.json', 'w', encoding='utf8') as f:\n",
    "    f.write(encoder_model.to_json())\n",
    "encoder_model.save_weights('encoder_model_weights.h5')\n",
    "\n",
    "with open('decoder_model.json', 'w', encoding='utf8') as f:\n",
    "    f.write(decoder_model.to_json())\n",
    "encoder_model.save_weights('decoder_model_weights.h5')"
   ]
  },
  {
   "cell_type": "code",
   "execution_count": 97,
   "metadata": {},
   "outputs": [],
   "source": [
    "model.save('baseline 3/baseline_3.h5')"
   ]
  },
  {
   "cell_type": "code",
   "execution_count": null,
   "metadata": {},
   "outputs": [],
   "source": []
  }
 ],
 "metadata": {
  "accelerator": "GPU",
  "colab": {
   "collapsed_sections": [],
   "name": "seq2seq tes 2.ipynb",
   "provenance": []
  },
  "kernelspec": {
   "display_name": "Python 3",
   "language": "python",
   "name": "python3"
  },
  "language_info": {
   "codemirror_mode": {
    "name": "ipython",
    "version": 3
   },
   "file_extension": ".py",
   "mimetype": "text/x-python",
   "name": "python",
   "nbconvert_exporter": "python",
   "pygments_lexer": "ipython3",
   "version": "3.7.12"
  }
 },
 "nbformat": 4,
 "nbformat_minor": 1
}
