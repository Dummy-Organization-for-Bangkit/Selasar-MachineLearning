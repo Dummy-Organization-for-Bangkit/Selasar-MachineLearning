{
 "nbformat": 4,
 "nbformat_minor": 0,
 "metadata": {
  "colab": {
   "name": "Seq2Seq Baseline 1.ipynb",
   "provenance": [],
   "collapsed_sections": [
    "YzpEonV8VJQs"
   ]
  },
  "kernelspec": {
   "name": "python3",
   "display_name": "Python 3"
  },
  "language_info": {
   "name": "python"
  },
  "accelerator": "GPU"
 },
 "cells": [
  {
   "cell_type": "markdown",
   "source": [
    "##Load Data"
   ],
   "metadata": {
    "id": "yDP2W7CxcIMl"
   }
  },
  {
   "cell_type": "code",
   "execution_count": 5,
   "metadata": {
    "colab": {
     "base_uri": "https://localhost:8080/"
    },
    "id": "eH462Xp7aR6z",
    "outputId": "2873edd6-a492-46b9-cbd6-ba8a050f5551"
   },
   "outputs": [
    {
     "name": "stdout",
     "output_type": "stream",
     "text": [
      "Downloading...\r\n",
      "From: https://drive.google.com/uc?id=1OgYbPfXFAv3TbwP1Qcwt_CC9cVWSJaco\r\n",
      "To: /home/dabestevanzzacc/indosum.tar.gz\r\n",
      "100%|███████████████████████████████████████| 96.0M/96.0M [00:00<00:00, 165MB/s]\r\n"
     ]
    }
   ],
   "source": [
    "!gdown 1OgYbPfXFAv3TbwP1Qcwt_CC9cVWSJaco"
   ]
  },
  {
   "cell_type": "code",
   "source": [
    "import tarfile\n",
    "\n",
    "with tarfile.open('indosum.tar.gz') as tar:\n",
    "    tar.extractall()\n",
    "    tar.close()"
   ],
   "metadata": {
    "id": "Gp5Y4jhqcM62"
   },
   "execution_count": 6,
   "outputs": []
  },
  {
   "cell_type": "code",
   "source": [
    "import os\n",
    "import json\n",
    "\n",
    "BASE_PATH = './indosum'\n",
    "indosum = {\n",
    "    'train': [],\n",
    "    'dev': [],\n",
    "    'test': []\n",
    "}\n",
    "\n",
    "for json_file in os.listdir('indosum'):\n",
    "    if json_file.endswith('.jsonl'):\n",
    "        split, fold, ext = json_file.split('.')\n",
    "        file_path = os.path.join(BASE_PATH, json_file)\n",
    "        \n",
    "        with open(file_path, 'r') as json_file:\n",
    "            json_list = list(json_file)\n",
    "            for json_str in json_list:\n",
    "                result = json.loads(json_str)\n",
    "                indosum[split].append(result)\n",
    "            \n",
    "\n",
    "with open('indosum.json', 'w', encoding='utf-8') as f:\n",
    "    json.dump(indosum, f, ensure_ascii=False, indent=2)\n",
    "    "
   ],
   "metadata": {
    "id": "xLwnY-jOd6fQ"
   },
   "execution_count": 7,
   "outputs": []
  },
  {
   "cell_type": "code",
   "source": [
    "import re\n",
    "\n",
    "def add_start_end_sequence(summary):\n",
    "    summary = 'sostok ' + summary + ' eostok'\n",
    "    return summary\n",
    "\n",
    "def convert_to_words(news_file, to_article=False):\n",
    "    content_words = []\n",
    "    for paragraph in news_file['paragraphs']:\n",
    "        for sentence in paragraph:\n",
    "            for word in sentence:\n",
    "                if re.match('[A-Za-z0-9]+', word):\n",
    "                    word = str(word).lower()\n",
    "                    content_words.append(word) \n",
    "\n",
    "    summary_words = []\n",
    "    for sentence in news_file['summary']:\n",
    "        for word in sentence:\n",
    "            if re.match('[A-Za-z0-9]+', word):\n",
    "                word = str(word).lower()\n",
    "                summary_words.append(word)\n",
    "\n",
    "    content_words = ' '.join(content_words)\n",
    "    summary_words = ' '.join(summary_words)\n",
    "\n",
    "    summary_words = add_start_end_sequence(summary_words)\n",
    "    \n",
    "    news_file['paragraphs'] = content_words\n",
    "    news_file['summary'] = summary_words"
   ],
   "metadata": {
    "id": "LhMPRe2LkFYi"
   },
   "execution_count": 8,
   "outputs": []
  },
  {
   "cell_type": "code",
   "source": [
    "for split in indosum.keys():\n",
    "    for news in indosum[split]:\n",
    "        convert_to_words(news)"
   ],
   "metadata": {
    "id": "ps7s8-FLeg5J"
   },
   "execution_count": 9,
   "outputs": []
  },
  {
   "cell_type": "code",
   "source": [
    "print(indosum['dev'][5]['paragraphs'])\n",
    "print(indosum['dev'][5]['summary'])"
   ],
   "metadata": {
    "colab": {
     "base_uri": "https://localhost:8080/"
    },
    "id": "QuaX8z_FpCRx",
    "outputId": "ffb9265e-2f96-4b2c-8d13-b911588fec1f"
   },
   "execution_count": 10,
   "outputs": [
    {
     "name": "stdout",
     "output_type": "stream",
     "text": [
      "carlton cole yang pernah memperkuat west ham united sudah tiba di kantor pt persib bandung bermartabat untuk menjadi bagian persib bandung mengarungi kompetisi liga 1 2017 mantan striker tim nasional inggris hasil didikan akademi chelsea itu merupakan rekrutan masif kedua maung bandung setelah gelandang asal ghana michael essien yang pernah merumput bersama chelsea real madrid dan ac milan simak juga persib pastikan incar cole ada kabar bahwa bomber berusia 33 tahun itu akan mengikuti latihan bersama pangeran biru hari ini juga pelatih djadjang nurdjaman sebelumnya pernah menyatakan memang ingin mendatangkan striker asing menyusul cedera panjang sergio van dijk karier cole memang telah surut di inggris dan pindah ke celtic pada 2015 kemudian ia membela sacramento republic pada tahun lalu kehadiran cole diyakini bakal menambah pamor persib yang sudah mendunia usai perekrutan essien simak juga djadjang abaikan statistik cole pengoleksi tujuh caps internasional inggris dalam rentang 2009 2010 ini akan menggunakan nomor punggung 12 di persib hingga berita ini diturunkan belum ada detail kesepakatan yang diumumkan manajemen tim\n",
      "sostok carlton cole yang pernah memperkuat west ham united sudah tiba di kantor pt persib bandung bermartabat untuk menjadi bagian persib bandung mengarungi kompetisi liga 1 2017 mantan striker tim nasional inggris hasil didikan akademi chelsea itu merupakan rekrutan masif kedua maung bandung setelah gelandang asal ghana michael essien yang pernah merumput bersama chelsea real madrid dan ac eostok\n"
     ]
    }
   ]
  },
  {
   "cell_type": "code",
   "source": [
    "import pandas as pd\n",
    "import matplotlib.pyplot as plt\n",
    "\n",
    "def visualize_words_distribution(dataset_dict):\n",
    "    content_count = []\n",
    "    summary_count = []\n",
    "\n",
    "    for split in dataset_dict.keys():\n",
    "        for news in dataset_dict[split]:\n",
    "            content_word_count = len(news['paragraphs'].split(' '))\n",
    "            summary_word_count = len(news['summary'].split(' '))\n",
    "            content_count.append(content_word_count)\n",
    "            summary_count.append(summary_word_count)\n",
    "\n",
    "    average_length = pd.DataFrame() \n",
    "\n",
    "    average_length['content'] = content_count\n",
    "    average_length['summary'] = summary_count\n",
    "\n",
    "    average_length.hist(bins = 5)\n",
    "    plt.show()\n",
    "    return average_length\n",
    "\n",
    "average_length = visualize_words_distribution(indosum)          "
   ],
   "metadata": {
    "colab": {
     "base_uri": "https://localhost:8080/",
     "height": 281
    },
    "id": "hUTwNs2Cj7sv",
    "outputId": "71800404-21a2-4b8e-8780-1a5cb79108e4"
   },
   "execution_count": 11,
   "outputs": [
    {
     "data": {
      "text/plain": "<Figure size 432x288 with 2 Axes>",
      "image/png": "[encoded data removed]"
     },
     "metadata": {
      "needs_background": "light"
     },
     "output_type": "display_data"
    }
   ]
  },
  {
   "cell_type": "code",
   "source": [
    "def count_words_length_percentage(max_len, length_list):\n",
    "    cnt = 0\n",
    "    for length in length_list:\n",
    "        if length <= max_len:\n",
    "            cnt = cnt + 1\n",
    "    return cnt / len(length_list)\n",
    "\n",
    "max_len_content = 600\n",
    "max_len_summary = 65\n",
    "\n",
    "print(count_words_length_percentage(max_len_content, average_length['content']))\n",
    "print(count_words_length_percentage(max_len_summary, average_length['summary']))"
   ],
   "metadata": {
    "colab": {
     "base_uri": "https://localhost:8080/"
    },
    "id": "qwXTi8sPoxMB",
    "outputId": "80b7e579-d751-4a4c-a208-1b1f4d6e1984"
   },
   "execution_count": 12,
   "outputs": [
    {
     "name": "stdout",
     "output_type": "stream",
     "text": [
      "0.9818791946308725\n",
      "0.944710770214126\n"
     ]
    }
   ]
  },
  {
   "cell_type": "code",
   "source": [
    "indosum_new = {\n",
    "    'train': [],\n",
    "    'dev': [],\n",
    "    'test': []\n",
    "}\n",
    "\n",
    "for split in indosum_new.keys():\n",
    "    for news in indosum[split]:\n",
    "        content_len = len(news['paragraphs'].split(' '))\n",
    "        summary_len = len(news['summary'].split(' '))\n",
    "        if (content_len <= max_len_content) and (summary_len <= max_len_summary):\n",
    "            indosum_new[split].append(news)"
   ],
   "metadata": {
    "id": "UGVylCFUpwTx"
   },
   "execution_count": 13,
   "outputs": []
  },
  {
   "cell_type": "code",
   "source": [
    "average_length_new = visualize_words_distribution(indosum_new)"
   ],
   "metadata": {
    "colab": {
     "base_uri": "https://localhost:8080/",
     "height": 281
    },
    "id": "zgg-KfTKp5x5",
    "outputId": "82a706b6-c2cd-4f94-d0e2-d9423b1db881"
   },
   "execution_count": 14,
   "outputs": [
    {
     "data": {
      "text/plain": "<Figure size 432x288 with 2 Axes>",
      "image/png": "[encoded data removed]"
     },
     "metadata": {
      "needs_background": "light"
     },
     "output_type": "display_data"
    }
   ]
  },
  {
   "cell_type": "markdown",
   "source": [
    "##Split Train, Dev, Test"
   ],
   "metadata": {
    "id": "UMG1mbXRqZ4y"
   }
  },
  {
   "cell_type": "code",
   "source": [
    "X = {\n",
    "    'train': [],\n",
    "     'dev': [],\n",
    "     'test': []\n",
    "}\n",
    "for split in indosum_new.keys():\n",
    "    for news in indosum_new[split]:\n",
    "        X[split].append(news['paragraphs'])\n",
    "\n",
    "y = {\n",
    "    'train': [],\n",
    "     'dev': [],\n",
    "     'test': []\n",
    "}\n",
    "for split in indosum_new.keys():\n",
    "    for news in indosum_new[split]:\n",
    "        y[split].append(news['summary'])"
   ],
   "metadata": {
    "id": "JnG2JJlsp9Oc"
   },
   "execution_count": 15,
   "outputs": []
  },
  {
   "cell_type": "code",
   "source": [
    "X_train, X_dev, X_test = X['train'], X['dev'], X['test']\n",
    "y_train, y_dev, y_test = y['train'], y['dev'], y['test']"
   ],
   "metadata": {
    "id": "6lSxUZRSqeni"
   },
   "execution_count": 16,
   "outputs": []
  },
  {
   "cell_type": "markdown",
   "source": [
    "##(Experimental) Word Embedding"
   ],
   "metadata": {
    "id": "YzpEonV8VJQs"
   }
  },
  {
   "cell_type": "code",
   "source": [
    "#!pip install fasttext"
   ],
   "metadata": {
    "id": "nhy2OrhwVLx6"
   },
   "execution_count": 17,
   "outputs": []
  },
  {
   "cell_type": "code",
   "source": [
    "#import fasttext\n",
    "#import fasttext.util\n",
    " \n",
    "#fasttext.util.download_model('id', if_exists='ignore')"
   ],
   "metadata": {
    "id": "8qDsnB3DV1Op"
   },
   "execution_count": 18,
   "outputs": []
  },
  {
   "cell_type": "code",
   "source": [
    "#ft = fasttext.load_model(\"cc.id.300.bin\")\n",
    "#ft.get_dimension()"
   ],
   "metadata": {
    "id": "5wQehvJ-WKCD"
   },
   "execution_count": 19,
   "outputs": []
  },
  {
   "cell_type": "code",
   "source": [
    "#fasttext.util.reduce_model(ft, 100)\n",
    "#ft.get_dimension()"
   ],
   "metadata": {
    "id": "awIkv3rTNjKG"
   },
   "execution_count": 20,
   "outputs": []
  },
  {
   "cell_type": "markdown",
   "source": [
    "#Tokenization"
   ],
   "metadata": {
    "id": "PSzNepwMqgxz"
   }
  },
  {
   "cell_type": "code",
   "source": [
    "# Tokenize the text to get the vocab count \n",
    "from tensorflow.keras.preprocessing.text import Tokenizer \n",
    "from tensorflow.keras.preprocessing.sequence import pad_sequences\n",
    "import numpy as np\n",
    "\n",
    "# Prepare a tokenizer on training data\n",
    "x_tokenizer = Tokenizer() \n",
    "x_tokenizer.fit_on_texts(np.array(X_train))"
   ],
   "metadata": {
    "id": "tmeEGgnaqmOu"
   },
   "execution_count": 21,
   "outputs": []
  },
  {
   "cell_type": "code",
   "source": [
    "def count_rare_words(threshold, tokenizer):\n",
    "    cnt = 0\n",
    "    tot_cnt = 0\n",
    "\n",
    "    for key, value in tokenizer.word_counts.items():\n",
    "        tot_cnt = tot_cnt + 1\n",
    "        if value < threshold:\n",
    "            cnt = cnt + 1\n",
    "    \n",
    "    print('Threshold: {}'.format(threshold))\n",
    "    print(\"% of rare words in vocabulary: \", (cnt / tot_cnt) * 100)\n",
    "\n",
    "    return cnt, tot_cnt\n",
    "\n",
    "cnt, tot_cnt = count_rare_words(10, x_tokenizer)"
   ],
   "metadata": {
    "id": "W2nrFoBKqoZX",
    "colab": {
     "base_uri": "https://localhost:8080/"
    },
    "outputId": "c66d4597-63b2-4695-c942-62c9915657c4"
   },
   "execution_count": 22,
   "outputs": [
    {
     "name": "stdout",
     "output_type": "stream",
     "text": [
      "Threshold: 10\n",
      "% of rare words in vocabulary:  54.2548022094626\n"
     ]
    }
   ]
  },
  {
   "cell_type": "code",
   "source": [
    "# Prepare a tokenizer, again -- by not considering the rare words\n",
    "x_tokenizer = Tokenizer(num_words = tot_cnt - cnt) \n",
    "x_tokenizer.fit_on_texts(np.array(X_train))\n",
    "\n",
    "# Convert text sequences to integer sequences \n",
    "x_train_seq = x_tokenizer.texts_to_sequences(X_train) \n",
    "x_dev_seq = x_tokenizer.texts_to_sequences(X_dev)\n",
    "x_test_seq = x_tokenizer.texts_to_sequences(X_test)\n",
    "\n",
    "# Pad zero upto maximum length\n",
    "x_train = pad_sequences(x_train_seq,  maxlen=max_len_content, padding='post')\n",
    "x_dev = pad_sequences(x_dev_seq, maxlen=max_len_content, padding='post')\n",
    "x_test = pad_sequences(x_test_seq,  maxlen=max_len_content, padding='post')\n",
    "\n",
    "# Size of vocabulary (+1 for padding token)\n",
    "x_vocab = x_tokenizer.num_words + 1\n",
    "\n",
    "print(\"Size of vocabulary in X = {}\".format(x_vocab))"
   ],
   "metadata": {
    "id": "OUeET2eaqxL1",
    "colab": {
     "base_uri": "https://localhost:8080/"
    },
    "outputId": "7fec286f-d372-4027-cbe4-f708d9a6cd01"
   },
   "execution_count": 23,
   "outputs": [
    {
     "name": "stdout",
     "output_type": "stream",
     "text": [
      "Size of vocabulary in X = 46130\n"
     ]
    }
   ]
  },
  {
   "cell_type": "code",
   "source": [
    "# Prepare a tokenizer on test data\n",
    "y_tokenizer = Tokenizer() \n",
    "y_tokenizer.fit_on_texts(np.array(y_train))\n",
    "\n",
    "cnt_test, tot_cnt_test = count_rare_words(10, y_tokenizer)"
   ],
   "metadata": {
    "id": "AxBuCLwgrHou",
    "colab": {
     "base_uri": "https://localhost:8080/"
    },
    "outputId": "51addfde-1769-4868-e7ab-7c4dc3fe318a"
   },
   "execution_count": 24,
   "outputs": [
    {
     "name": "stdout",
     "output_type": "stream",
     "text": [
      "Threshold: 10\n",
      "% of rare words in vocabulary:  56.45501551189245\n"
     ]
    }
   ]
  },
  {
   "cell_type": "code",
   "source": [
    "# Prepare a tokenizer, again -- by not considering the rare words\n",
    "y_tokenizer = Tokenizer(num_words = tot_cnt_test - cnt_test) \n",
    "y_tokenizer.fit_on_texts(np.array(y_train))\n",
    "\n",
    "# Convert text sequences to integer sequences \n",
    "y_train_seq = y_tokenizer.texts_to_sequences(y_train) \n",
    "y_dev_seq = y_tokenizer.texts_to_sequences(y_dev)\n",
    "y_test_seq = y_tokenizer.texts_to_sequences(y_test)\n",
    "\n",
    "# Pad zero upto maximum length\n",
    "y_train = pad_sequences(y_train_seq,  maxlen=max_len_summary, padding='post')\n",
    "y_dev = pad_sequences(y_dev_seq, maxlen=max_len_summary, padding='post')\n",
    "y_test = pad_sequences(y_test_seq,  maxlen=max_len_summary, padding='post')\n",
    "\n",
    "# Size of vocabulary (+1 for padding token)\n",
    "y_vocab = y_tokenizer.num_words + 1\n",
    "\n",
    "print(\"Size of vocabulary in X = {}\".format(y_vocab))"
   ],
   "metadata": {
    "id": "pJlpQBcnrMs4",
    "colab": {
     "base_uri": "https://localhost:8080/"
    },
    "outputId": "c75452d2-286a-4b4a-8a63-f3230571cfea"
   },
   "execution_count": 25,
   "outputs": [
    {
     "name": "stdout",
     "output_type": "stream",
     "text": [
      "Size of vocabulary in X = 21055\n"
     ]
    }
   ]
  },
  {
   "cell_type": "code",
   "source": [
    "from tensorflow.keras.preprocessing.text import Tokenizer\n",
    "from tensorflow.keras.preprocessing.sequence import pad_sequences\n",
    "from tensorflow.keras.layers import Input, LSTM, Embedding, Dense, \\\n",
    "    Concatenate, TimeDistributed\n",
    "from tensorflow.keras.models import Model\n",
    "from tensorflow.keras.callbacks import EarlyStopping"
   ],
   "metadata": {
    "id": "vltBdmbNrPCq"
   },
   "execution_count": 26,
   "outputs": []
  },
  {
   "cell_type": "code",
   "source": [
    "latent_dim = 300\n",
    "embedding_dim = 300\n",
    "\n",
    "# Encoder\n",
    "encoder_inputs = Input(shape=(max_len_content, ))\n",
    "\n",
    "# Embedding layer\n",
    "enc_emb = Embedding(x_vocab, embedding_dim,\n",
    "                    trainable=True)(encoder_inputs)\n",
    "\n",
    "# Encoder LSTM 1\n",
    "encoder_lstm1 = LSTM(latent_dim, return_sequences=True,\n",
    "                     return_state=True, dropout=0.4,\n",
    "                     recurrent_dropout=0)\n",
    "(encoder_output1, state_h1, state_c1) = encoder_lstm1(enc_emb)\n",
    "\n",
    "# Encoder LSTM 2\n",
    "encoder_lstm2 = LSTM(latent_dim, return_sequences=True,\n",
    "                     return_state=True, dropout=0.4,\n",
    "                     recurrent_dropout=0)\n",
    "(encoder_output2, state_h2, state_c2) = encoder_lstm2(encoder_output1)\n",
    "\n",
    "# Encoder LSTM 3\n",
    "encoder_lstm3 = LSTM(latent_dim, return_state=True,\n",
    "                     return_sequences=True, dropout=0.4,\n",
    "                     recurrent_dropout=0)\n",
    "(encoder_outputs, state_h, state_c) = encoder_lstm3(encoder_output2)\n",
    "\n",
    "# Set up the decoder, using encoder_states as the initial state\n",
    "decoder_inputs = Input(shape=(None, ))\n",
    "\n",
    "# Embedding layer\n",
    "dec_emb_layer = Embedding(y_vocab, embedding_dim, trainable=True)\n",
    "dec_emb = dec_emb_layer(decoder_inputs)\n",
    "\n",
    "# Decoder LSTM\n",
    "decoder_lstm = LSTM(latent_dim, return_sequences=True,\n",
    "                    return_state=True, dropout=0.4,\n",
    "                    recurrent_dropout=0)\n",
    "(decoder_outputs, decoder_fwd_state, decoder_back_state) = \\\n",
    "    decoder_lstm(dec_emb, initial_state=[state_h, state_c])\n",
    "\n",
    "# Dense layer\n",
    "decoder_dense = TimeDistributed(Dense(y_vocab, activation='softmax'))\n",
    "decoder_outputs = decoder_dense(decoder_outputs)\n",
    "\n",
    "# Define the model\n",
    "model = Model([encoder_inputs, decoder_inputs], decoder_outputs)\n",
    "\n",
    "model.summary()"
   ],
   "metadata": {
    "id": "cbZCWNTGrVjA",
    "colab": {
     "base_uri": "https://localhost:8080/"
    },
    "outputId": "e188edee-7d94-4ccf-cad4-1cddc780353e"
   },
   "execution_count": 27,
   "outputs": [
    {
     "name": "stderr",
     "output_type": "stream",
     "text": [
      "2022-06-04 14:39:43.992931: E tensorflow/stream_executor/cuda/cuda_driver.cc:271] failed call to cuInit: CUDA_ERROR_UNKNOWN: unknown error\n",
      "2022-06-04 14:39:43.993038: I tensorflow/stream_executor/cuda/cuda_diagnostics.cc:169] retrieving CUDA diagnostic information for host: instance-machine-learning\n",
      "2022-06-04 14:39:43.993052: I tensorflow/stream_executor/cuda/cuda_diagnostics.cc:176] hostname: instance-machine-learning\n",
      "2022-06-04 14:39:43.994113: I tensorflow/stream_executor/cuda/cuda_diagnostics.cc:200] libcuda reported version is: 470.57.2\n",
      "2022-06-04 14:39:43.994187: I tensorflow/stream_executor/cuda/cuda_diagnostics.cc:204] kernel reported version is: 470.57.2\n",
      "2022-06-04 14:39:43.994195: I tensorflow/stream_executor/cuda/cuda_diagnostics.cc:310] kernel version seems to match DSO: 470.57.2\n",
      "2022-06-04 14:39:43.996527: I tensorflow/core/platform/cpu_feature_guard.cc:151] This TensorFlow binary is optimized with oneAPI Deep Neural Network Library (oneDNN) to use the following CPU instructions in performance-critical operations:  AVX2 FMA\n",
      "To enable them in other operations, rebuild TensorFlow with the appropriate compiler flags.\n"
     ]
    },
    {
     "name": "stdout",
     "output_type": "stream",
     "text": [
      "Model: \"model\"\n",
      "__________________________________________________________________________________________________\n",
      " Layer (type)                   Output Shape         Param #     Connected to                     \n",
      "==================================================================================================\n",
      " input_1 (InputLayer)           [(None, 600)]        0           []                               \n",
      "                                                                                                  \n",
      " embedding (Embedding)          (None, 600, 300)     13839000    ['input_1[0][0]']                \n",
      "                                                                                                  \n",
      " lstm (LSTM)                    [(None, 600, 300),   721200      ['embedding[0][0]']              \n",
      "                                 (None, 300),                                                     \n",
      "                                 (None, 300)]                                                     \n",
      "                                                                                                  \n",
      " input_2 (InputLayer)           [(None, None)]       0           []                               \n",
      "                                                                                                  \n",
      " lstm_1 (LSTM)                  [(None, 600, 300),   721200      ['lstm[0][0]']                   \n",
      "                                 (None, 300),                                                     \n",
      "                                 (None, 300)]                                                     \n",
      "                                                                                                  \n",
      " embedding_1 (Embedding)        (None, None, 300)    6316500     ['input_2[0][0]']                \n",
      "                                                                                                  \n",
      " lstm_2 (LSTM)                  [(None, 600, 300),   721200      ['lstm_1[0][0]']                 \n",
      "                                 (None, 300),                                                     \n",
      "                                 (None, 300)]                                                     \n",
      "                                                                                                  \n",
      " lstm_3 (LSTM)                  [(None, None, 300),  721200      ['embedding_1[0][0]',            \n",
      "                                 (None, 300),                     'lstm_2[0][1]',                 \n",
      "                                 (None, 300)]                     'lstm_2[0][2]']                 \n",
      "                                                                                                  \n",
      " time_distributed (TimeDistribu  (None, None, 21055)  6337555    ['lstm_3[0][0]']                 \n",
      " ted)                                                                                             \n",
      "                                                                                                  \n",
      "==================================================================================================\n",
      "Total params: 29,377,855\n",
      "Trainable params: 29,377,855\n",
      "Non-trainable params: 0\n",
      "__________________________________________________________________________________________________\n"
     ]
    }
   ]
  },
  {
   "cell_type": "code",
   "source": [
    "model.compile(optimizer='rmsprop', loss='sparse_categorical_crossentropy')\n",
    "\n",
    "es = EarlyStopping(monitor='val_loss', mode='min', verbose=1, patience=3)"
   ],
   "metadata": {
    "id": "pFPkJKedr0CK"
   },
   "execution_count": 28,
   "outputs": []
  },
  {
   "cell_type": "code",
   "source": [
    "history = model.fit(\n",
    "    [x_train, y_train[:, :-1]],\n",
    "    y_train.reshape(y_train.shape[0], y_train.shape[1], 1)[:, 1:],\n",
    "    epochs=50,\n",
    "    callbacks=[es],\n",
    "    batch_size=128,\n",
    "    validation_data=([x_dev, y_dev[:, :-1]],\n",
    "                     y_dev.reshape(y_dev.shape[0], y_dev.shape[1], 1)[:, 1:]),\n",
    "    )"
   ],
   "metadata": {
    "id": "2rKZ9CJJtTlm",
    "colab": {
     "base_uri": "https://localhost:8080/"
    },
    "outputId": "bcf1b25a-c9d9-4d3f-a559-dd3f308ce58e"
   },
   "execution_count": 31,
   "outputs": [
    {
     "name": "stdout",
     "output_type": "stream",
     "text": [
      "Epoch 1/50\n"
     ]
    },
    {
     "name": "stderr",
     "output_type": "stream",
     "text": [
      "2022-06-04 14:42:47.762884: W tensorflow/core/framework/cpu_allocator_impl.cc:82] Allocation of 158935200 exceeds 10% of free system memory.\n",
      "2022-06-04 14:42:50.496994: W tensorflow/core/framework/op_kernel.cc:1745] OP_REQUIRES failed at list_kernels.h:220 : RESOURCE_EXHAUSTED: OOM when allocating tensor with shape[600,128,300] and type float on /job:localhost/replica:0/task:0/device:CPU:0 by allocator cpu\n"
     ]
    },
    {
     "ename": "ResourceExhaustedError",
     "evalue": "Graph execution error:\n\nOOM when allocating tensor with shape[600,128,300] and type float on /job:localhost/replica:0/task:0/device:CPU:0 by allocator cpu\n\t [[{{node TensorArrayV2Stack/TensorListStack}}]]\nHint: If you want to see a list of allocated tensors when OOM happens, add report_tensor_allocations_upon_oom to RunOptions for current allocation info. This isn't available when running in Eager mode.\n\n\t [[model/lstm/PartitionedCall]]\nHint: If you want to see a list of allocated tensors when OOM happens, add report_tensor_allocations_upon_oom to RunOptions for current allocation info. This isn't available when running in Eager mode.\n [Op:__inference_train_function_11160]",
     "output_type": "error",
     "traceback": [
      "\u001B[0;31m---------------------------------------------------------------------------\u001B[0m",
      "\u001B[0;31mResourceExhaustedError\u001B[0m                    Traceback (most recent call last)",
      "\u001B[0;32m/tmp/ipykernel_17345/3319134407.py\u001B[0m in \u001B[0;36m<module>\u001B[0;34m\u001B[0m\n\u001B[1;32m      6\u001B[0m     \u001B[0mbatch_size\u001B[0m\u001B[0;34m=\u001B[0m\u001B[0;36m128\u001B[0m\u001B[0;34m,\u001B[0m\u001B[0;34m\u001B[0m\u001B[0;34m\u001B[0m\u001B[0m\n\u001B[1;32m      7\u001B[0m     validation_data=([x_dev, y_dev[:, :-1]],\n\u001B[0;32m----> 8\u001B[0;31m                      y_dev.reshape(y_dev.shape[0], y_dev.shape[1], 1)[:, 1:]),\n\u001B[0m\u001B[1;32m      9\u001B[0m     )\n",
      "\u001B[0;32m/opt/conda/lib/python3.7/site-packages/keras/utils/traceback_utils.py\u001B[0m in \u001B[0;36merror_handler\u001B[0;34m(*args, **kwargs)\u001B[0m\n\u001B[1;32m     65\u001B[0m     \u001B[0;32mexcept\u001B[0m \u001B[0mException\u001B[0m \u001B[0;32mas\u001B[0m \u001B[0me\u001B[0m\u001B[0;34m:\u001B[0m  \u001B[0;31m# pylint: disable=broad-except\u001B[0m\u001B[0;34m\u001B[0m\u001B[0;34m\u001B[0m\u001B[0m\n\u001B[1;32m     66\u001B[0m       \u001B[0mfiltered_tb\u001B[0m \u001B[0;34m=\u001B[0m \u001B[0m_process_traceback_frames\u001B[0m\u001B[0;34m(\u001B[0m\u001B[0me\u001B[0m\u001B[0;34m.\u001B[0m\u001B[0m__traceback__\u001B[0m\u001B[0;34m)\u001B[0m\u001B[0;34m\u001B[0m\u001B[0;34m\u001B[0m\u001B[0m\n\u001B[0;32m---> 67\u001B[0;31m       \u001B[0;32mraise\u001B[0m \u001B[0me\u001B[0m\u001B[0;34m.\u001B[0m\u001B[0mwith_traceback\u001B[0m\u001B[0;34m(\u001B[0m\u001B[0mfiltered_tb\u001B[0m\u001B[0;34m)\u001B[0m \u001B[0;32mfrom\u001B[0m \u001B[0;32mNone\u001B[0m\u001B[0;34m\u001B[0m\u001B[0;34m\u001B[0m\u001B[0m\n\u001B[0m\u001B[1;32m     68\u001B[0m     \u001B[0;32mfinally\u001B[0m\u001B[0;34m:\u001B[0m\u001B[0;34m\u001B[0m\u001B[0;34m\u001B[0m\u001B[0m\n\u001B[1;32m     69\u001B[0m       \u001B[0;32mdel\u001B[0m \u001B[0mfiltered_tb\u001B[0m\u001B[0;34m\u001B[0m\u001B[0;34m\u001B[0m\u001B[0m\n",
      "\u001B[0;32m/opt/conda/lib/python3.7/site-packages/tensorflow/python/eager/execute.py\u001B[0m in \u001B[0;36mquick_execute\u001B[0;34m(op_name, num_outputs, inputs, attrs, ctx, name)\u001B[0m\n\u001B[1;32m     53\u001B[0m     \u001B[0mctx\u001B[0m\u001B[0;34m.\u001B[0m\u001B[0mensure_initialized\u001B[0m\u001B[0;34m(\u001B[0m\u001B[0;34m)\u001B[0m\u001B[0;34m\u001B[0m\u001B[0;34m\u001B[0m\u001B[0m\n\u001B[1;32m     54\u001B[0m     tensors = pywrap_tfe.TFE_Py_Execute(ctx._handle, device_name, op_name,\n\u001B[0;32m---> 55\u001B[0;31m                                         inputs, attrs, num_outputs)\n\u001B[0m\u001B[1;32m     56\u001B[0m   \u001B[0;32mexcept\u001B[0m \u001B[0mcore\u001B[0m\u001B[0;34m.\u001B[0m\u001B[0m_NotOkStatusException\u001B[0m \u001B[0;32mas\u001B[0m \u001B[0me\u001B[0m\u001B[0;34m:\u001B[0m\u001B[0;34m\u001B[0m\u001B[0;34m\u001B[0m\u001B[0m\n\u001B[1;32m     57\u001B[0m     \u001B[0;32mif\u001B[0m \u001B[0mname\u001B[0m \u001B[0;32mis\u001B[0m \u001B[0;32mnot\u001B[0m \u001B[0;32mNone\u001B[0m\u001B[0;34m:\u001B[0m\u001B[0;34m\u001B[0m\u001B[0;34m\u001B[0m\u001B[0m\n",
      "\u001B[0;31mResourceExhaustedError\u001B[0m: Graph execution error:\n\nOOM when allocating tensor with shape[600,128,300] and type float on /job:localhost/replica:0/task:0/device:CPU:0 by allocator cpu\n\t [[{{node TensorArrayV2Stack/TensorListStack}}]]\nHint: If you want to see a list of allocated tensors when OOM happens, add report_tensor_allocations_upon_oom to RunOptions for current allocation info. This isn't available when running in Eager mode.\n\n\t [[model/lstm/PartitionedCall]]\nHint: If you want to see a list of allocated tensors when OOM happens, add report_tensor_allocations_upon_oom to RunOptions for current allocation info. This isn't available when running in Eager mode.\n [Op:__inference_train_function_11160]"
     ]
    }
   ]
  },
  {
   "cell_type": "markdown",
   "source": [
    "##Save Model"
   ],
   "metadata": {
    "id": "gPQ996jQbgbt"
   }
  },
  {
   "cell_type": "code",
   "source": [
    "model.save('baseline_1a')  "
   ],
   "metadata": {
    "id": "vXJHsRAhtYR3",
    "colab": {
     "base_uri": "https://localhost:8080/"
    },
    "outputId": "7a90a189-dd02-4632-92a5-8a2b13e972d4"
   },
   "execution_count": null,
   "outputs": []
  },
  {
   "cell_type": "code",
   "source": [
    "!zip -r /content/baseline_1a.zip /content/baseline_1a/"
   ],
   "metadata": {
    "id": "sQxhkfLmZ1GN"
   },
   "execution_count": null,
   "outputs": []
  },
  {
   "cell_type": "code",
   "source": [
    "from matplotlib import pyplot\n",
    "\n",
    "pyplot.plot(history.history['loss'], label='train')\n",
    "pyplot.plot(history.history['val_loss'], label='test')\n",
    "pyplot.legend()\n",
    "pyplot.show()"
   ],
   "metadata": {
    "id": "DBmYpsq35GCf",
    "colab": {
     "base_uri": "https://localhost:8080/",
     "height": 265
    },
    "outputId": "ea66ef7b-2e72-477a-fb48-d062ab7e8c12"
   },
   "execution_count": null,
   "outputs": []
  },
  {
   "cell_type": "code",
   "source": [
    "reverse_target_word_index = y_tokenizer.index_word\n",
    "reverse_source_word_index = x_tokenizer.index_word\n",
    "target_word_index = y_tokenizer.word_index"
   ],
   "metadata": {
    "id": "Vy4_uowj5Qrr"
   },
   "execution_count": null,
   "outputs": []
  },
  {
   "cell_type": "code",
   "source": [
    "encoder_model = Model(inputs=encoder_inputs, outputs=[encoder_outputs,\n",
    "                      state_h, state_c])\n",
    "\n",
    "# Decoder setup\n",
    "\n",
    "# Below tensors will hold the states of the previous time step\n",
    "decoder_state_input_h = Input(shape=(latent_dim, ))\n",
    "decoder_state_input_c = Input(shape=(latent_dim, ))\n",
    "decoder_hidden_state_input = Input(shape=(max_len_content, latent_dim))\n",
    "\n",
    "# Get the embeddings of the decoder sequence\n",
    "dec_emb2 = dec_emb_layer(decoder_inputs)\n",
    "\n",
    "# To predict the next word in the sequence, set the initial states to the states from the previous time step\n",
    "(decoder_outputs2, state_h2, state_c2) = decoder_lstm(dec_emb2,\n",
    "        initial_state=[decoder_state_input_h, decoder_state_input_c])\n",
    "\n",
    "# A dense softmax layer to generate prob dist. over the target vocabulary\n",
    "decoder_outputs2 = decoder_dense(decoder_outputs2)\n",
    "\n",
    "# Final decoder model\n",
    "decoder_model = Model([decoder_inputs] + [decoder_hidden_state_input,\n",
    "                      decoder_state_input_h, decoder_state_input_c],\n",
    "                      [decoder_outputs2] + [state_h2, state_c2])"
   ],
   "metadata": {
    "id": "25Cas1ZB5UoH"
   },
   "execution_count": null,
   "outputs": []
  },
  {
   "cell_type": "code",
   "source": [
    "def decode_sequence(input_seq):\n",
    "\n",
    "    # Encode the input as state vectors.\n",
    "    (e_out, e_h, e_c) = encoder_model.predict(input_seq)\n",
    "\n",
    "    # Generate empty target sequence of length 1\n",
    "    target_seq = np.zeros((1, 1))\n",
    "\n",
    "    # Populate the first word of target sequence with the start word.\n",
    "    target_seq[0, 0] = target_word_index['sostok']\n",
    "\n",
    "    stop_condition = False\n",
    "    decoded_sentence = ''\n",
    "\n",
    "    while not stop_condition:\n",
    "        (output_tokens, h, c) = decoder_model.predict([target_seq]\n",
    "                + [e_out, e_h, e_c])\n",
    "\n",
    "        # Sample a token\n",
    "        sampled_token_index = np.argmax(output_tokens[0, -1, :])\n",
    "        sampled_token = reverse_target_word_index[sampled_token_index]\n",
    "\n",
    "        if sampled_token != 'eostok':\n",
    "            decoded_sentence += ' ' + sampled_token\n",
    "\n",
    "        # Exit condition: either hit max length or find the stop word.\n",
    "        if sampled_token == 'eostok' or len(decoded_sentence.split()) \\\n",
    "            >= max_len_summary - 1:\n",
    "            stop_condition = True\n",
    "\n",
    "        # Update the target sequence (of length 1)\n",
    "        target_seq = np.zeros((1, 1))\n",
    "        target_seq[0, 0] = sampled_token_index\n",
    "\n",
    "        # Update internal states\n",
    "        (e_h, e_c) = (h, c)\n",
    "\n",
    "    return decoded_sentence"
   ],
   "metadata": {
    "id": "w5F7_yow5Xg8"
   },
   "execution_count": null,
   "outputs": []
  },
  {
   "cell_type": "code",
   "source": [
    "# To convert sequence to summary\n",
    "def seq2summary(input_seq):\n",
    "    newString = ''\n",
    "    for i in input_seq:\n",
    "        if i != 0 and i != target_word_index['sostok'] and i \\\n",
    "            != target_word_index['eostok']:\n",
    "            newString = newString + reverse_target_word_index[i] + ' '\n",
    "\n",
    "    return newString\n",
    "\n",
    "\n",
    "# To convert sequence to text\n",
    "def seq2text(input_seq):\n",
    "    newString = ''\n",
    "    for i in input_seq:\n",
    "        if i != 0:\n",
    "            newString = newString + reverse_source_word_index[i] + ' '\n",
    "\n",
    "    return newString"
   ],
   "metadata": {
    "id": "NOETJ5gD5n6a"
   },
   "execution_count": null,
   "outputs": []
  },
  {
   "cell_type": "code",
   "source": [
    "for i, news in enumerate(x_test):\n",
    "    if i == 10:\n",
    "        break\n",
    "    print ('Review:', seq2text(news))\n",
    "    print ('Original summary:', seq2summary(y_test[i]))\n",
    "    print ('Predicted summary:', decode_sequence(news.reshape(1,\n",
    "           max_len_content)))\n",
    "    print ('\\n')"
   ],
   "metadata": {
    "id": "tpuxOp4f5tEK",
    "colab": {
     "base_uri": "https://localhost:8080/"
    },
    "outputId": "32d8ff68-7e07-4ba5-b9d5-04dcf875c028"
   },
   "execution_count": null,
   "outputs": []
  }
 ]
}