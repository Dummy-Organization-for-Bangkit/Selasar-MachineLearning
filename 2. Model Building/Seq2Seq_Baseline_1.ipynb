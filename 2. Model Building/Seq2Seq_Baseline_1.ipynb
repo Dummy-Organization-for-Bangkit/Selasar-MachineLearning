{
  "nbformat": 4,
  "nbformat_minor": 0,
  "metadata": {
    "colab": {
      "name": "Seq2Seq Baseline 1.ipynb",
      "provenance": [],
      "collapsed_sections": [
        "YzpEonV8VJQs"
      ]
    },
    "kernelspec": {
      "name": "python3",
      "display_name": "Python 3"
    },
    "language_info": {
      "name": "python"
    },
    "accelerator": "GPU"
  },
  "cells": [
    {
      "cell_type": "markdown",
      "source": [
        "##Load Data"
      ],
      "metadata": {
        "id": "yDP2W7CxcIMl"
      }
    },
    {
      "cell_type": "code",
      "execution_count": 1,
      "metadata": {
        "colab": {
          "base_uri": "https://localhost:8080/"
        },
        "id": "eH462Xp7aR6z",
        "outputId": "2873edd6-a492-46b9-cbd6-ba8a050f5551"
      },
      "outputs": [
        {
          "output_type": "stream",
          "name": "stdout",
          "text": [
            "Downloading...\n",
            "From: https://drive.google.com/uc?id=1OgYbPfXFAv3TbwP1Qcwt_CC9cVWSJaco\n",
            "To: /content/indosum.tar.gz\n",
            "100% 96.0M/96.0M [00:01<00:00, 51.9MB/s]\n"
          ]
        }
      ],
      "source": [
        "!gdown 1OgYbPfXFAv3TbwP1Qcwt_CC9cVWSJaco"
      ]
    },
    {
      "cell_type": "code",
      "source": [
        "import tarfile\n",
        "\n",
        "with tarfile.open('indosum.tar.gz') as tar:\n",
        "    tar.extractall()\n",
        "    tar.close()"
      ],
      "metadata": {
        "id": "Gp5Y4jhqcM62"
      },
      "execution_count": 2,
      "outputs": []
    },
    {
      "cell_type": "code",
      "source": [
        "import os\n",
        "import json\n",
        "\n",
        "BASE_PATH = './indosum'\n",
        "indosum = {\n",
        "    'train': [],\n",
        "    'dev': [],\n",
        "    'test': []\n",
        "}\n",
        "\n",
        "for json_file in os.listdir('indosum'):\n",
        "    if json_file.endswith('.jsonl'):\n",
        "        split, fold, ext = json_file.split('.')\n",
        "        file_path = os.path.join(BASE_PATH, json_file)\n",
        "        \n",
        "        with open(file_path, 'r') as json_file:\n",
        "            json_list = list(json_file)\n",
        "            for json_str in json_list:\n",
        "                result = json.loads(json_str)\n",
        "                indosum[split].append(result)\n",
        "            \n",
        "\n",
        "with open('indosum.json', 'w', encoding='utf-8') as f:\n",
        "    json.dump(indosum, f, ensure_ascii=False, indent=2)\n",
        "    "
      ],
      "metadata": {
        "id": "xLwnY-jOd6fQ"
      },
      "execution_count": 3,
      "outputs": []
    },
    {
      "cell_type": "code",
      "source": [
        "import re\n",
        "\n",
        "def add_start_end_sequence(summary):\n",
        "    summary = 'sostok ' + summary + ' eostok'\n",
        "    return summary\n",
        "\n",
        "def convert_to_words(news_file, to_article=False):\n",
        "    content_words = []\n",
        "    for paragraph in news_file['paragraphs']:\n",
        "        for sentence in paragraph:\n",
        "            for word in sentence:\n",
        "                if re.match('[A-Za-z0-9]+', word):\n",
        "                    word = str(word).lower()\n",
        "                    content_words.append(word) \n",
        "\n",
        "    summary_words = []\n",
        "    for sentence in news_file['summary']:\n",
        "        for word in sentence:\n",
        "            if re.match('[A-Za-z0-9]+', word):\n",
        "                word = str(word).lower()\n",
        "                summary_words.append(word)\n",
        "\n",
        "    content_words = ' '.join(content_words)\n",
        "    summary_words = ' '.join(summary_words)\n",
        "\n",
        "    summary_words = add_start_end_sequence(summary_words)\n",
        "    \n",
        "    news_file['paragraphs'] = content_words\n",
        "    news_file['summary'] = summary_words"
      ],
      "metadata": {
        "id": "LhMPRe2LkFYi"
      },
      "execution_count": 4,
      "outputs": []
    },
    {
      "cell_type": "code",
      "source": [
        "for split in indosum.keys():\n",
        "    for news in indosum[split]:\n",
        "        convert_to_words(news)"
      ],
      "metadata": {
        "id": "ps7s8-FLeg5J"
      },
      "execution_count": 5,
      "outputs": []
    },
    {
      "cell_type": "code",
      "source": [
        "print(indosum['dev'][5]['paragraphs'])\n",
        "print(indosum['dev'][5]['summary'])"
      ],
      "metadata": {
        "colab": {
          "base_uri": "https://localhost:8080/"
        },
        "id": "QuaX8z_FpCRx",
        "outputId": "ffb9265e-2f96-4b2c-8d13-b911588fec1f"
      },
      "execution_count": 6,
      "outputs": [
        {
          "output_type": "stream",
          "name": "stdout",
          "text": [
            "jakarta cnn indonesia channing tatum seharusnya mengawali debutnya sebagai sutradara lewat film remaja forgive me leonard peacock namun skandal seks harvey weinstein menghentikan langkahnya tatum sepertinya tak mau dikait kaitkan dengan dugaan pelecehan seksual yang tengah menimpa weinstein ia pun melanjutkan untuk tidak melanjutkan proyek film yang akan disutradarainya pasalnya film itu dibiayai oleh perusahaan the weinstein company padahal aktor berusia 37 tahun itu telah bersiap menjalani proyek bersama reid carolin namun ia mengumumkan pengunduran dirinya melalui instagram dengan 15 juta pengikut perempuan tangguh yang berani untuk berdiri dan mengatakan kebenaran tentang harvey weinstein adalah pahlawan sejati bagi kami kata sang aktor mengawali pengumumannya mereka mengangkat beban batu bata berat untuk membangun dunia yang layak kita tinggali lebih lanjut tatum mengatakan bahwa proyek tunggal kerjasamanya dengan twc itu mengadaptasi buku forgive me leonard peacock karya matthew quick kisah itu menceritakan tentang seorang anak laki-laki yang hidupnya hancur karena pelecehan seksual namun dia telah yakin melepasnya dan tak mau bekerjasama di proyek lain dengan twc padahal weinstein sudah dipecat dari perusahaan yang digagasnya sendiri itu meskipun kami tidak akan mengembangkannya atau hal lain yang menjadi milik twc lagi kami diingatkan akan pesan penyembuhan yang kuat setelah kasus ini katanya dia menegaskan bahwa saat ini adalah kesempatan besar untuk perubahan positif dalam industri kreatif dengan menghilangkan penyalahgunaan kekuasaan selain mundurnya tatum dari proyek tersebut the weinstein company turut kehilangan proyek mereka bersama amazon twc seharusnya mengembangkan serial yang dibintangi oleh robert de niro dan julianne moore namun ace showbiz melaporkan proyek itu dibatalkan meski begitu amazon masih melanjutkan proyek lain bersama the weinstein company serial yang berjudul the romanoffs\n",
            "sostok channing tatum seharusnya mengawali debutnya sebagai sutradara lewat film remaja forgive me leonard peacock namun skandal seks harvey weinstein menghentikan langkahnya tatum sepertinya tak mau dikait kaitkan dengan dugaan pelecehan seksual yang tengah menimpa weinstein ia pun melanjutkan untuk tidak melanjutkan proyek film yang akan disutradarainya pasalnya film itu dibiayai oleh perusahaan the weinstein company eostok\n"
          ]
        }
      ]
    },
    {
      "cell_type": "code",
      "source": [
        "import pandas as pd\n",
        "import matplotlib.pyplot as plt\n",
        "\n",
        "def visualize_words_distribution(dataset_dict):\n",
        "    content_count = []\n",
        "    summary_count = []\n",
        "\n",
        "    for split in dataset_dict.keys():\n",
        "        for news in dataset_dict[split]:\n",
        "            content_word_count = len(news['paragraphs'].split(' '))\n",
        "            summary_word_count = len(news['summary'].split(' '))\n",
        "            content_count.append(content_word_count)\n",
        "            summary_count.append(summary_word_count)\n",
        "\n",
        "    average_length = pd.DataFrame() \n",
        "\n",
        "    average_length['content'] = content_count\n",
        "    average_length['summary'] = summary_count\n",
        "\n",
        "    average_length.hist(bins = 5)\n",
        "    plt.show()\n",
        "    return average_length\n",
        "\n",
        "average_length = visualize_words_distribution(indosum)          "
      ],
      "metadata": {
        "colab": {
          "base_uri": "https://localhost:8080/",
          "height": 281
        },
        "id": "hUTwNs2Cj7sv",
        "outputId": "71800404-21a2-4b8e-8780-1a5cb79108e4"
      },
      "execution_count": 7,
      "outputs": [
        {
          "output_type": "display_data",
          "data": {
            "text/plain": [
              "<Figure size 432x288 with 2 Axes>"
            ],
            "image/png": "[encoded data removed]"
          },
          "metadata": {
            "needs_background": "light"
          }
        }
      ]
    },
    {
      "cell_type": "code",
      "source": [
        "def count_words_length_percentage(max_len, length_list):\n",
        "    cnt = 0\n",
        "    for length in length_list:\n",
        "        if length <= max_len:\n",
        "            cnt = cnt + 1\n",
        "    return cnt / len(length_list)\n",
        "\n",
        "max_len_content = 600\n",
        "max_len_summary = 65\n",
        "\n",
        "print(count_words_length_percentage(max_len_content, average_length['content']))\n",
        "print(count_words_length_percentage(max_len_summary, average_length['summary']))"
      ],
      "metadata": {
        "colab": {
          "base_uri": "https://localhost:8080/"
        },
        "id": "qwXTi8sPoxMB",
        "outputId": "80b7e579-d751-4a4c-a208-1b1f4d6e1984"
      },
      "execution_count": 8,
      "outputs": [
        {
          "output_type": "stream",
          "name": "stdout",
          "text": [
            "0.9818791946308725\n",
            "0.944710770214126\n"
          ]
        }
      ]
    },
    {
      "cell_type": "code",
      "source": [
        "indosum_new = {\n",
        "    'train': [],\n",
        "    'dev': [],\n",
        "    'test': []\n",
        "}\n",
        "\n",
        "for split in indosum_new.keys():\n",
        "    for news in indosum[split]:\n",
        "        content_len = len(news['paragraphs'].split(' '))\n",
        "        summary_len = len(news['summary'].split(' '))\n",
        "        if (content_len <= max_len_content) and (summary_len <= max_len_summary):\n",
        "            indosum_new[split].append(news)"
      ],
      "metadata": {
        "id": "UGVylCFUpwTx"
      },
      "execution_count": 9,
      "outputs": []
    },
    {
      "cell_type": "code",
      "source": [
        "average_length_new = visualize_words_distribution(indosum_new)"
      ],
      "metadata": {
        "colab": {
          "base_uri": "https://localhost:8080/",
          "height": 281
        },
        "id": "zgg-KfTKp5x5",
        "outputId": "82a706b6-c2cd-4f94-d0e2-d9423b1db881"
      },
      "execution_count": 10,
      "outputs": [
        {
          "output_type": "display_data",
          "data": {
            "text/plain": [
              "<Figure size 432x288 with 2 Axes>"
            ],
            "image/png": "[encoded data removed]"
          },
          "metadata": {
            "needs_background": "light"
          }
        }
      ]
    },
    {
      "cell_type": "markdown",
      "source": [
        "##Split Train, Dev, Test"
      ],
      "metadata": {
        "id": "UMG1mbXRqZ4y"
      }
    },
    {
      "cell_type": "code",
      "source": [
        "X = {\n",
        "    'train': [],\n",
        "     'dev': [],\n",
        "     'test': []\n",
        "}\n",
        "for split in indosum_new.keys():\n",
        "    for news in indosum_new[split]:\n",
        "        X[split].append(news['paragraphs'])\n",
        "\n",
        "y = {\n",
        "    'train': [],\n",
        "     'dev': [],\n",
        "     'test': []\n",
        "}\n",
        "for split in indosum_new.keys():\n",
        "    for news in indosum_new[split]:\n",
        "        y[split].append(news['summary'])"
      ],
      "metadata": {
        "id": "JnG2JJlsp9Oc"
      },
      "execution_count": 11,
      "outputs": []
    },
    {
      "cell_type": "code",
      "source": [
        "X_train, X_dev, X_test = X['train'], X['dev'], X['test']\n",
        "y_train, y_dev, y_test = y['train'], y['dev'], y['test']"
      ],
      "metadata": {
        "id": "6lSxUZRSqeni"
      },
      "execution_count": 12,
      "outputs": []
    },
    {
      "cell_type": "markdown",
      "source": [
        "##(Experimental) Word Embedding"
      ],
      "metadata": {
        "id": "YzpEonV8VJQs"
      }
    },
    {
      "cell_type": "code",
      "source": [
        "#!pip install fasttext"
      ],
      "metadata": {
        "id": "nhy2OrhwVLx6"
      },
      "execution_count": 13,
      "outputs": []
    },
    {
      "cell_type": "code",
      "source": [
        "#import fasttext\n",
        "#import fasttext.util\n",
        " \n",
        "#fasttext.util.download_model('id', if_exists='ignore')"
      ],
      "metadata": {
        "id": "8qDsnB3DV1Op"
      },
      "execution_count": 14,
      "outputs": []
    },
    {
      "cell_type": "code",
      "source": [
        "#ft = fasttext.load_model(\"cc.id.300.bin\")\n",
        "#ft.get_dimension()"
      ],
      "metadata": {
        "id": "5wQehvJ-WKCD"
      },
      "execution_count": 15,
      "outputs": []
    },
    {
      "cell_type": "code",
      "source": [
        "#fasttext.util.reduce_model(ft, 100)\n",
        "#ft.get_dimension()"
      ],
      "metadata": {
        "id": "awIkv3rTNjKG"
      },
      "execution_count": 16,
      "outputs": []
    },
    {
      "cell_type": "markdown",
      "source": [
        "#Tokenization"
      ],
      "metadata": {
        "id": "PSzNepwMqgxz"
      }
    },
    {
      "cell_type": "code",
      "source": [
        "# Tokenize the text to get the vocab count \n",
        "from tensorflow.keras.preprocessing.text import Tokenizer \n",
        "from tensorflow.keras.preprocessing.sequence import pad_sequences\n",
        "import numpy as np\n",
        "\n",
        "# Prepare a tokenizer on training data\n",
        "x_tokenizer = Tokenizer() \n",
        "x_tokenizer.fit_on_texts(np.array(X_train))"
      ],
      "metadata": {
        "id": "tmeEGgnaqmOu"
      },
      "execution_count": 17,
      "outputs": []
    },
    {
      "cell_type": "code",
      "source": [
        "def count_rare_words(threshold, tokenizer):\n",
        "    cnt = 0\n",
        "    tot_cnt = 0\n",
        "\n",
        "    for key, value in tokenizer.word_counts.items():\n",
        "        tot_cnt = tot_cnt + 1\n",
        "        if value < threshold:\n",
        "            cnt = cnt + 1\n",
        "    \n",
        "    print('Threshold: {}'.format(threshold))\n",
        "    print(\"% of rare words in vocabulary: \", (cnt / tot_cnt) * 100)\n",
        "\n",
        "    return cnt, tot_cnt\n",
        "\n",
        "cnt, tot_cnt = count_rare_words(10, x_tokenizer)"
      ],
      "metadata": {
        "id": "W2nrFoBKqoZX",
        "colab": {
          "base_uri": "https://localhost:8080/"
        },
        "outputId": "c66d4597-63b2-4695-c942-62c9915657c4"
      },
      "execution_count": 18,
      "outputs": [
        {
          "output_type": "stream",
          "name": "stdout",
          "text": [
            "Threshold: 10\n",
            "% of rare words in vocabulary:  54.2548022094626\n"
          ]
        }
      ]
    },
    {
      "cell_type": "code",
      "source": [
        "# Prepare a tokenizer, again -- by not considering the rare words\n",
        "x_tokenizer = Tokenizer(num_words = tot_cnt - cnt) \n",
        "x_tokenizer.fit_on_texts(np.array(X_train))\n",
        "\n",
        "# Convert text sequences to integer sequences \n",
        "x_train_seq = x_tokenizer.texts_to_sequences(X_train) \n",
        "x_dev_seq = x_tokenizer.texts_to_sequences(X_dev)\n",
        "x_test_seq = x_tokenizer.texts_to_sequences(X_test)\n",
        "\n",
        "# Pad zero upto maximum length\n",
        "x_train = pad_sequences(x_train_seq,  maxlen=max_len_content, padding='post')\n",
        "x_dev = pad_sequences(x_dev_seq, maxlen=max_len_content, padding='post')\n",
        "x_test = pad_sequences(x_test_seq,  maxlen=max_len_content, padding='post')\n",
        "\n",
        "# Size of vocabulary (+1 for padding token)\n",
        "x_vocab = x_tokenizer.num_words + 1\n",
        "\n",
        "print(\"Size of vocabulary in X = {}\".format(x_vocab))"
      ],
      "metadata": {
        "id": "OUeET2eaqxL1",
        "colab": {
          "base_uri": "https://localhost:8080/"
        },
        "outputId": "7fec286f-d372-4027-cbe4-f708d9a6cd01"
      },
      "execution_count": 19,
      "outputs": [
        {
          "output_type": "stream",
          "name": "stdout",
          "text": [
            "Size of vocabulary in X = 46130\n"
          ]
        }
      ]
    },
    {
      "cell_type": "code",
      "source": [
        "# Prepare a tokenizer on test data\n",
        "y_tokenizer = Tokenizer() \n",
        "y_tokenizer.fit_on_texts(np.array(y_train))\n",
        "\n",
        "cnt_test, tot_cnt_test = count_rare_words(10, y_tokenizer)"
      ],
      "metadata": {
        "id": "AxBuCLwgrHou",
        "colab": {
          "base_uri": "https://localhost:8080/"
        },
        "outputId": "51addfde-1769-4868-e7ab-7c4dc3fe318a"
      },
      "execution_count": 20,
      "outputs": [
        {
          "output_type": "stream",
          "name": "stdout",
          "text": [
            "Threshold: 10\n",
            "% of rare words in vocabulary:  56.45501551189245\n"
          ]
        }
      ]
    },
    {
      "cell_type": "code",
      "source": [
        "# Prepare a tokenizer, again -- by not considering the rare words\n",
        "y_tokenizer = Tokenizer(num_words = tot_cnt_test - cnt_test) \n",
        "y_tokenizer.fit_on_texts(np.array(y_train))\n",
        "\n",
        "# Convert text sequences to integer sequences \n",
        "y_train_seq = y_tokenizer.texts_to_sequences(y_train) \n",
        "y_dev_seq = y_tokenizer.texts_to_sequences(y_dev)\n",
        "y_test_seq = y_tokenizer.texts_to_sequences(y_test)\n",
        "\n",
        "# Pad zero upto maximum length\n",
        "y_train = pad_sequences(y_train_seq,  maxlen=max_len_summary, padding='post')\n",
        "y_dev = pad_sequences(y_dev_seq, maxlen=max_len_summary, padding='post')\n",
        "y_test = pad_sequences(y_test_seq,  maxlen=max_len_summary, padding='post')\n",
        "\n",
        "# Size of vocabulary (+1 for padding token)\n",
        "y_vocab = y_tokenizer.num_words + 1\n",
        "\n",
        "print(\"Size of vocabulary in X = {}\".format(y_vocab))"
      ],
      "metadata": {
        "id": "pJlpQBcnrMs4",
        "colab": {
          "base_uri": "https://localhost:8080/"
        },
        "outputId": "c75452d2-286a-4b4a-8a63-f3230571cfea"
      },
      "execution_count": 21,
      "outputs": [
        {
          "output_type": "stream",
          "name": "stdout",
          "text": [
            "Size of vocabulary in X = 21055\n"
          ]
        }
      ]
    },
    {
      "cell_type": "code",
      "source": [
        "from tensorflow.keras.preprocessing.text import Tokenizer\n",
        "from tensorflow.keras.preprocessing.sequence import pad_sequences\n",
        "from tensorflow.keras.layers import Input, LSTM, Embedding, Dense, \\\n",
        "    Concatenate, TimeDistributed\n",
        "from tensorflow.keras.models import Model\n",
        "from tensorflow.keras.callbacks import EarlyStopping"
      ],
      "metadata": {
        "id": "vltBdmbNrPCq"
      },
      "execution_count": 22,
      "outputs": []
    },
    {
      "cell_type": "code",
      "source": [
        "latent_dim = 300\n",
        "embedding_dim = 300\n",
        "\n",
        "# Encoder\n",
        "encoder_inputs = Input(shape=(max_len_content, ))\n",
        "\n",
        "# Embedding layer\n",
        "enc_emb = Embedding(x_vocab, embedding_dim,\n",
        "                    trainable=True)(encoder_inputs)\n",
        "\n",
        "# Encoder LSTM 1\n",
        "encoder_lstm1 = LSTM(latent_dim, return_sequences=True,\n",
        "                     return_state=True, dropout=0.4,\n",
        "                     recurrent_dropout=0)\n",
        "(encoder_output1, state_h1, state_c1) = encoder_lstm1(enc_emb)\n",
        "\n",
        "# Encoder LSTM 2\n",
        "encoder_lstm2 = LSTM(latent_dim, return_sequences=True,\n",
        "                     return_state=True, dropout=0.4,\n",
        "                     recurrent_dropout=0)\n",
        "(encoder_output2, state_h2, state_c2) = encoder_lstm2(encoder_output1)\n",
        "\n",
        "# Encoder LSTM 3\n",
        "encoder_lstm3 = LSTM(latent_dim, return_state=True,\n",
        "                     return_sequences=True, dropout=0.4,\n",
        "                     recurrent_dropout=0)\n",
        "(encoder_outputs, state_h, state_c) = encoder_lstm3(encoder_output2)\n",
        "\n",
        "# Set up the decoder, using encoder_states as the initial state\n",
        "decoder_inputs = Input(shape=(None, ))\n",
        "\n",
        "# Embedding layer\n",
        "dec_emb_layer = Embedding(y_vocab, embedding_dim, trainable=True)\n",
        "dec_emb = dec_emb_layer(decoder_inputs)\n",
        "\n",
        "# Decoder LSTM\n",
        "decoder_lstm = LSTM(latent_dim, return_sequences=True,\n",
        "                    return_state=True, dropout=0.4,\n",
        "                    recurrent_dropout=0)\n",
        "(decoder_outputs, decoder_fwd_state, decoder_back_state) = \\\n",
        "    decoder_lstm(dec_emb, initial_state=[state_h, state_c])\n",
        "\n",
        "# Dense layer\n",
        "decoder_dense = TimeDistributed(Dense(y_vocab, activation='softmax'))\n",
        "decoder_outputs = decoder_dense(decoder_outputs)\n",
        "\n",
        "# Define the model\n",
        "model = Model([encoder_inputs, decoder_inputs], decoder_outputs)\n",
        "\n",
        "model.summary()"
      ],
      "metadata": {
        "id": "cbZCWNTGrVjA",
        "colab": {
          "base_uri": "https://localhost:8080/"
        },
        "outputId": "e188edee-7d94-4ccf-cad4-1cddc780353e"
      },
      "execution_count": 23,
      "outputs": [
        {
          "output_type": "stream",
          "name": "stdout",
          "text": [
            "Model: \"model\"\n",
            "__________________________________________________________________________________________________\n",
            " Layer (type)                   Output Shape         Param #     Connected to                     \n",
            "==================================================================================================\n",
            " input_1 (InputLayer)           [(None, 600)]        0           []                               \n",
            "                                                                                                  \n",
            " embedding (Embedding)          (None, 600, 300)     13839000    ['input_1[0][0]']                \n",
            "                                                                                                  \n",
            " lstm (LSTM)                    [(None, 600, 300),   721200      ['embedding[0][0]']              \n",
            "                                 (None, 300),                                                     \n",
            "                                 (None, 300)]                                                     \n",
            "                                                                                                  \n",
            " input_2 (InputLayer)           [(None, None)]       0           []                               \n",
            "                                                                                                  \n",
            " lstm_1 (LSTM)                  [(None, 600, 300),   721200      ['lstm[0][0]']                   \n",
            "                                 (None, 300),                                                     \n",
            "                                 (None, 300)]                                                     \n",
            "                                                                                                  \n",
            " embedding_1 (Embedding)        (None, None, 300)    6316500     ['input_2[0][0]']                \n",
            "                                                                                                  \n",
            " lstm_2 (LSTM)                  [(None, 600, 300),   721200      ['lstm_1[0][0]']                 \n",
            "                                 (None, 300),                                                     \n",
            "                                 (None, 300)]                                                     \n",
            "                                                                                                  \n",
            " lstm_3 (LSTM)                  [(None, None, 300),  721200      ['embedding_1[0][0]',            \n",
            "                                 (None, 300),                     'lstm_2[0][1]',                 \n",
            "                                 (None, 300)]                     'lstm_2[0][2]']                 \n",
            "                                                                                                  \n",
            " time_distributed (TimeDistribu  (None, None, 21055)  6337555    ['lstm_3[0][0]']                 \n",
            " ted)                                                                                             \n",
            "                                                                                                  \n",
            "==================================================================================================\n",
            "Total params: 29,377,855\n",
            "Trainable params: 29,377,855\n",
            "Non-trainable params: 0\n",
            "__________________________________________________________________________________________________\n"
          ]
        }
      ]
    },
    {
      "cell_type": "code",
      "source": [
        "model.compile(optimizer='rmsprop', loss='sparse_categorical_crossentropy')\n",
        "\n",
        "es = EarlyStopping(monitor='val_loss', mode='min', verbose=1, patience=3)"
      ],
      "metadata": {
        "id": "pFPkJKedr0CK"
      },
      "execution_count": 24,
      "outputs": []
    },
    {
      "cell_type": "code",
      "source": [
        " nhistory = model.fit(\n",
        "    [x_train, y_train[:, :-1]],\n",
        "    y_train.reshape(y_train.shape[0], y_train.shape[1], 1)[:, 1:],\n",
        "    epochs=50,\n",
        "    callbacks=[es],\n",
        "    batch_size=128,\n",
        "    validation_data=([x_dev, y_dev[:, :-1]],\n",
        "                     y_dev.reshape(y_dev.shape[0], y_dev.shape[1], 1)[:\n",
        "                     , 1:]),\n",
        "    )"
      ],
      "metadata": {
        "id": "2rKZ9CJJtTlm",
        "colab": {
          "base_uri": "https://localhost:8080/"
        },
        "outputId": "bcf1b25a-c9d9-4d3f-a559-dd3f308ce58e"
      },
      "execution_count": 25,
      "outputs": [
        {
          "output_type": "stream",
          "name": "stdout",
          "text": [
            "Epoch 1/50\n",
            "518/518 [==============================] - 397s 744ms/step - loss: 6.7173 - val_loss: 6.0545\n",
            "Epoch 2/50\n",
            "518/518 [==============================] - 385s 744ms/step - loss: 5.6848 - val_loss: 5.3503\n",
            "Epoch 3/50\n",
            "518/518 [==============================] - 385s 744ms/step - loss: 5.1372 - val_loss: 4.9529\n",
            "Epoch 4/50\n",
            "518/518 [==============================] - 385s 744ms/step - loss: 4.7866 - val_loss: 4.6828\n",
            "Epoch 5/50\n",
            "518/518 [==============================] - 385s 744ms/step - loss: 4.5297 - val_loss: 4.4879\n",
            "Epoch 6/50\n",
            "518/518 [==============================] - 385s 744ms/step - loss: 4.3221 - val_loss: 4.3175\n",
            "Epoch 7/50\n",
            "518/518 [==============================] - 385s 744ms/step - loss: 4.1510 - val_loss: 4.1795\n",
            "Epoch 8/50\n",
            "518/518 [==============================] - 385s 744ms/step - loss: 4.0047 - val_loss: 4.0577\n",
            "Epoch 9/50\n",
            "518/518 [==============================] - 385s 744ms/step - loss: 3.8782 - val_loss: 3.9513\n",
            "Epoch 10/50\n",
            "518/518 [==============================] - 385s 744ms/step - loss: 3.7694 - val_loss: 3.8630\n",
            "Epoch 11/50\n",
            "518/518 [==============================] - 385s 744ms/step - loss: 3.6677 - val_loss: 3.7650\n",
            "Epoch 12/50\n",
            "518/518 [==============================] - 386s 744ms/step - loss: 3.5773 - val_loss: 3.6944\n",
            "Epoch 13/50\n",
            "518/518 [==============================] - 386s 744ms/step - loss: 3.4962 - val_loss: 3.6214\n",
            "Epoch 14/50\n",
            "518/518 [==============================] - 385s 744ms/step - loss: 3.4188 - val_loss: 3.5547\n",
            "Epoch 15/50\n",
            "518/518 [==============================] - 385s 744ms/step - loss: 3.3512 - val_loss: 3.4910\n",
            "Epoch 16/50\n",
            "518/518 [==============================] - 385s 744ms/step - loss: 3.2888 - val_loss: 3.4305\n",
            "Epoch 17/50\n",
            "518/518 [==============================] - 385s 744ms/step - loss: 3.2334 - val_loss: 3.3866\n",
            "Epoch 18/50\n",
            "518/518 [==============================] - 385s 744ms/step - loss: 3.1823 - val_loss: 3.3354\n",
            "Epoch 19/50\n",
            "518/518 [==============================] - 385s 744ms/step - loss: 3.1340 - val_loss: 3.2938\n",
            "Epoch 20/50\n",
            "518/518 [==============================] - 386s 745ms/step - loss: 3.0855 - val_loss: 3.2332\n",
            "Epoch 21/50\n",
            "518/518 [==============================] - 385s 744ms/step - loss: 3.0443 - val_loss: 3.2018\n",
            "Epoch 22/50\n",
            "518/518 [==============================] - 385s 744ms/step - loss: 3.0065 - val_loss: 3.1546\n",
            "Epoch 23/50\n",
            "518/518 [==============================] - 385s 744ms/step - loss: 2.9699 - val_loss: 3.1127\n",
            "Epoch 24/50\n",
            "518/518 [==============================] - 385s 744ms/step - loss: 2.9307 - val_loss: 3.0730\n",
            "Epoch 25/50\n",
            "518/518 [==============================] - 385s 744ms/step - loss: 2.8962 - val_loss: 3.0469\n",
            "Epoch 26/50\n",
            "518/518 [==============================] - 385s 744ms/step - loss: 2.8688 - val_loss: 3.0180\n",
            "Epoch 27/50\n",
            "518/518 [==============================] - 385s 744ms/step - loss: 2.8416 - val_loss: 2.9891\n",
            "Epoch 28/50\n",
            "518/518 [==============================] - 385s 744ms/step - loss: 2.8143 - val_loss: 2.9509\n",
            "Epoch 29/50\n",
            "518/518 [==============================] - 385s 744ms/step - loss: 2.7880 - val_loss: 2.9181\n",
            "Epoch 30/50\n",
            "518/518 [==============================] - 385s 744ms/step - loss: 2.7605 - val_loss: 2.8996\n",
            "Epoch 31/50\n",
            "518/518 [==============================] - 385s 744ms/step - loss: 2.7355 - val_loss: 2.8730\n",
            "Epoch 32/50\n",
            "518/518 [==============================] - 385s 744ms/step - loss: 2.7103 - val_loss: 2.8373\n",
            "Epoch 33/50\n",
            "518/518 [==============================] - 385s 744ms/step - loss: 2.6873 - val_loss: 2.8126\n",
            "Epoch 34/50\n",
            "518/518 [==============================] - 385s 744ms/step - loss: 2.6607 - val_loss: 2.7839\n",
            "Epoch 35/50\n",
            "518/518 [==============================] - 385s 744ms/step - loss: 2.6393 - val_loss: 2.7608\n",
            "Epoch 36/50\n",
            "518/518 [==============================] - 385s 744ms/step - loss: 2.6176 - val_loss: 2.7336\n",
            "Epoch 37/50\n",
            "518/518 [==============================] - 385s 744ms/step - loss: 2.5982 - val_loss: 2.7188\n",
            "Epoch 38/50\n",
            "518/518 [==============================] - 385s 744ms/step - loss: 2.5799 - val_loss: 2.6906\n",
            "Epoch 39/50\n",
            "518/518 [==============================] - 385s 744ms/step - loss: 2.5606 - val_loss: 2.6666\n",
            "Epoch 40/50\n",
            "518/518 [==============================] - 385s 744ms/step - loss: 2.5430 - val_loss: 2.6658\n",
            "Epoch 41/50\n",
            "518/518 [==============================] - 385s 744ms/step - loss: 2.5269 - val_loss: 2.6318\n",
            "Epoch 42/50\n",
            "518/518 [==============================] - 385s 744ms/step - loss: 2.5105 - val_loss: 2.6154\n",
            "Epoch 43/50\n",
            "518/518 [==============================] - 385s 744ms/step - loss: 2.4954 - val_loss: 2.5902\n",
            "Epoch 44/50\n",
            "518/518 [==============================] - 385s 744ms/step - loss: 2.4801 - val_loss: 2.5745\n",
            "Epoch 45/50\n",
            "518/518 [==============================] - 385s 744ms/step - loss: 2.4655 - val_loss: 2.5574\n",
            "Epoch 46/50\n",
            "518/518 [==============================] - 385s 744ms/step - loss: 2.4494 - val_loss: 2.5461\n",
            "Epoch 47/50\n",
            "518/518 [==============================] - 385s 744ms/step - loss: 2.4351 - val_loss: 2.5187\n",
            "Epoch 48/50\n",
            "518/518 [==============================] - 385s 744ms/step - loss: 2.4209 - val_loss: 2.5019\n",
            "Epoch 49/50\n",
            "518/518 [==============================] - 386s 745ms/step - loss: 2.4068 - val_loss: 2.4904\n",
            "Epoch 50/50\n",
            "518/518 [==============================] - 385s 744ms/step - loss: 2.3925 - val_loss: 2.4694\n"
          ]
        }
      ]
    },
    {
      "cell_type": "markdown",
      "source": [
        "##Save Model"
      ],
      "metadata": {
        "id": "gPQ996jQbgbt"
      }
    },
    {
      "cell_type": "code",
      "source": [
        "model.save('baseline_1a')  "
      ],
      "metadata": {
        "id": "vXJHsRAhtYR3",
        "colab": {
          "base_uri": "https://localhost:8080/"
        },
        "outputId": "7a90a189-dd02-4632-92a5-8a2b13e972d4"
      },
      "execution_count": 26,
      "outputs": [
        {
          "output_type": "stream",
          "name": "stderr",
          "text": [
            "WARNING:absl:Found untraced functions such as lstm_cell_layer_call_fn, lstm_cell_layer_call_and_return_conditional_losses, lstm_cell_1_layer_call_fn, lstm_cell_1_layer_call_and_return_conditional_losses, lstm_cell_2_layer_call_fn while saving (showing 5 of 8). These functions will not be directly callable after loading.\n"
          ]
        },
        {
          "output_type": "stream",
          "name": "stdout",
          "text": [
            "INFO:tensorflow:Assets written to: baseline_1a/assets\n"
          ]
        },
        {
          "output_type": "stream",
          "name": "stderr",
          "text": [
            "INFO:tensorflow:Assets written to: baseline_1a/assets\n",
            "WARNING:absl:<keras.layers.recurrent.LSTMCell object at 0x7f954a275050> has the same name 'LSTMCell' as a built-in Keras object. Consider renaming <class 'keras.layers.recurrent.LSTMCell'> to avoid naming conflicts when loading with `tf.keras.models.load_model`. If renaming is not possible, pass the object in the `custom_objects` parameter of the load function.\n",
            "WARNING:absl:<keras.layers.recurrent.LSTMCell object at 0x7f954a247910> has the same name 'LSTMCell' as a built-in Keras object. Consider renaming <class 'keras.layers.recurrent.LSTMCell'> to avoid naming conflicts when loading with `tf.keras.models.load_model`. If renaming is not possible, pass the object in the `custom_objects` parameter of the load function.\n",
            "WARNING:absl:<keras.layers.recurrent.LSTMCell object at 0x7f954a3700d0> has the same name 'LSTMCell' as a built-in Keras object. Consider renaming <class 'keras.layers.recurrent.LSTMCell'> to avoid naming conflicts when loading with `tf.keras.models.load_model`. If renaming is not possible, pass the object in the `custom_objects` parameter of the load function.\n",
            "WARNING:absl:<keras.layers.recurrent.LSTMCell object at 0x7f954a48e850> has the same name 'LSTMCell' as a built-in Keras object. Consider renaming <class 'keras.layers.recurrent.LSTMCell'> to avoid naming conflicts when loading with `tf.keras.models.load_model`. If renaming is not possible, pass the object in the `custom_objects` parameter of the load function.\n"
          ]
        }
      ]
    },
    {
      "cell_type": "code",
      "source": [
        "!zip -r /content/baseline_1a.zip /content/baseline_1a/"
      ],
      "metadata": {
        "id": "sQxhkfLmZ1GN"
      },
      "execution_count": 27,
      "outputs": []
    },
    {
      "cell_type": "code",
      "source": [
        "from matplotlib import pyplot\n",
        "\n",
        "pyplot.plot(history.history['loss'], label='train')\n",
        "pyplot.plot(history.history['val_loss'], label='test')\n",
        "pyplot.legend()\n",
        "pyplot.show()"
      ],
      "metadata": {
        "id": "DBmYpsq35GCf",
        "colab": {
          "base_uri": "https://localhost:8080/",
          "height": 265
        },
        "outputId": "ea66ef7b-2e72-477a-fb48-d062ab7e8c12"
      },
      "execution_count": 28,
      "outputs": [
        {
          "output_type": "display_data",
          "data": {
            "text/plain": [
              "<Figure size 432x288 with 1 Axes>"
            ],
            "image/png": "[encoded data removed]"
          },
          "metadata": {
            "needs_background": "light"
          }
        }
      ]
    },
    {
      "cell_type": "code",
      "source": [
        "reverse_target_word_index = y_tokenizer.index_word\n",
        "reverse_source_word_index = x_tokenizer.index_word\n",
        "target_word_index = y_tokenizer.word_index"
      ],
      "metadata": {
        "id": "Vy4_uowj5Qrr"
      },
      "execution_count": 29,
      "outputs": []
    },
    {
      "cell_type": "code",
      "source": [
        "encoder_model = Model(inputs=encoder_inputs, outputs=[encoder_outputs,\n",
        "                      state_h, state_c])\n",
        "\n",
        "# Decoder setup\n",
        "\n",
        "# Below tensors will hold the states of the previous time step\n",
        "decoder_state_input_h = Input(shape=(latent_dim, ))\n",
        "decoder_state_input_c = Input(shape=(latent_dim, ))\n",
        "decoder_hidden_state_input = Input(shape=(max_len_content, latent_dim))\n",
        "\n",
        "# Get the embeddings of the decoder sequence\n",
        "dec_emb2 = dec_emb_layer(decoder_inputs)\n",
        "\n",
        "# To predict the next word in the sequence, set the initial states to the states from the previous time step\n",
        "(decoder_outputs2, state_h2, state_c2) = decoder_lstm(dec_emb2,\n",
        "        initial_state=[decoder_state_input_h, decoder_state_input_c])\n",
        "\n",
        "# A dense softmax layer to generate prob dist. over the target vocabulary\n",
        "decoder_outputs2 = decoder_dense(decoder_outputs2)\n",
        "\n",
        "# Final decoder model\n",
        "decoder_model = Model([decoder_inputs] + [decoder_hidden_state_input,\n",
        "                      decoder_state_input_h, decoder_state_input_c],\n",
        "                      [decoder_outputs2] + [state_h2, state_c2])"
      ],
      "metadata": {
        "id": "25Cas1ZB5UoH"
      },
      "execution_count": 30,
      "outputs": []
    },
    {
      "cell_type": "code",
      "source": [
        "def decode_sequence(input_seq):\n",
        "\n",
        "    # Encode the input as state vectors.\n",
        "    (e_out, e_h, e_c) = encoder_model.predict(input_seq)\n",
        "\n",
        "    # Generate empty target sequence of length 1\n",
        "    target_seq = np.zeros((1, 1))\n",
        "\n",
        "    # Populate the first word of target sequence with the start word.\n",
        "    target_seq[0, 0] = target_word_index['sostok']\n",
        "\n",
        "    stop_condition = False\n",
        "    decoded_sentence = ''\n",
        "\n",
        "    while not stop_condition:\n",
        "        (output_tokens, h, c) = decoder_model.predict([target_seq]\n",
        "                + [e_out, e_h, e_c])\n",
        "\n",
        "        # Sample a token\n",
        "        sampled_token_index = np.argmax(output_tokens[0, -1, :])\n",
        "        sampled_token = reverse_target_word_index[sampled_token_index]\n",
        "\n",
        "        if sampled_token != 'eostok':\n",
        "            decoded_sentence += ' ' + sampled_token\n",
        "\n",
        "        # Exit condition: either hit max length or find the stop word.\n",
        "        if sampled_token == 'eostok' or len(decoded_sentence.split()) \\\n",
        "            >= max_len_summary - 1:\n",
        "            stop_condition = True\n",
        "\n",
        "        # Update the target sequence (of length 1)\n",
        "        target_seq = np.zeros((1, 1))\n",
        "        target_seq[0, 0] = sampled_token_index\n",
        "\n",
        "        # Update internal states\n",
        "        (e_h, e_c) = (h, c)\n",
        "\n",
        "    return decoded_sentence"
      ],
      "metadata": {
        "id": "w5F7_yow5Xg8"
      },
      "execution_count": 31,
      "outputs": []
    },
    {
      "cell_type": "code",
      "source": [
        "# To convert sequence to summary\n",
        "def seq2summary(input_seq):\n",
        "    newString = ''\n",
        "    for i in input_seq:\n",
        "        if i != 0 and i != target_word_index['sostok'] and i \\\n",
        "            != target_word_index['eostok']:\n",
        "            newString = newString + reverse_target_word_index[i] + ' '\n",
        "\n",
        "    return newString\n",
        "\n",
        "\n",
        "# To convert sequence to text\n",
        "def seq2text(input_seq):\n",
        "    newString = ''\n",
        "    for i in input_seq:\n",
        "        if i != 0:\n",
        "            newString = newString + reverse_source_word_index[i] + ' '\n",
        "\n",
        "    return newString"
      ],
      "metadata": {
        "id": "NOETJ5gD5n6a"
      },
      "execution_count": 32,
      "outputs": []
    },
    {
      "cell_type": "code",
      "source": [
        "for i, news in enumerate(x_test):\n",
        "    if i == 10:\n",
        "        break\n",
        "    print ('Review:', seq2text(news))\n",
        "    print ('Original summary:', seq2summary(y_test[i]))\n",
        "    print ('Predicted summary:', decode_sequence(news.reshape(1,\n",
        "           max_len_content)))\n",
        "    print ('\\n')"
      ],
      "metadata": {
        "id": "tpuxOp4f5tEK",
        "colab": {
          "base_uri": "https://localhost:8080/"
        },
        "outputId": "32d8ff68-7e07-4ba5-b9d5-04dcf875c028"
      },
      "execution_count": 33,
      "outputs": [
        {
          "output_type": "stream",
          "name": "stdout",
          "text": [
            "Review: cirebon jawa barat antara news sebanyak 30 karyawan mengalami keracunan setelah terjadi kebocoran pipa gas amonia di pt suri tani pemuka di kabupaten cirebon jawa barat sabtu kebocoran saluran gas amonia yang terjadi di pt suri tani sekitar pukul 13 00 wib itu menyebabkan 30 pegawai mengalami keracunan kata kabid humas polda jawa barat komisaris besar polisi yusri yunus saat dihubungi dari cirebon sabtu yunus mengatakan dari keterangan saksi bahwa pada saat dirinya bekerja mendapat informasi di ruangan produksi terdapat kebocoran saluran gas amonia kemudian saksi mendatangi lokasi serta memerintahkan kepada seluruh karyawan untuk keluar ruangan namun setelah para karyawan keluar ruangan terdapat beberapa karyawan jatuh pingsan yang kemudian langsung dibawa ke rumah sakit oleh pihak perusahaan dibantu dengan pihak kepolisian tuturnya yusri menjelaskan kebocoran gas amonia tersebut berasal dari pipa gudang pendingin nomor 4 yang berada di ruang produksi untuk saat ini pihak perusahaan sudah melakukan upaya dengan langsung menutup pipa utama hal ini guna meminimalisir timbulnya kejadian yang tidak diinginkan dengan adanya karyawan yang menjadi korban perusahaan akan bertanggung jawab untuk biaya pengobatan mereka katanya \n",
            "Original summary: sebanyak 30 karyawan mengalami keracunan setelah terjadi kebocoran pipa gas di pt suri tani di kabupaten cirebon jawa barat sabtu kebocoran gas tersebut berasal dari pipa gudang pendingin nomor 4 yang berada di ruang produksi saat ini pihak perusahaan sudah melakukan upaya dengan langsung menutup pipa utama hal ini guna meminimalisir timbulnya kejadian yang tidak diinginkan \n",
            "Predicted summary:  sebanyak 26 karyawan yang mengalami keracunan di area parkir di senayan jakarta pusat aksi itu dilakukan karena menggunakan sistem operasi baru di jalur umrah yang dibawa ke panglima tni marsekal hadi tjahjanto dan tidak diperbolehkan untuk dibawa ke lapangan para penumpang maupun swasta untuk dibawa ke kantor keluarga di kawasan jakarta timur\n",
            "\n",
            "\n",
            "Review: jakarta antara news presiden joko widodo bersama wakil presiden jusuf kalla melaksanakan salat jumat dengan peserta doa bersama di kawasan silang monas jakarta presiden dan rombongan keluar dari istana merdeka dan berjalan menuju silang monas dengan pengawalan dari pasukan pengamanan presiden dan juga pengamanan internal dari pelaksana acara doa bersama presiden dan wakil presiden kemudian menuju tenda yang ada di dekat panggung utama di silang monas dan menunggu pelaksanaan salat jumat sejumlah menteri yang mendampingi presiden antara lain menko polhukam wiranto menko maritim luhut binsar panjaitan menteri sekretaris negara pratikno sekretaris kabinet pramono anung kapolri jenderal pol tito karnavian dan kapolda metro jaya irjen di tengah hujan yang mengguyur kawasan tersebut para jamaah yang hadir mengabadikan kedatangan presiden dan wapres dengan kamera maupun telepon seluler mereka namun tidak sampai menghalangi jalan presiden dan rombongan suasana pun tetap tertib dan tenang \n",
            "Original summary: presiden jokowi dan wakil presiden jusuf kalla jk akhirnya menyempatkan diri untuk sholat bersama massa aksi 212 di monas jokowi hadir bersama wakil presiden jusuf kalla menteri politik hukum dan keamanan wiranto menteri koordinator bidang luhut binsar pandjaitan dll massa 212 pun sontak terkejut kemudian mereka lantang takbir menyambut ri 1 yang ditunggu tunggu \n",
            "Predicted summary:  presiden jokowi akan melantik 729 anggota tni polri untuk melakukan pemeriksaan pengangkatan presiden jokowi ke istana negara kesatuan republik indonesia untuk mengikuti proses hukum jokowi mengatakan akan mengenakan pakaian berwarna putih dan putih yang tepat untuk menjaga keamanan dan menjaga keamanan dan nkri\n",
            "\n",
            "\n",
            "Review: pada awal desember lalu kylie jenner sukses menggegerkan dunia kecantikan dengan merilis koleksi kuas makeup terbarunya kylie merilis 16 jenis kuas makeup dengan gagang berwarna silver dengan bulu kuas berwarna putih kuas ini menampilkan kesan elegan nan minimalis nama kylie jenner terukir jelas pada gagang kuas namun bukan tampilan kuas yang menghebohkan para pecinta makeup melainkan harga kuas makeup yang dianggap amat fantastis satu set kylie cosmetics brush dibanderol us 360 atau setara dengan rp 4 8 juta jika kamu ingin membelinya secara terpisah satuan kamu harus merogoh kocek mulai dari rp 200 ribu hingga rp 650 ribuan sungguh mencengangkan bukan harga kuas yang selangit dan dianggap tak wajar langsung menggelitik sederet beauty dan pelaku industri kecantikan angkat bicara seperti jeffree star james charles laura lee hingga empat sosok berpengaruh dalam dunia kecantikan ini kompak membuat video berisi review jujur kylie cosmetics brush dan hasilnya seluruhnya mengatakan kuas makeup tersebut memiliki kualitas yang baik hanya saja harga yang dipatok terlalu mahal dan tak wajar untuk ukuran kuas makeup baik jeffree maupun james meluapkan kekesalannya lewat akun twitter masing masing keduanya mempertanyakan kualitas bahan serta kewarasan kylie dalam mematok harga kuas lama terkesan adem ayem dan tak bersuara akhirnya beauty dan makeup artists manny gutierrez pun tak tahan untuk menyuarakan pendapatnya pemenang american beauty influencer awards 2017 ini turut mengunggah video berisi review kuas pada youtube dalam video tersebut manny mengungkapkan terhadap kuas lansiran kylie tersebut kuas ini meratakan makeup dengan sangat baik komentar manny dalam video tersebut namun pria ini juga menambahkan bahwa ia merasa kasihan terhadap penggemar kylie yang harus menghabiskan uang terlalu banyak untuk mendapatkan kuas tersebut membuatku frustrasi karena jelas sekali kylie cosmetics populer karena kylie jenner dan ia menggunakan wajah dan namanya pada produk ini yang terjual dengan sangat baik jelas manny mencemaskan bagiku sebagai seorang konsumen hanya karena namanya penggemar akan mau membeli kuas seharga us 360 ini dan aku merasa ini tak adil dan aku merasa ini sedikit terlalu mahal dan yang dengan sedikit adalah sangat sangat mahal ujarnya tegas pada akhir video manny menyimpulkan bahwa kualitas kuas seharga us 360 tersebut sama sekali tak sebanding dengan uang yang harus kamu keluarkan setelah mengunggah video tersebut kejujuran manny menuai reaksi beragam dari penggemar kylie banyak yang mengatakan bahwa manny bersikap objektif dan hanya dengan kesuksesan kylie namun sekali lagi manny menegaskan bahwa ia hanya bersikap netral dan jujur hal ini disampaikannya lewat cuitan twitter kurasa ini lucu ketika orang salah menilai sebagai hal yang negatif aku sungguh merasa bahwa aku sungguh sungguh fair pada bagaimana pendapat kalian cuit manny \n",
            "Original summary: pada awal desember lalu kylie jenner sukses menggegerkan dunia kecantikan dengan merilis koleksi kuas makeup terbarunya kylie merilis 16 jenis kuas makeup dengan berwarna silver satu set kylie cosmetics dibanderol us 360 atau setara dengan rp 4 8 juta harga kuas yang selangit dan dianggap tak wajar langsung menggelitik sederet beauty dan pelaku industri kecantikan angkat bicara \n",
            "Predicted summary:  setelah sukses merilis lagu terbaru the plaza indonesia kini menjadi salah satu lagu yang paling ditunggu tunggu oleh kim kardashian selaku pembuat instagram miliknya dalam sebuah youtube di youtube bernama menjawab tindakan itu disertai kim dengan kim yang pernah disapa kim yang telah mengumpulkan peretas di akun twitternya\n",
            "\n",
            "\n",
            "Review: setelah melewati masa yang panjang tren unicorn akhirnya mulai tergoyahkan eksistensinya perlahan tapi pasti mermaid mulai hadir untuk menggeser posisi unicorn kini musim baru dimulai tren putri duyung yang identik dengan warna turqoise sukses mendaki menuju puncak tren dunia baca juga hadiri cannes film festival 2017 elle pakai gaun unicorn baca juga kedua jadi kado terindah di hari lamaran raisa hamish baca juga terinspirasi unicorn dan pizza tren rambut ini jadi favorit wanita salah satu contoh nyata adalah ketika sugar cafe di california amerika telah menyingkirkan menu andalan mereka dari daftar menu unicorn hot chocolate kini kafe tersebut menjadikan hidangan bertema mermaid yang didominasi warna turqoise sebagai primadona sang pemilik joanna menyajikan ice mermaid water yang aslinya merupakan lemonade hawaii berwarna biru ombre cake mermaid shake dan masih banyak lagi joanna sendiri mengaku bahwa dirinya sesungguhnya merupakan penggemar mermaid dan telah memikirkan hal ini sejak desember tahun lalu namun saat itu unicorn masih berada di puncak tren dan digilai semua orang aku sudah merencanakan mermaid sejak musim dingin lalu ketika aku sedang mengerjakan menu unicorn kupikir aku tak bisa meluncurkan mermaid hingga musimnya tiba musim panas ujarnya seperti dilansir cosmopolitan dan akhirnya kini impian joanna terwujud menu mermaid yang diciptakannya dipermanis dengan sentuhan warna biru merah muda dan ungu juga ada taburan glitter dan mutiara yang bisa dimakan aneka menu mermaid ini pun jadi super cantik dan menggemaskan untuk dimakan joanna sendiri berharap bahwa tren mermaid ini sungguh bisa menggantikan posisi unicorn baca juga rilis minuman unicorn frappucino barista starbucks kesal dan mengeluh bagaimana sudah siap untuk katakan selamat tinggal pada unicorn \n",
            "Original summary: tren unicorn akhirnya mulai eksistensinya perlahan tapi pasti mermaid mulai hadir untuk menggeser posisi unicorn salah satu contoh nyata adalah ketika sugar cafe di california amerika telah menyingkirkan menu andalan mereka dari daftar menu unicorn hot chocolate kini kafe tersebut menjadikan hidangan bertema mermaid yang didominasi warna sebagai primadona \n",
            "Predicted summary:  jika tren makanan yang sudah tren di dunia ternyata sudah mulai memasuki tahun 2017 mulai 22 hingga akhirnya akhirnya menyentuh angka 100 juta unit aneka benda merek ternama dunia dinikmati di antaranya adalah menu antaranya switch chocolate wembley london dan kafe yang menyajikan roti yang masih bertahan di bagian dalam daftar menu lainnya\n",
            "\n",
            "\n",
            "Review: merdeka com sekretaris jenderal rumah pergerakan 98 sayid junaidi bercerita tentang orde baru dulu menurut dia membaca buku saja pada saat itu seperti memegang narkoba di rumah kita di kampus juga kos kosan kita diobrak abrik kita pegang buku kayak pegang ganja kata sayid saat memberikan penghargaan merawat kebangsaan kepada delapan tokoh di gedung ky jakarta sabtu 12 8 sayid menegaskan jika zaman itu penuh dengan tantangan dan ancaman yang sangat luar biasa selain itu ada tiga masalah besar yang di hadapi oleh bangsa indonesia pasca reformasi lahir pertama agama jika kita melihat beberapa waktu belakangan proses reformasi dengan maraknya aksi intoleransi ancaman perpecahan yang dilakukan oleh sebagian kecil kelompok yang sebenarnya kelompok tersebut merupakan minoritas namun karena ada kekuatan besar di belakangnya kata sayid kedua kata dia pasar arah pembangunan indonesia saat ini menurut dia sudah on the track dia menilai program program pemerintah berdasarkan trisakti dan nawa cita mampu membawa bangsa ini menuju masa gemilangnya kelak ketiga tantangan global tahun 2017 menyajikan cerita yang hampir yang sama tahun tahun sebelumnya yaitu ketidakpastian dengan kadar yang lebih berat bank dunia memproyeksikan perekonomian dunia hanya mampu tumbuh 2 7 persen pada 2017 masih sedikit memproyeksi pertumbuhan ekonomi global 3 4 persen atau naik 0 3 persen dibandingkan estimasi 2016 kata dia melihat tiga persoalan bangsa di atas rumah pergerakan 98 memiliki tanggung jawab untuk mengulik semua elemen bangsa menjaga persatuan dan kesatuan bangsa dengan tetap berpegang pada pancasila undang undang dasar 1945 dan bhinneka tunggal ika dengan cara mengkampanyekan apa yang disebut dengan merawat kebangsaan salah satu kampanye merawat kebangsaan yang kami lakukan adalah memberikan award kepada sejumlah tokoh yang kami nilai telah melakukan tindakan yang berani demi tegaknya republik indonesia kata sayid penghargaan itu diberikan kepada ketua mui kh ma'ruf amin kapolri tito karnavian ketua kpk agus rahardjo menteri kkp susi pudjiastuti menteri esdm ignasius jonan menteri pemuda dan olahraga imam nahrawi menteri riset teknologi dan pendidikan tinggi muhammad nasir serta menteri pendidikan dan kebudayaan muhadjir effendy rnd \n",
            "Original summary: sekretaris jenderal rumah pergerakan 98 junaidi bercerita tentang orde baru dulu menurut dia membaca buku saja pada saat itu seperti memegang narkoba di rumah kita di kampus juga kos kosan kita kita pegang buku kayak pegang ganja kata ia juga menegaskan jika zaman itu penuh dengan tantangan dan ancaman yang sangat luar biasa \n",
            "Predicted summary:  sekretaris jenderal forum umat muhadjir effendy dan ketua dpd oesman sapta odang jumat 26 2 pelantikan wakil presiden jusuf kalla jk yang juga menyampaikan masukan mengenai keberadaan dpd di indonesia jk mengatakan pihaknya akan menunggu janji untuk membangun bangsa di seluruh dunia hal itu disampaikan oleh menteri pendidikan dan kebudayaan muhadjir effendy di kompleks istana kepresidenan jakarta pusat\n",
            "\n",
            "\n",
            "Review: paris paris saint germain psg bikin ketar ketir real madrid karena berencana merekrut zidane sebagai pelatih psg menilai zidane sudah l mengantarkan real madrid menjuarai liga champions selama dua musim beruntun bahkan sejak berkarir di santiago bernabeu pada 2016 zidane berhasil sementara unai emery sejak menjadi arsitek psg pada tahun 2016 belum berhasil mengantarkan psg untuk menjuarai liga champions untuk mencapai hasil maksimal dalam liga champions psg merekrut bintang brasil neymar dari barcelona dengan memecahkan rekor transfer psg juga mendaratkan kylian mbappe salah satu bintang muda yang menjadi incaran klub klub raksasa eropa termasuk satu di antaranya real madrid meski untuk itu psg terancam melanggar peraturan financial fair play perekrutan jika champions gagal diraih psg akan bertindak tegas presiden psg nasser al khelaifi telah memasukkan nama zidane sebagai calon pengganti emery jika hengkang dari parc des princes meski demikian media media spanyol mengabarkan zidane bahagia berkarier di real madrid eks pemain juventus tersebut menurut catatan transfermarkt terikat kontrak di santiago bernabeu hingga 30 juni 2018 tri \n",
            "Original summary: psg berencana merekrut zidane sebagai pelatih psg menilai zidane berhasil mengantarkan real madrid menjuarai liga champions selama dua musim beruntun sementara manajer saat ini unai emery belum berhasil mengantarkan psg menjuarai liga champions untuk meraih trofi liga champions psg sudah dan mendatangkan neymar dan mbappe jika masih gagal maka psg akan memasukkan nama zidane sebagai kandidat manajer psg \n",
            "Predicted summary:  psg telah membuka peluang mendatangkan bek kanan barcelona neymar kylian mbappe dan psg kabarnya akan mendapatkan kesempatan untuk merekrut neymar dari psg mbappe akan bergabung dengan psg bahkan mbappe siap bergabung dengan psg namun mbappe enggan memberikan penjelasan soal transfer yang diraih dengan sang ayah dari mbappe merasa bahwa ia bakal bertahan di psg\n",
            "\n",
            "\n",
            "Review: juara net gelandang inter milan marcelo brozovic santer dikabarkan menjadi salah satu incaran manchester united pada musim panas 2017 kini pemain berusia 24 tahun itu membuat kabar tersebut semakin panas dalam beberapa pekan terakhir sering kali media media italia dan inggris mengabarkan ketertarikan beberapa klub liga inggris kepada brozovic hal ini pun tidak dibantah oleh agennya miroslav bicanic bicanic mengaku tengah menjalin hubungan dengan beberapa klub besar inggris namun klub mana yang dimaksud belum diketahui kami tidak bisa menyebut nama tetapi ada beberapa klub inggris menginginkan marcelo kata bicanic kepada media kroasia indeks kami telah memiliki kontak dengan mereka brozovic adalah properti yang menggiurkan saat bursa transfer bagi banyak klub pada musim panas mendatang ucapnya beberapa nama klub inggris yaitu man united chelsea dan arsenal disebut sebagai klub yang dimaksud namun kini angin berembus lebih kencang ke arah man united kabar transfer brozovic ini semakin panas setelah pemain asal kroasia itu mengikuti akun man united selain itu laporan sebelumnya juga mengatakan bahwa manajer man united jose mourinho melakukan perjalanan ke zagreb saat kalender pertandingan internasional ketika kroasia menghadapi ukraina pada kualifikasi piala dunia 2018 jumat 24 3 2017 manajer asal portugal itu dikabarkan melakukan pembicaraan khusus dengan brozovic mengenai kemungkinan transfer sebagai bagian dari rencana man united menghadapi musim 2017 2018 \n",
            "Original summary: gelandang inter milan marcelo santer dikabarkan menjadi salah satu incaran manchester united pada musim panas 2017 kini pemain berusia 24 tahun itu membuat kabar tersebut semakin panas dalam beberapa pekan terakhir sering kali media media italia dan inggris mengabarkan ketertarikan beberapa klub liga inggris kepada hal ini pun tidak dibantah oleh agennya \n",
            "Predicted summary:  gelandang manchester united paul pogba mengungkapkan bahwa timnya akan bermain di liga champions musim depan setan merah mengalami cedera saat membela timnya di premier league musim ini dengan tegas dan beberapa klub yang akan segera mengeluarkan jarak sebesar tujuh tahun untuk mu musim depan mu akan melakoni musim ini mu akan menentukan kekuatan mu di old trafford\n",
            "\n",
            "\n",
            "Review: pemerintah mendorong manufaktur otomotif untuk mendirikan pusat riset dan pengembangan produknya atau r d di indonesia sehingga tak cuma menjadi basis produksi indonesia juga bisa menjadi basis produk menurut dirjen industri mesin alat transportasi dan elektronika ilmate kementerian perindustrian i gusti putu suryawirawan r d merupakan jantung dalam sebuah industri di mana r d itu sendiri menjadi bagian dari siklus dari sebuah produk yang dipasarkan beda dengan kalau bikin sekali besok bikin yang lain enggak apa apa industri harus berpikir sampai ke arah manufaktur dari r d produksi dipasarkan kemudian ada tanggapan dari konsumen balik lagi ke r d kata putu saat ditemui seusai perayaan produksi 5 juta unit pabrik daihatsu dan pusat r d di kawasan industri karawang timur jawa barat dengan hadirnya pusat r d di indonesia otomatis segala keluhan dari konsumen akan lebih cepat disampaikan selama ini kalau ada konsumen yang kurang puas tanggapannya dilempar ke jepang tunggu lagi ada delay dan jeda waktu kalau sekarang lempar ke sini dalam waktu dekat sudah bisa diselesaikan imbuhnya pemerintah berupaya agar manufaktur otomotif turut mendirikan pusat r d di indonesia kemenperin tengah insentif agar banyak pabrikan yang turut mendirikan fasilitas tersebut dengan adanya insentif nanti merek merek lain juga akan mengikuti katanya sementara itu pt astra daihatsu motor adm menjadi manufaktur otomotif di indonesia yang memiliki pusat r d dengan fasilitas terlengkap dan terbesar di indonesia fasilitas yang dibangun secara bertahap sejak 2011 itu punya fasilitas design building dan engineering building serta test course yang lengkap di sini daihatsu bisa melakukan uji coba produk pada area pengetesan yang mewakili 24 kondisi jalan indonesia 4 tipe tanjakan test banjir dan lumpur dengan luas area 25 hektare \n",
            "Original summary: pemerintah mendorong manufaktur otomotif untuk mendirikan pusat riset dan pengembangan produknya atau r d di indonesia sehingga tak cuma menjadi basis produksi indonesia juga bisa menjadi basis produk menurut dirjen industri mesin alat transportasi dan elektronika kementerian perindustrian i gusti putu r d merupakan jantung dalam sebuah industri di mana r d itu sendiri menjadi bagian dari siklus sebuah produk yang dipasarkan \n",
            "Predicted summary:  pemerintah akhirnya mengalokasikan dana mengenai tarif listrik untuk sopir mobil listrik yang didapat ke bandung melalui teknologi obat yang dikembangkan oleh konsumen indonesia dengan harga murah rp 60 000 per kg rupiah harga ini murah harga murah dinilai bisa didapatkan karena biaya produksi murah baik dari berbagai biaya yang cukup tinggi sehingga pemerintah harus dipenuhi dari produsen mobil yang sudah mulai dari 27 kg\n",
            "\n",
            "\n",
            "Review: jakarta antara news petugas kantor imigrasi kelas i jakarta pusat menangkap sembilan warga negara asing yang diduga ilegal karena tidak memiliki dokumen resmi keimigrasian petugas menemukan lima perempuan dan empat pria saat dilakukan pengawasan kata kepala kantor imigrasi kelas i jakarta pusat tato j melalui keterangan tertulis di jakarta jumat petugas imigrasi melakukan pengawasan keimigrasian terhadap para warga asing itu di hotel diaz kemayoran jakarta pusat pada kamis 13 10 dari sembilan warga asing yang diawasi terdapat delapan orang tidak memiliki paspor dan seorang asal kamerun melebihi izin tinggal selama sembilan bulan selain itu petugas juga menemukan barang bukti yang diduga kokain daun ganja cairan nacl yang dicurigai kokain daftar belanja bahan kimia untuk pembuatan dolar as palsu dan kertas contoh pembuatan mata uang asing palsu kemudian paspor dan id yang diduga pemilik kamar dan barang atas nama aime asal kamerun dua unit komputer jinjing laptop media penyimpan data flashdisk berkaitan mata uang palsu diduga saat petugas datang ke kamar yang bersangkutan melarikan diri melalui jendela karena ditemukan jejak pada jendela ungkap heru \n",
            "Original summary: petugas kantor imigrasi kelas i jakarta pusat menangkap sembilan warga negara asing wna yang tidak memiliki dokumen resmi keimigrasian kamis 13 10 2016 para wna tersebut ditangkap saat pengawasan keimigrasian di hotel diaz kemayoran jakarta pusat petugas juga menyita barang bukti yang diduga kokain daun ganja daftar belanja pembuatan dolar as palsu serta kertas contoh pembuatan mata uang asing palsu \n",
            "Predicted summary:  petugas imigrasi kelas i jakarta selatan menangkap bandar narkoba polda metro jaya di direktorat reserse kriminal polda metro jaya kombes pol argo yuwono mengatakan kepastian penyelundupan sabu sabu di atas sabu seberat 2 gram di atas barang bukti sabu 1 gram pil ekstasi sebanyak 28 gram di kecamatan kabupaten heru menjelaskan bahwa pelaku merupakan salah satu upaya yang dijadikan tempat penyimpanan tabung gas air\n",
            "\n",
            "\n",
            "Review: jakarta cnn indonesia ratu elizabeth ii dan pangeran philip merayakan hari ulang tahun pernikahan mereka pada senin 20 11 penggawa kerajaan inggris itu telah menikah selama 70 tahun philip menikahi elizabeth saat masih berusia 25 tahun mereka adalah teman sejak remaja mereka menjadi pasangan petinggi kerajaan inggris pertama yang masih menjabat dan berhasil mempertahankan pernikahan hingga ke ulang tahun sang ratu sendiri merupakan pesohor yang paling lama menjabat sebagai ratu dalam riwayat inggris meski begitu pasangan itu tidak menggelar acara besar besaran untuk publik mereka hanya mengundang keluarga dan teman dekat ke windsor castle untuk makan malam pada senin malam namun sebagai penanda pernikahan keduanya yang berlangsung 20 november 1947 lalu westminster abbey akan membunyikan itu adalah tempat pernikahan ratu elizabeth dan pangeran philip yang juga saksi janji suci pangeran william dan kate middleton disebut sebut gereja legendaris itu juga akan menjadi lokasi pernikahan pangeran harry yang belakangan diberitakan media sudah melamar kekasihnya meghan markle lonceng di westminster abbey akan dibunyikan oleh yang berisi 10 orang itu dibunyikan tanpa henti selama tiga jam 20 menit sejak pukul satu siang gmt istana buckingham tentu ikut merayakan tahun ke 70 pernikahan ratu elizabeth dan pangeran philip pada sabtu 18 11 mereka mengeluarkan potret potret kedua sosok itu yang diambil november ini di white drawing room di windsor castle hari bersejarah bagi ratu elizabeth itu juga dirayakan royal mail layanan pengiriman surat kerajaan inggris mereka mengeluarkan satu set perangko baru salah satu gambarnya adalah pengumuman pertunangan ratu elizabeth dan pangeran philip di istana buckingham bagian pertama bulan madu mereka di hampshire juga jadi salah satu gambarnya dalam pernikahan berusia 70 tahun itu ratu elizabeth dan pangeran philip dikaruniai empat anak charles anne andrew dan edwards mereka juga sudah punya enam cucu dan lima cicit cicit keenam mereka anak ketiga william dan middleton akan lahir april mendatang sejak musim panas tahun ini pangeran philip sudah tidak mau lagi tampil di hadapan publik ia ingin menikmati usianya yang sudah 96 tahun bersama keluarganya saja ia menggunakan waktu waktu luangnya untuk membaca dan melukis sementara ratu elizabeth mulai menyerahkan sebagian besar tugas kerajaan ke charles usianya kini 91 tahun pernikahan keduanya langgeng mengutip afp karena philip rela membiarkan istrinya lebih menonjol dan elizabeth mau berbesar hati memaafkan kesalahan kesalahan suaminya tugas saya yang pertama kedua dan terakhir tidak mengecewakan sang ratu ujar philip rsa \n",
            "Original summary: ratu elizabeth ii dan pangeran philip merayakan hari ulang tahun pernikahan mereka pada senin 20 11 penggawa kerajaan inggris itu telah menikah selama 70 tahun philip menikahi elizabeth saat masih berusia 25 tahun mereka adalah teman sejak remaja mereka menjadi pasangan petinggi kerajaan inggris pertama yang masih menjabat dan berhasil mempertahankan pernikahan hingga ke ulang tahun \n",
            "Predicted summary:  ratu elizabeth ii kembali menggelar pameran pernikahan di indonesia pada rabu 3 1 malam waktu setempat atau janji penghargaan tersebut aktor sekaligus musisi papan atas panggung dan pernikahan di the management the star upacara tema pernikahan indonesia upacara upacara yang digelar di kediaman pusat upacara jumat 22 9 2017 malam diikuti oleh pangeran harry dan harry\n",
            "\n",
            "\n"
          ]
        }
      ]
    }
  ]
}
