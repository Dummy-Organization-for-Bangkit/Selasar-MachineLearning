{
 "cells": [
  {
   "cell_type": "markdown",
   "metadata": {
    "id": "qbkvkHGHr1rs"
   },
   "source": [
    "#Load Data"
   ]
  },
  {
   "cell_type": "code",
   "execution_count": 1,
   "metadata": {
    "colab": {
     "base_uri": "https://localhost:8080/"
    },
    "id": "uu3DPdwZjtmv",
    "outputId": "eda70a70-7035-4052-c655-20c6fc1ee4de"
   },
   "outputs": [
    {
     "name": "stdout",
     "output_type": "stream",
     "text": [
      "Downloading...\n",
      "From: https://drive.google.com/uc?id=1OgYbPfXFAv3TbwP1Qcwt_CC9cVWSJaco\n",
      "To: /home/dabestevanzzacc/indosum.tar.gz\n",
      "100%|██████████████████████████████████████| 96.0M/96.0M [00:02<00:00, 43.6MB/s]\n"
     ]
    }
   ],
   "source": [
    "# Import data from Google Drive\n",
    "!gdown 1OgYbPfXFAv3TbwP1Qcwt_CC9cVWSJaco"
   ]
  },
  {
   "cell_type": "code",
   "execution_count": 2,
   "metadata": {
    "id": "2w6rulXatUtq"
   },
   "outputs": [],
   "source": [
    "# Extract the dataset\n",
    "import tarfile\n",
    "\n",
    "with tarfile.open('indosum.tar.gz') as tar:\n",
    "    tar.extractall()\n",
    "    tar.close()"
   ]
  },
  {
   "cell_type": "code",
   "execution_count": 3,
   "metadata": {
    "id": "4IOSsspvuA-z"
   },
   "outputs": [],
   "source": [
    "import os\n",
    "import json\n",
    "\n",
    "# Load data to dictionary and save as json\n",
    "BASE_PATH = './indosum'\n",
    "indosum = {\n",
    "    'train': [],\n",
    "    'dev': [],\n",
    "    'test': []\n",
    "}\n",
    "\n",
    "for json_file in os.listdir('indosum'):\n",
    "    if json_file.endswith('.jsonl'):\n",
    "        split, fold, ext = json_file.split('.')\n",
    "        file_path = os.path.join(BASE_PATH, json_file)\n",
    "        \n",
    "        with open(file_path, 'r') as json_file:\n",
    "            json_list = list(json_file)\n",
    "            #json_len = int(len(json_list) * 0.4)\n",
    "            for json_str in json_list:\n",
    "                result = json.loads(json_str)\n",
    "                if result['category'] != 'olahraga':\n",
    "                    indosum[split].append(result)\n",
    "\n",
    "with open('indosum.json', 'w', encoding='utf-8') as f:\n",
    "    json.dump(indosum, f, ensure_ascii=False, indent=2)\n",
    "    "
   ]
  },
  {
   "cell_type": "markdown",
   "metadata": {
    "id": "ABeI3i5AwVVE"
   },
   "source": [
    "#Preprocess Data"
   ]
  },
  {
   "cell_type": "code",
   "execution_count": 4,
   "metadata": {
    "id": "ou0qHmnRwZzL"
   },
   "outputs": [],
   "source": [
    "import re\n",
    "\n",
    "def add_start_end_sequence(summary):\n",
    "    summary = 'START ' + summary + ' END'\n",
    "    return summary\n",
    "\n",
    "def convert_to_article(news_file):\n",
    "    content_words = []\n",
    "    for paragraph in news_file['paragraphs']:\n",
    "        for sentence in paragraph:\n",
    "            for word in sentence:\n",
    "                if re.match('[A-Za-z]+', word):\n",
    "                    word = str(word).lower()\n",
    "                    content_words.append(word)\n",
    "\n",
    "    summary_words = []\n",
    "    for sentence in news_file['summary']:\n",
    "        for word in sentence:\n",
    "            if re.match('[A-Za-z]+', word):\n",
    "                word = str(word).lower()\n",
    "                summary_words.append(word)\n",
    "\n",
    "    content_words = ' '.join(content_words)\n",
    "    summary_words = ' '.join(summary_words)\n",
    "    \n",
    "    news_file['paragraphs'] = content_words\n",
    "    news_file['summary'] = summary_words"
   ]
  },
  {
   "cell_type": "code",
   "execution_count": 5,
   "metadata": {
    "id": "6QuVdHJ4uXZo"
   },
   "outputs": [],
   "source": [
    "for split in indosum.keys():\n",
    "    for news in indosum[split]:\n",
    "        convert_to_article(news)"
   ]
  },
  {
   "cell_type": "code",
   "execution_count": 6,
   "metadata": {
    "colab": {
     "base_uri": "https://localhost:8080/"
    },
    "id": "vJB2xTlgwOrB",
    "outputId": "482a9155-4e69-4283-8ba9-06dee8b23185"
   },
   "outputs": [
    {
     "name": "stdout",
     "output_type": "stream",
     "text": [
      "jakarta cnn indonesia menteri perindustrian airlangga hartarto mengatakan australia berpeluang menjadi destinasi ekspor industri otomotif nasional pasar kendaraan roda empat mencapai juta unit per tahun di sana beberapa produsen otomotif terpaksa tutup ini menjadi kesempatan yang bagus bagi indonesia untuk masuk ke pasar australia ujarnya mengutip antara kamis ia mengatakan pemerintah meminta industri otomotif di tanah air semakin agresif memperluas pasar ekspor untuk menyeimbangkan kebutuhan pasar domestik kementerian perindustrian menargetkan nilai ekspor mobil dapat tumbuh sekitar persen untuk merealisasikan target itu kemenperin merasa perlu meningkatkan penelitian dan pengembangan produk dalam penguatan inovasi serta daya saing sekaligus memenuhi selera konsumen global ia menyebutkan saat ini produksi nasional kendaraan roda empat mencapai juta unit per tahun dengan jumlah ekspor sebanyak ribu unit per tahun adapun target produksi nasional kendaraan roda empat pada mencapai juta unit kendaraan produksi dalam negeri masih didominasi varian multi purpose vehicle mpv sport utility vehicle suv dan low cost green car lcgc sementara konsumen australia lebih meminati kendaraan berjenis sedan kabin ganda atau mobil berpenggerak terkait penerapan standar emisi euro4 airlangga mengklaim pelaku industri siap untuk menjalankan aturan kemenperin juga terus berkoordinasi dengan kementerian energi dan sumber daya mineral esdm serta pertamina perusahaan migas pelat merah diharapkan penerapan euro4 bisa terlaksana pada mendatang harapan tersebut bisa terpenuhi apabila pembangunan kilang minyak di cilacap rampung di sisi lain untuk mendukung konsep ramah lingkungan dan memperluas pasar ekspor kemenperin juga telah mendorong produsen agar memproduksi kendaraan beremisi rendah low carbon emission vehicle lcev kemenperin mencatat subsektor industri alat angkutan termasuk industri otomotif memberikan sumbangan terhadap pdb sektor industri non migas yang mencapai persen atau terbesar ketiga setelah sub sektor industri makanan dan minuman persen serta subsektor industri barang logam komputer elektronik optik dan peralatan listrik persen\n",
      "menteri perindustrian airlangga hartarto mengatakan australia berpeluang menjadi destinasi ekspor industri otomotif nasional pasar kendaraan roda empat mencapai juta unit per tahun di australia beberapa produsen otomotif terpaksa tutup ini menjadi kesempatan yang bagus bagi indonesia untuk masuk ke pasar australia ia mengatakan pemerintah meminta industri otomotif di tanah air semakin agresif memperluas pasar ekspor untuk menyeimbangkan kebutuhan pasar domestik\n"
     ]
    }
   ],
   "source": [
    "print(indosum['train'][10]['paragraphs'])\n",
    "print(indosum['train'][10]['summary'])"
   ]
  },
  {
   "cell_type": "code",
   "execution_count": 7,
   "metadata": {
    "colab": {
     "base_uri": "https://localhost:8080/",
     "height": 281
    },
    "id": "LOo12J3vwhNa",
    "outputId": "130bed51-9bd5-4047-d1ed-28e3ae8a2741"
   },
   "outputs": [
    {
     "data": {
      "image/png": "[encoded data removed]",
      "text/plain": [
       "<Figure size 432x288 with 2 Axes>"
      ]
     },
     "metadata": {
      "needs_background": "light"
     },
     "output_type": "display_data"
    }
   ],
   "source": [
    "import pandas as pd\n",
    "import matplotlib.pyplot as plt\n",
    "\n",
    "def visualize_words_distribution(dataset_dict):\n",
    "    content_count = []\n",
    "    summary_count = []\n",
    "\n",
    "    for split in dataset_dict.keys():\n",
    "        for news in dataset_dict[split]:\n",
    "            content_word_count = len(news['paragraphs'].split(' '))\n",
    "            summary_word_count = len(news['summary'].split(' '))\n",
    "            content_count.append(content_word_count)\n",
    "            summary_count.append(summary_word_count)\n",
    "\n",
    "    average_length = pd.DataFrame() \n",
    "\n",
    "    average_length['content'] = content_count\n",
    "    average_length['summary'] = summary_count\n",
    "\n",
    "    average_length.hist(bins = 5)\n",
    "    plt.show()\n",
    "    return average_length\n",
    "\n",
    "average_length = visualize_words_distribution(indosum)          "
   ]
  },
  {
   "cell_type": "markdown",
   "metadata": {
    "id": "J1Kp3MQ4w9RZ"
   },
   "source": []
  },
  {
   "cell_type": "markdown",
   "metadata": {
    "id": "akNF_iX-w9aq"
   },
   "source": [
    "##Visualize Words Distribution"
   ]
  },
  {
   "cell_type": "code",
   "execution_count": 8,
   "metadata": {
    "colab": {
     "base_uri": "https://localhost:8080/",
     "height": 281
    },
    "id": "PK_WITrWw8Sl",
    "outputId": "d13c4368-1da6-485f-e62b-cbec675d57e1"
   },
   "outputs": [
    {
     "data": {
      "image/png": "[encoded data removed]",
      "text/plain": [
       "<Figure size 432x288 with 2 Axes>"
      ]
     },
     "metadata": {
      "needs_background": "light"
     },
     "output_type": "display_data"
    }
   ],
   "source": [
    "import pandas as pd\n",
    "import matplotlib.pyplot as plt\n",
    "\n",
    "def visualize_words_distribution(dataset_dict):\n",
    "    content_count = []\n",
    "    summary_count = []\n",
    "\n",
    "    for split in dataset_dict.keys():\n",
    "        for news in dataset_dict[split]:\n",
    "            content_word_count = len(news['paragraphs'].split(' '))\n",
    "            summary_word_count = len(news['summary'].split(' '))\n",
    "            content_count.append(content_word_count)\n",
    "            summary_count.append(summary_word_count)\n",
    "\n",
    "    average_length = pd.DataFrame() \n",
    "\n",
    "    average_length['content'] = content_count\n",
    "    average_length['summary'] = summary_count\n",
    "\n",
    "    average_length.hist(bins = 5)\n",
    "    plt.show()\n",
    "    return average_length\n",
    "\n",
    "average_length = visualize_words_distribution(indosum)          "
   ]
  },
  {
   "cell_type": "code",
   "execution_count": 9,
   "metadata": {
    "colab": {
     "base_uri": "https://localhost:8080/"
    },
    "id": "QQkABhSdxBBt",
    "outputId": "cb06d230-929a-4d34-db7e-6f38bfac1194"
   },
   "outputs": [
    {
     "name": "stdout",
     "output_type": "stream",
     "text": [
      "0.9529772954448094\n",
      "0.9867913751249464\n"
     ]
    }
   ],
   "source": [
    "def count_words_length_percentage(max_len, length_list):\n",
    "    cnt = 0\n",
    "    for length in length_list:\n",
    "        if length <= max_len:\n",
    "            cnt = cnt + 1\n",
    "    return cnt / len(length_list)\n",
    "\n",
    "max_len_content = 500\n",
    "max_len_summary = 62\n",
    "\n",
    "print(count_words_length_percentage(max_len_content, average_length['content']))\n",
    "print(count_words_length_percentage(max_len_summary, average_length['summary']))"
   ]
  },
  {
   "cell_type": "code",
   "execution_count": 10,
   "metadata": {
    "id": "A2QA5036xGem"
   },
   "outputs": [],
   "source": [
    "indosum_new = {\n",
    "    'train': [],\n",
    "    'dev': [],\n",
    "    'test': []\n",
    "}\n",
    "\n",
    "for split in indosum_new.keys():\n",
    "    for news in indosum[split]:\n",
    "        content_len = len(news['paragraphs'].split(' '))\n",
    "        summary_len = len(news['summary'].split(' '))\n",
    "        if (content_len < max_len_content) and (summary_len < (max_len_summary)):\n",
    "            indosum_new[split].append(news)"
   ]
  },
  {
   "cell_type": "code",
   "execution_count": 11,
   "metadata": {
    "colab": {
     "base_uri": "https://localhost:8080/",
     "height": 281
    },
    "id": "8xFdcXJWxJkv",
    "outputId": "799d4194-dadf-4a7d-84f1-dcd2e977c7bb"
   },
   "outputs": [
    {
     "data": {
      "image/png": "[encoded data removed]",
      "text/plain": [
       "<Figure size 432x288 with 2 Axes>"
      ]
     },
     "metadata": {
      "needs_background": "light"
     },
     "output_type": "display_data"
    }
   ],
   "source": [
    "average_length_new = visualize_words_distribution(indosum_new)"
   ]
  },
  {
   "cell_type": "markdown",
   "metadata": {
    "id": "ie13-qWJxPiX"
   },
   "source": [
    "##Split to Train, Dev, Test"
   ]
  },
  {
   "cell_type": "code",
   "execution_count": 12,
   "metadata": {
    "id": "oBKkZV4_xLbu"
   },
   "outputs": [],
   "source": [
    "X = {\n",
    "    'train': [],\n",
    "     'dev': [],\n",
    "     'test': []\n",
    "}\n",
    "for split in indosum_new.keys():\n",
    "    for news in indosum_new[split]:\n",
    "        X[split].append(news['paragraphs'])\n",
    "\n",
    "y = {\n",
    "    'train': [],\n",
    "     'dev': [],\n",
    "     'test': []\n",
    "}\n",
    "for split in indosum_new.keys():\n",
    "    for news in indosum_new[split]:\n",
    "        summary = add_start_end_sequence(news['summary'])\n",
    "        y[split].append(summary)"
   ]
  },
  {
   "cell_type": "code",
   "execution_count": 13,
   "metadata": {
    "id": "-1GS4ybBxqwj"
   },
   "outputs": [],
   "source": [
    "import numpy as np\n",
    "\n",
    "X_train, X_dev, X_test = np.array(X['train'], dtype='object'), np.array(X['dev'], dtype='object'), np.array(X['test'], dtype='object')\n",
    "y_train, y_dev, y_test = np.array(y['train'], dtype='object'), np.array(y['dev'], dtype='object'), np.array(y['test'], dtype='object')"
   ]
  },
  {
   "cell_type": "markdown",
   "metadata": {
    "id": "8FQMxJECxf_9"
   },
   "source": [
    "##Tokenization"
   ]
  },
  {
   "cell_type": "code",
   "execution_count": 14,
   "metadata": {
    "id": "E78cTTe_xa9F"
   },
   "outputs": [],
   "source": [
    "# Tokenize the text to get the vocab count \n",
    "from tensorflow.keras.preprocessing.text import Tokenizer \n",
    "from tensorflow.keras.preprocessing.sequence import pad_sequences\n",
    "\n",
    "# Prepare a tokenizer on training data\n",
    "x_tokenizer = Tokenizer(lower=False) \n",
    "x_tokenizer.fit_on_texts(list(X_train))"
   ]
  },
  {
   "cell_type": "code",
   "execution_count": 15,
   "metadata": {
    "colab": {
     "base_uri": "https://localhost:8080/"
    },
    "id": "F7OMbTtxyCW5",
    "outputId": "60f994d4-6105-4783-ee6e-08a679732481"
   },
   "outputs": [
    {
     "name": "stdout",
     "output_type": "stream",
     "text": [
      "Threshold: 4\n",
      "% of rare words in vocabulary:  7.755063433321116\n"
     ]
    }
   ],
   "source": [
    "# Counting the number of rare words\n",
    "def count_rare_words(threshold, tokenizer):\n",
    "    count = 0\n",
    "    total_count = 0\n",
    "\n",
    "    for key, value in tokenizer.word_counts.items():\n",
    "        total_count += 1\n",
    "        if value < threshold:\n",
    "            count += 1\n",
    "            \n",
    "    print('Threshold: {}'.format(threshold))\n",
    "    print(\"% of rare words in vocabulary: \", (count / total_count) * 100)\n",
    "\n",
    "    return count, total_count\n",
    "\n",
    "count, total_count = count_rare_words(4, x_tokenizer)"
   ]
  },
  {
   "cell_type": "code",
   "execution_count": 16,
   "metadata": {
    "colab": {
     "base_uri": "https://localhost:8080/"
    },
    "id": "Ty348odxyKlK",
    "outputId": "dd390174-0c53-4906-e53d-e915fc169865"
   },
   "outputs": [
    {
     "name": "stdout",
     "output_type": "stream",
     "text": [
      "Size of vocabulary in X = 78019\n"
     ]
    }
   ],
   "source": [
    "padding_type = 'post'\n",
    "truncation_type = 'post'\n",
    "\n",
    "# Prepare tokenizer without rare_words\n",
    "x_tokenizer = Tokenizer(num_words = total_count - count, lower=False) \n",
    "x_tokenizer.fit_on_texts(list(X_train))\n",
    "\n",
    "# Convert text sequences to integer sequences \n",
    "x_train_seq = x_tokenizer.texts_to_sequences(X_train) \n",
    "x_dev_seq = x_tokenizer.texts_to_sequences(X_dev)\n",
    "x_test_seq = x_tokenizer.texts_to_sequences(X_test)\n",
    "\n",
    "# Pad zero upto maximum length\n",
    "x_train = pad_sequences(x_train_seq,  maxlen=max_len_content, padding=padding_type, truncating=truncation_type)\n",
    "x_dev = pad_sequences(x_dev_seq, maxlen=max_len_content, padding=padding_type, truncating=truncation_type)\n",
    "x_test = pad_sequences(x_test_seq,  maxlen=max_len_content, padding=padding_type, truncating=truncation_type)\n",
    "\n",
    "# Size of vocabulary (+1 for padding token)\n",
    "x_vocab = x_tokenizer.num_words + 1\n",
    "\n",
    "print(\"Size of vocabulary in X = {}\".format(x_vocab))"
   ]
  },
  {
   "cell_type": "code",
   "execution_count": 17,
   "metadata": {
    "colab": {
     "base_uri": "https://localhost:8080/"
    },
    "id": "hClY_voHyXKQ",
    "outputId": "cf19fab3-275e-443e-a217-b5dab58a891d"
   },
   "outputs": [
    {
     "name": "stdout",
     "output_type": "stream",
     "text": [
      "Threshold: 4\n",
      "% of rare words in vocabulary:  7.895882722918381\n"
     ]
    }
   ],
   "source": [
    "# Prepare a tokenizer on test data\n",
    "y_tokenizer = Tokenizer(lower=False)\n",
    "y_tokenizer.fit_on_texts(list(y_train))\n",
    "\n",
    "count_test, total_count_test = count_rare_words(4, y_tokenizer)"
   ]
  },
  {
   "cell_type": "code",
   "execution_count": 18,
   "metadata": {
    "colab": {
     "base_uri": "https://localhost:8080/"
    },
    "id": "2KcwIkEKyhea",
    "outputId": "6cf44787-3e25-417d-ca24-146cf891c19c"
   },
   "outputs": [
    {
     "name": "stdout",
     "output_type": "stream",
     "text": [
      "Size of vocabulary in y = 38075\n"
     ]
    }
   ],
   "source": [
    "# Prepare a tokenizer, again -- by not considering the rare words\n",
    "y_tokenizer = Tokenizer(num_words = total_count_test - count_test, lower=False)\n",
    "y_tokenizer.fit_on_texts(list(y_train))\n",
    "\n",
    "# Convert text sequences to integer sequences \n",
    "y_train_seq = y_tokenizer.texts_to_sequences(y_train) \n",
    "y_dev_seq = y_tokenizer.texts_to_sequences(y_dev)\n",
    "y_test_seq = y_tokenizer.texts_to_sequences(y_test)\n",
    "\n",
    "# Pad zero upto maximum length\n",
    "y_train = pad_sequences(y_train_seq,  maxlen=max_len_summary, padding=padding_type, truncating=truncation_type)\n",
    "y_dev = pad_sequences(y_dev_seq, maxlen=max_len_summary, padding=padding_type, truncating=truncation_type)\n",
    "y_test = pad_sequences(y_test_seq,  maxlen=max_len_summary, padding=padding_type, truncating=truncation_type)\n",
    "\n",
    "# Size of vocabulary (+1 for padding token)\n",
    "y_vocab = y_tokenizer.num_words + 1\n",
    "\n",
    "print(\"Size of vocabulary in y = {}\".format(y_vocab))"
   ]
  },
  {
   "cell_type": "code",
   "execution_count": 19,
   "metadata": {
    "colab": {
     "base_uri": "https://localhost:8080/"
    },
    "id": "dugXHKNO7Gd6",
    "outputId": "bf2b6e6d-fbcb-4f61-f53d-be3ecddef19f"
   },
   "outputs": [
    {
     "data": {
      "text/plain": [
       "(49202, 49202)"
      ]
     },
     "execution_count": 19,
     "metadata": {},
     "output_type": "execute_result"
    }
   ],
   "source": [
    "#Checking the length of training data\n",
    "y_tokenizer.word_counts['END'],len(y_train)"
   ]
  },
  {
   "cell_type": "markdown",
   "metadata": {
    "id": "EyawoO4hywL-"
   },
   "source": [
    "#Building Model"
   ]
  },
  {
   "cell_type": "code",
   "execution_count": 20,
   "metadata": {
    "id": "OcK1oGYayoD6"
   },
   "outputs": [],
   "source": [
    "#Model Building\n",
    "\n",
    "#Adding Custom Attention layer \n",
    "\n",
    "import tensorflow as tf\n",
    "import os\n",
    "from tensorflow.keras.layers import Layer\n",
    "from tensorflow.keras import backend as K\n",
    "\n",
    "\n",
    "class AttentionLayer(Layer):\n",
    "    \"\"\"\n",
    "    This class implements Bahdanau attention (https://arxiv.org/pdf/1409.0473.pdf).\n",
    "    There are three sets of weights introduced W_a, U_a, and V_a\n",
    "     \"\"\"\n",
    "\n",
    "    def __init__(self, **kwargs):\n",
    "        super(AttentionLayer, self).__init__(**kwargs)\n",
    "\n",
    "    def build(self, input_shape):\n",
    "        assert isinstance(input_shape, list)\n",
    "        # Create a trainable weight variable for this layer.\n",
    "\n",
    "        self.W_a = self.add_weight(name='W_a',\n",
    "                                   shape=tf.TensorShape((input_shape[0][2], input_shape[0][2])),\n",
    "                                   initializer='uniform',\n",
    "                                   trainable=True)\n",
    "        self.U_a = self.add_weight(name='U_a',\n",
    "                                   shape=tf.TensorShape((input_shape[1][2], input_shape[0][2])),\n",
    "                                   initializer='uniform',\n",
    "                                   trainable=True)\n",
    "        self.V_a = self.add_weight(name='V_a',\n",
    "                                   shape=tf.TensorShape((input_shape[0][2], 1)),\n",
    "                                   initializer='uniform',\n",
    "                                   trainable=True)\n",
    "\n",
    "        super(AttentionLayer, self).build(input_shape)  # Be sure to call this at the end\n",
    "\n",
    "    def call(self, inputs, verbose=False):\n",
    "        \"\"\"\n",
    "        inputs: [encoder_output_sequence, decoder_output_sequence]\n",
    "        \"\"\"\n",
    "        assert type(inputs) == list\n",
    "        encoder_out_seq, decoder_out_seq = inputs\n",
    "        if verbose:\n",
    "            print('encoder_out_seq>', encoder_out_seq.shape)\n",
    "            print('decoder_out_seq>', decoder_out_seq.shape)\n",
    "\n",
    "        def energy_step(inputs, states):\n",
    "            \"\"\" Step function for computing energy for a single decoder state \"\"\"\n",
    "\n",
    "            assert_msg = \"States must be a list. However states {} is of type {}\".format(states, type(states))\n",
    "            assert isinstance(states, list) or isinstance(states, tuple), assert_msg\n",
    "\n",
    "            \"\"\" Some parameters required for shaping tensors\"\"\"\n",
    "            en_seq_len, en_hidden = encoder_out_seq.shape[1], encoder_out_seq.shape[2]\n",
    "            de_hidden = inputs.shape[-1]\n",
    "\n",
    "            \"\"\" Computing S.Wa where S=[s0, s1, ..., si]\"\"\"\n",
    "            # <= batch_size*en_seq_len, latent_dim\n",
    "            reshaped_enc_outputs = K.reshape(encoder_out_seq, (-1, en_hidden))\n",
    "            # <= batch_size*en_seq_len, latent_dim\n",
    "            W_a_dot_s = K.reshape(K.dot(reshaped_enc_outputs, self.W_a), (-1, en_seq_len, en_hidden))\n",
    "            if verbose:\n",
    "                print('wa.s>',W_a_dot_s.shape)\n",
    "\n",
    "            \"\"\" Computing hj.Ua \"\"\"\n",
    "            U_a_dot_h = K.expand_dims(K.dot(inputs, self.U_a), 1)  # <= batch_size, 1, latent_dim\n",
    "            if verbose:\n",
    "                print('Ua.h>',U_a_dot_h.shape)\n",
    "\n",
    "            \"\"\" tanh(S.Wa + hj.Ua) \"\"\"\n",
    "            # <= batch_size*en_seq_len, latent_dim\n",
    "            reshaped_Ws_plus_Uh = K.tanh(K.reshape(W_a_dot_s + U_a_dot_h, (-1, en_hidden)))\n",
    "            if verbose:\n",
    "                print('Ws+Uh>', reshaped_Ws_plus_Uh.shape)\n",
    "\n",
    "            \"\"\" softmax(va.tanh(S.Wa + hj.Ua)) \"\"\"\n",
    "            # <= batch_size, en_seq_len\n",
    "            e_i = K.reshape(K.dot(reshaped_Ws_plus_Uh, self.V_a), (-1, en_seq_len))\n",
    "            # <= batch_size, en_seq_len\n",
    "            e_i = K.softmax(e_i)\n",
    "\n",
    "            if verbose:\n",
    "                print('ei>', e_i.shape)\n",
    "\n",
    "            return e_i, [e_i]\n",
    "\n",
    "        def context_step(inputs, states):\n",
    "            \"\"\" Step function for computing ci using ei \"\"\"\n",
    "            # <= batch_size, hidden_size\n",
    "            c_i = K.sum(encoder_out_seq * K.expand_dims(inputs, -1), axis=1)\n",
    "            if verbose:\n",
    "                print('ci>', c_i.shape)\n",
    "            return c_i, [c_i]\n",
    "\n",
    "        def create_inital_state(inputs, hidden_size):\n",
    "            # We are not using initial states, but need to pass something to K.rnn funciton\n",
    "            fake_state = K.zeros_like(inputs)  # <= (batch_size, enc_seq_len, latent_dim\n",
    "            fake_state = K.sum(fake_state, axis=[1, 2])  # <= (batch_size)\n",
    "            fake_state = K.expand_dims(fake_state)  # <= (batch_size, 1)\n",
    "            fake_state = K.tile(fake_state, [1, hidden_size])  # <= (batch_size, latent_dim\n",
    "            return fake_state\n",
    "\n",
    "        fake_state_c = create_inital_state(encoder_out_seq, encoder_out_seq.shape[-1])\n",
    "        fake_state_e = create_inital_state(encoder_out_seq, encoder_out_seq.shape[1])  # <= (batch_size, enc_seq_len, latent_dim\n",
    "\n",
    "        \"\"\" Computing energy outputs \"\"\"\n",
    "        # e_outputs => (batch_size, de_seq_len, en_seq_len)\n",
    "        last_out, e_outputs, _ = K.rnn(\n",
    "            energy_step, decoder_out_seq, [fake_state_e],\n",
    "        )\n",
    "\n",
    "        \"\"\" Computing context vectors \"\"\"\n",
    "        last_out, c_outputs, _ = K.rnn(\n",
    "            context_step, e_outputs, [fake_state_c],\n",
    "        )\n",
    "\n",
    "        return c_outputs, e_outputs\n",
    "\n",
    "    def compute_output_shape(self, input_shape):\n",
    "        \"\"\" Outputs produced by the layer \"\"\"\n",
    "        return [\n",
    "            tf.TensorShape((input_shape[1][0], input_shape[1][1], input_shape[1][2])),\n",
    "            tf.TensorShape((input_shape[1][0], input_shape[1][1], input_shape[0][1]))\n",
    "        ]"
   ]
  },
  {
   "cell_type": "code",
   "execution_count": 21,
   "metadata": {
    "id": "pqlQAEEVy3S6"
   },
   "outputs": [],
   "source": [
    "from tensorflow.keras.preprocessing.text import Tokenizer\n",
    "from tensorflow.keras.preprocessing.sequence import pad_sequences\n",
    "from tensorflow.keras.layers import Input, LSTM, Embedding, Dense, \\\n",
    "    Concatenate, TimeDistributed\n",
    "from tensorflow.keras.models import Model\n",
    "from tensorflow.keras.callbacks import EarlyStopping"
   ]
  },
  {
   "cell_type": "code",
   "execution_count": 22,
   "metadata": {
    "colab": {
     "base_uri": "https://localhost:8080/"
    },
    "id": "1MOd9Ogly9me",
    "outputId": "fc50bcbd-d814-4eb0-a095-a5608556a7c8"
   },
   "outputs": [
    {
     "name": "stderr",
     "output_type": "stream",
     "text": [
      "2022-06-05 12:53:47.550410: I tensorflow/stream_executor/cuda/cuda_gpu_executor.cc:936] successful NUMA node read from SysFS had negative value (-1), but there must be at least one NUMA node, so returning NUMA node zero\n",
      "2022-06-05 12:53:47.722536: I tensorflow/stream_executor/cuda/cuda_gpu_executor.cc:936] successful NUMA node read from SysFS had negative value (-1), but there must be at least one NUMA node, so returning NUMA node zero\n",
      "2022-06-05 12:53:47.723237: I tensorflow/stream_executor/cuda/cuda_gpu_executor.cc:936] successful NUMA node read from SysFS had negative value (-1), but there must be at least one NUMA node, so returning NUMA node zero\n",
      "2022-06-05 12:53:47.727149: I tensorflow/core/platform/cpu_feature_guard.cc:151] This TensorFlow binary is optimized with oneAPI Deep Neural Network Library (oneDNN) to use the following CPU instructions in performance-critical operations:  AVX2 FMA\n",
      "To enable them in other operations, rebuild TensorFlow with the appropriate compiler flags.\n",
      "2022-06-05 12:53:47.728274: I tensorflow/stream_executor/cuda/cuda_gpu_executor.cc:936] successful NUMA node read from SysFS had negative value (-1), but there must be at least one NUMA node, so returning NUMA node zero\n",
      "2022-06-05 12:53:47.729021: I tensorflow/stream_executor/cuda/cuda_gpu_executor.cc:936] successful NUMA node read from SysFS had negative value (-1), but there must be at least one NUMA node, so returning NUMA node zero\n",
      "2022-06-05 12:53:47.729679: I tensorflow/stream_executor/cuda/cuda_gpu_executor.cc:936] successful NUMA node read from SysFS had negative value (-1), but there must be at least one NUMA node, so returning NUMA node zero\n",
      "2022-06-05 12:53:50.067167: I tensorflow/stream_executor/cuda/cuda_gpu_executor.cc:936] successful NUMA node read from SysFS had negative value (-1), but there must be at least one NUMA node, so returning NUMA node zero\n",
      "2022-06-05 12:53:50.067869: I tensorflow/stream_executor/cuda/cuda_gpu_executor.cc:936] successful NUMA node read from SysFS had negative value (-1), but there must be at least one NUMA node, so returning NUMA node zero\n",
      "2022-06-05 12:53:50.068560: I tensorflow/stream_executor/cuda/cuda_gpu_executor.cc:936] successful NUMA node read from SysFS had negative value (-1), but there must be at least one NUMA node, so returning NUMA node zero\n",
      "2022-06-05 12:53:50.069978: I tensorflow/core/common_runtime/gpu/gpu_device.cc:1525] Created device /job:localhost/replica:0/task:0/device:GPU:0 with 13823 MB memory:  -> device: 0, name: Tesla T4, pci bus id: 0000:00:04.0, compute capability: 7.5\n"
     ]
    },
    {
     "name": "stdout",
     "output_type": "stream",
     "text": [
      "Model: \"model\"\n",
      "__________________________________________________________________________________________________\n",
      " Layer (type)                   Output Shape         Param #     Connected to                     \n",
      "==================================================================================================\n",
      " text_input (InputLayer)        [(None, 500)]        0           []                               \n",
      "                                                                                                  \n",
      " embedding (Embedding)          (None, 500, 256)     19972864    ['text_input[0][0]']             \n",
      "                                                                                                  \n",
      " lstm (LSTM)                    [(None, 500, 256),   525312      ['embedding[0][0]']              \n",
      "                                 (None, 256),                                                     \n",
      "                                 (None, 256)]                                                     \n",
      "                                                                                                  \n",
      " input_1 (InputLayer)           [(None, None)]       0           []                               \n",
      "                                                                                                  \n",
      " lstm_1 (LSTM)                  [(None, 500, 256),   525312      ['lstm[0][0]']                   \n",
      "                                 (None, 256),                                                     \n",
      "                                 (None, 256)]                                                     \n",
      "                                                                                                  \n",
      " embedding_1 (Embedding)        (None, None, 256)    9747200     ['input_1[0][0]']                \n",
      "                                                                                                  \n",
      " lstm_2 (LSTM)                  [(None, 500, 256),   525312      ['lstm_1[0][0]']                 \n",
      "                                 (None, 256),                                                     \n",
      "                                 (None, 256)]                                                     \n",
      "                                                                                                  \n",
      " lstm_3 (LSTM)                  [(None, None, 256),  525312      ['embedding_1[0][0]',            \n",
      "                                 (None, 256),                     'lstm_2[0][1]',                 \n",
      "                                 (None, 256)]                     'lstm_2[0][2]']                 \n",
      "                                                                                                  \n",
      " attention_layer (AttentionLaye  ((None, None, 256),  131328     ['lstm_2[0][0]',                 \n",
      " r)                              (None, None, 500))               'lstm_3[0][0]']                 \n",
      "                                                                                                  \n",
      " concat_layer (Concatenate)     (None, None, 512)    0           ['lstm_3[0][0]',                 \n",
      "                                                                  'attention_layer[0][0]']        \n",
      "                                                                                                  \n",
      " time_distributed (TimeDistribu  (None, None, 38075)  19532475   ['concat_layer[0][0]']           \n",
      " ted)                                                                                             \n",
      "                                                                                                  \n",
      "==================================================================================================\n",
      "Total params: 51,485,115\n",
      "Trainable params: 51,485,115\n",
      "Non-trainable params: 0\n",
      "__________________________________________________________________________________________________\n"
     ]
    }
   ],
   "source": [
    "K.clear_session()\n",
    "\n",
    "latent_dim = 256\n",
    "embedding_dim = 256\n",
    "\n",
    "# Setup encoder\n",
    "encoder_inputs = Input(shape=(max_len_content, ), name='text_input')\n",
    "\n",
    "encoder_emb = Embedding(x_vocab, embedding_dim, trainable=True)(encoder_inputs)\n",
    "\n",
    "#encoder lstm 1\n",
    "encoder_lstm1 = LSTM(latent_dim,return_sequences=True,return_state=True,dropout=0.4)\n",
    "encoder_output1, state_h1, state_c1 = encoder_lstm1(encoder_emb)\n",
    "\n",
    "#encoder lstm 2\n",
    "encoder_lstm2 = LSTM(latent_dim,return_sequences=True,return_state=True,dropout=0.4)\n",
    "encoder_output2, state_h2, state_c2 = encoder_lstm2(encoder_output1)\n",
    "\n",
    "#encoder lstm 3\n",
    "encoder_lstm3 = LSTM(latent_dim,return_sequences=True,return_state=True,dropout=0.4)\n",
    "encoder_outputs, state_h, state_c = encoder_lstm3(encoder_output2)\n",
    "\n",
    "#Setting up the Decoder using 'encoder_states' as initial state\n",
    "decoder_inputs = Input(shape=(None,))\n",
    "\n",
    "#Embedding layer\n",
    "decoder_emb_layer = Embedding(y_vocab, embedding_dim,trainable=True)\n",
    "decoder_emb = decoder_emb_layer(decoder_inputs)\n",
    "\n",
    "decoder_lstm = LSTM(latent_dim, return_sequences=True, return_state=True,dropout=0.4)\n",
    "decoder_outputs,decoder_fwd_state, decoder_back_state = decoder_lstm(decoder_emb,initial_state=[state_h, state_c])\n",
    "\n",
    "#Attention layer\n",
    "attn_layer = AttentionLayer(name='attention_layer')\n",
    "attn_out, attn_states = attn_layer([encoder_outputs, decoder_outputs])\n",
    "\n",
    "#Concating Attention input and Decoder LSTM output\n",
    "decoder_concat_input = Concatenate(axis=-1, name='concat_layer')([decoder_outputs, attn_out])\n",
    "\n",
    "# Dense Layer\n",
    "decoder_dense = TimeDistributed(Dense(y_vocab, activation='softmax'))\n",
    "decoder_outputs = decoder_dense(decoder_concat_input)\n",
    "\n",
    "# Define the model\n",
    "model = Model([encoder_inputs, decoder_inputs], decoder_outputs)\n",
    "\n",
    "model.summary()"
   ]
  },
  {
   "cell_type": "code",
   "execution_count": 23,
   "metadata": {
    "id": "s2FnxVSm0Zbq"
   },
   "outputs": [],
   "source": [
    "#Visualize the Model\n",
    "from tensorflow.keras.utils import plot_model\n",
    "\n",
    "#plot_model(model, to_file='model_plot.png', show_shapes=True, show_layer_names=True)"
   ]
  },
  {
   "cell_type": "code",
   "execution_count": 24,
   "metadata": {
    "id": "ljOUGgeg0ezn"
   },
   "outputs": [],
   "source": [
    "#Adding Metrics\n",
    "model.compile(optimizer='rmsprop' , loss='sparse_categorical_crossentropy' , metrics=['accuracy'])\n",
    "\n",
    "#Adding Callback\n",
    "es = EarlyStopping(monitor='val_loss', mode='min', verbose=1, patience=4)"
   ]
  },
  {
   "cell_type": "code",
   "execution_count": 25,
   "metadata": {
    "colab": {
     "base_uri": "https://localhost:8080/"
    },
    "id": "ogPFBdfI0naA",
    "outputId": "48671a4d-0492-4d34-eac1-db634635e046"
   },
   "outputs": [
    {
     "name": "stdout",
     "output_type": "stream",
     "text": [
      "Epoch 1/50\n"
     ]
    },
    {
     "name": "stderr",
     "output_type": "stream",
     "text": [
      "2022-06-05 12:53:51.899053: W tensorflow/core/framework/cpu_allocator_impl.cc:82] Allocation of 98404000 exceeds 10% of free system memory.\n",
      "2022-06-05 12:54:00.117107: I tensorflow/stream_executor/cuda/cuda_dnn.cc:368] Loaded cuDNN version 8200\n"
     ]
    },
    {
     "name": "stdout",
     "output_type": "stream",
     "text": [
      "769/769 [==============================] - ETA: 0s - loss: 6.9582 - accuracy: 0.1155"
     ]
    },
    {
     "name": "stderr",
     "output_type": "stream",
     "text": [
      "2022-06-05 13:05:19.551523: W tensorflow/core/framework/cpu_allocator_impl.cc:82] Allocation of 25908000 exceeds 10% of free system memory.\n"
     ]
    },
    {
     "name": "stdout",
     "output_type": "stream",
     "text": [
      "769/769 [==============================] - 756s 968ms/step - loss: 6.9582 - accuracy: 0.1155 - val_loss: 6.1957 - val_accuracy: 0.1495\n",
      "Epoch 2/50\n",
      "769/769 [==============================] - 744s 968ms/step - loss: 5.9156 - accuracy: 0.1712 - val_loss: 5.4805 - val_accuracy: 0.1979\n",
      "Epoch 3/50\n",
      "769/769 [==============================] - 794s 1s/step - loss: 5.3627 - accuracy: 0.2085 - val_loss: 5.0024 - val_accuracy: 0.2337\n",
      "Epoch 4/50\n",
      "769/769 [==============================] - 744s 968ms/step - loss: 4.9794 - accuracy: 0.2368 - val_loss: 4.6607 - val_accuracy: 0.2612\n",
      "Epoch 5/50\n",
      "769/769 [==============================] - 744s 967ms/step - loss: 4.6827 - accuracy: 0.2600 - val_loss: 4.3507 - val_accuracy: 0.2892\n",
      "Epoch 6/50\n",
      "769/769 [==============================] - 744s 967ms/step - loss: 4.4377 - accuracy: 0.2814 - val_loss: 4.0963 - val_accuracy: 0.3144\n",
      "Epoch 7/50\n",
      "769/769 [==============================] - 744s 967ms/step - loss: 4.2244 - accuracy: 0.3008 - val_loss: 3.8866 - val_accuracy: 0.3352\n",
      "Epoch 8/50\n",
      "769/769 [==============================] - 743s 967ms/step - loss: 4.0418 - accuracy: 0.3185 - val_loss: 3.6849 - val_accuracy: 0.3589\n",
      "Epoch 9/50\n",
      "769/769 [==============================] - 745s 969ms/step - loss: 3.8774 - accuracy: 0.3355 - val_loss: 3.5034 - val_accuracy: 0.3811\n",
      "Epoch 10/50\n",
      "769/769 [==============================] - 745s 969ms/step - loss: 3.7271 - accuracy: 0.3514 - val_loss: 3.3361 - val_accuracy: 0.4009\n",
      "Epoch 11/50\n",
      "769/769 [==============================] - 745s 968ms/step - loss: 3.5880 - accuracy: 0.3660 - val_loss: 3.1943 - val_accuracy: 0.4203\n",
      "Epoch 12/50\n",
      "769/769 [==============================] - 744s 967ms/step - loss: 3.4695 - accuracy: 0.3792 - val_loss: 3.0727 - val_accuracy: 0.4375\n",
      "Epoch 13/50\n",
      "769/769 [==============================] - 744s 968ms/step - loss: 3.3631 - accuracy: 0.3920 - val_loss: 2.9460 - val_accuracy: 0.4546\n",
      "Epoch 14/50\n",
      "769/769 [==============================] - 744s 968ms/step - loss: 3.2692 - accuracy: 0.4031 - val_loss: 2.8440 - val_accuracy: 0.4704\n",
      "Epoch 15/50\n",
      "769/769 [==============================] - 744s 968ms/step - loss: 3.1841 - accuracy: 0.4132 - val_loss: 2.7558 - val_accuracy: 0.4827\n",
      "Epoch 16/50\n",
      "769/769 [==============================] - 744s 968ms/step - loss: 3.1033 - accuracy: 0.4230 - val_loss: 2.6606 - val_accuracy: 0.4941\n",
      "Epoch 17/50\n",
      "769/769 [==============================] - 744s 968ms/step - loss: 3.0260 - accuracy: 0.4323 - val_loss: 2.5760 - val_accuracy: 0.5104\n",
      "Epoch 18/50\n",
      "769/769 [==============================] - 744s 968ms/step - loss: 2.9633 - accuracy: 0.4409 - val_loss: 2.5119 - val_accuracy: 0.5196\n",
      "Epoch 19/50\n",
      "769/769 [==============================] - 744s 968ms/step - loss: 2.9063 - accuracy: 0.4476 - val_loss: 2.4425 - val_accuracy: 0.5322\n",
      "Epoch 20/50\n",
      "769/769 [==============================] - 744s 968ms/step - loss: 2.8475 - accuracy: 0.4550 - val_loss: 2.3679 - val_accuracy: 0.5429\n",
      "Epoch 21/50\n",
      "769/769 [==============================] - 744s 968ms/step - loss: 2.7942 - accuracy: 0.4617 - val_loss: 2.3202 - val_accuracy: 0.5489\n",
      "Epoch 22/50\n",
      "769/769 [==============================] - 744s 968ms/step - loss: 2.7417 - accuracy: 0.4681 - val_loss: 2.2603 - val_accuracy: 0.5588\n",
      "Epoch 23/50\n",
      "769/769 [==============================] - 744s 968ms/step - loss: 2.6897 - accuracy: 0.4743 - val_loss: 2.1974 - val_accuracy: 0.5681\n",
      "Epoch 24/50\n",
      "769/769 [==============================] - 744s 968ms/step - loss: 2.6407 - accuracy: 0.4799 - val_loss: 2.1348 - val_accuracy: 0.5778\n",
      "Epoch 25/50\n",
      "769/769 [==============================] - 744s 968ms/step - loss: 2.5913 - accuracy: 0.4858 - val_loss: 2.0866 - val_accuracy: 0.5864\n",
      "Epoch 26/50\n",
      "769/769 [==============================] - 744s 968ms/step - loss: 2.5431 - accuracy: 0.4913 - val_loss: 2.0324 - val_accuracy: 0.5942\n",
      "Epoch 27/50\n",
      "769/769 [==============================] - 745s 969ms/step - loss: 2.5002 - accuracy: 0.4967 - val_loss: 1.9827 - val_accuracy: 0.6031\n",
      "Epoch 28/50\n",
      "769/769 [==============================] - 744s 968ms/step - loss: 2.4573 - accuracy: 0.5021 - val_loss: 1.9463 - val_accuracy: 0.6078\n",
      "Epoch 29/50\n",
      "769/769 [==============================] - 745s 968ms/step - loss: 2.4220 - accuracy: 0.5068 - val_loss: 1.8898 - val_accuracy: 0.6182\n",
      "Epoch 30/50\n",
      "769/769 [==============================] - 744s 968ms/step - loss: 2.3887 - accuracy: 0.5113 - val_loss: 1.8575 - val_accuracy: 0.6258\n",
      "Epoch 31/50\n",
      "769/769 [==============================] - 745s 968ms/step - loss: 2.3538 - accuracy: 0.5160 - val_loss: 1.8248 - val_accuracy: 0.6316\n",
      "Epoch 32/50\n",
      "769/769 [==============================] - 744s 968ms/step - loss: 2.3223 - accuracy: 0.5203 - val_loss: 1.7963 - val_accuracy: 0.6376\n",
      "Epoch 33/50\n",
      "769/769 [==============================] - 744s 968ms/step - loss: 2.2912 - accuracy: 0.5251 - val_loss: 1.7577 - val_accuracy: 0.6428\n",
      "Epoch 34/50\n",
      "769/769 [==============================] - 744s 968ms/step - loss: 2.2618 - accuracy: 0.5287 - val_loss: 1.7290 - val_accuracy: 0.6483\n",
      "Epoch 35/50\n",
      "769/769 [==============================] - 744s 968ms/step - loss: 2.2309 - accuracy: 0.5335 - val_loss: 1.6885 - val_accuracy: 0.6567\n",
      "Epoch 36/50\n",
      "769/769 [==============================] - 744s 968ms/step - loss: 2.1973 - accuracy: 0.5380 - val_loss: 1.6565 - val_accuracy: 0.6637\n",
      "Epoch 37/50\n",
      "769/769 [==============================] - 744s 968ms/step - loss: 2.1687 - accuracy: 0.5429 - val_loss: 1.6242 - val_accuracy: 0.6693\n",
      "Epoch 38/50\n",
      "769/769 [==============================] - 744s 968ms/step - loss: 2.1435 - accuracy: 0.5465 - val_loss: 1.5929 - val_accuracy: 0.6750\n",
      "Epoch 39/50\n",
      "769/769 [==============================] - 745s 969ms/step - loss: 2.1196 - accuracy: 0.5499 - val_loss: 1.5750 - val_accuracy: 0.6798\n",
      "Epoch 40/50\n",
      "769/769 [==============================] - 745s 969ms/step - loss: 2.0939 - accuracy: 0.5541 - val_loss: 1.5589 - val_accuracy: 0.6805\n",
      "Epoch 41/50\n",
      "769/769 [==============================] - 745s 969ms/step - loss: 2.0700 - accuracy: 0.5578 - val_loss: 1.5196 - val_accuracy: 0.6891\n",
      "Epoch 42/50\n",
      "769/769 [==============================] - 745s 969ms/step - loss: 2.0488 - accuracy: 0.5610 - val_loss: 1.5013 - val_accuracy: 0.6926\n",
      "Epoch 43/50\n",
      "769/769 [==============================] - 745s 969ms/step - loss: 2.0267 - accuracy: 0.5647 - val_loss: 1.4754 - val_accuracy: 0.6986\n",
      "Epoch 44/50\n",
      "769/769 [==============================] - 745s 969ms/step - loss: 2.0047 - accuracy: 0.5685 - val_loss: 1.4519 - val_accuracy: 0.7026\n",
      "Epoch 45/50\n",
      "769/769 [==============================] - 745s 969ms/step - loss: 1.9819 - accuracy: 0.5723 - val_loss: 1.4362 - val_accuracy: 0.7050\n",
      "Epoch 46/50\n",
      "769/769 [==============================] - 745s 969ms/step - loss: 1.9611 - accuracy: 0.5755 - val_loss: 1.4104 - val_accuracy: 0.7121\n",
      "Epoch 47/50\n",
      "769/769 [==============================] - 745s 969ms/step - loss: 1.9390 - accuracy: 0.5797 - val_loss: 1.3892 - val_accuracy: 0.7174\n",
      "Epoch 48/50\n",
      "769/769 [==============================] - 745s 969ms/step - loss: 1.9206 - accuracy: 0.5825 - val_loss: 1.3714 - val_accuracy: 0.7204\n",
      "Epoch 49/50\n",
      "769/769 [==============================] - 745s 969ms/step - loss: 1.8978 - accuracy: 0.5865 - val_loss: 1.3535 - val_accuracy: 0.7206\n",
      "Epoch 50/50\n",
      "769/769 [==============================] - 745s 969ms/step - loss: 1.8773 - accuracy: 0.5899 - val_loss: 1.3221 - val_accuracy: 0.7300\n"
     ]
    }
   ],
   "source": [
    "#Training the Model\n",
    "history = model.fit([x_train,y_train[:,:-1]], \n",
    "                    y_train.reshape(y_train.shape[0],y_train.shape[1], 1)[:,1:],\n",
    "                    epochs=50,\n",
    "                    callbacks=[es],\n",
    "                    batch_size= 64,\n",
    "                    validation_data=([x_test,y_test[:,:-1]], \n",
    "                                     y_test.reshape(y_test.shape[0],y_test.shape[1], 1)[:,1:]))"
   ]
  },
  {
   "cell_type": "code",
   "execution_count": 37,
   "metadata": {
    "id": "JOHdhPsi3NNm"
   },
   "outputs": [
    {
     "name": "stderr",
     "output_type": "stream",
     "text": [
      "WARNING:absl:Found untraced functions such as lstm_cell_layer_call_fn, lstm_cell_layer_call_and_return_conditional_losses, lstm_cell_1_layer_call_fn, lstm_cell_1_layer_call_and_return_conditional_losses, lstm_cell_2_layer_call_fn while saving (showing 5 of 8). These functions will not be directly callable after loading.\n"
     ]
    },
    {
     "name": "stdout",
     "output_type": "stream",
     "text": [
      "INFO:tensorflow:Assets written to: baseline_2/assets\n"
     ]
    },
    {
     "name": "stderr",
     "output_type": "stream",
     "text": [
      "INFO:tensorflow:Assets written to: baseline_2/assets\n",
      "WARNING:absl:<keras.layers.recurrent.LSTMCell object at 0x7fca45b01690> has the same name 'LSTMCell' as a built-in Keras object. Consider renaming <class 'keras.layers.recurrent.LSTMCell'> to avoid naming conflicts when loading with `tf.keras.models.load_model`. If renaming is not possible, pass the object in the `custom_objects` parameter of the load function.\n",
      "WARNING:absl:<keras.layers.recurrent.LSTMCell object at 0x7fca45b3fc10> has the same name 'LSTMCell' as a built-in Keras object. Consider renaming <class 'keras.layers.recurrent.LSTMCell'> to avoid naming conflicts when loading with `tf.keras.models.load_model`. If renaming is not possible, pass the object in the `custom_objects` parameter of the load function.\n",
      "WARNING:absl:<keras.layers.recurrent.LSTMCell object at 0x7fca45cb9810> has the same name 'LSTMCell' as a built-in Keras object. Consider renaming <class 'keras.layers.recurrent.LSTMCell'> to avoid naming conflicts when loading with `tf.keras.models.load_model`. If renaming is not possible, pass the object in the `custom_objects` parameter of the load function.\n",
      "WARNING:absl:<keras.layers.recurrent.LSTMCell object at 0x7fca45de1110> has the same name 'LSTMCell' as a built-in Keras object. Consider renaming <class 'keras.layers.recurrent.LSTMCell'> to avoid naming conflicts when loading with `tf.keras.models.load_model`. If renaming is not possible, pass the object in the `custom_objects` parameter of the load function.\n"
     ]
    }
   ],
   "source": [
    "model.save('baseline_2')\n",
    "#!zip -r baseline_2.zip baseline_2/"
   ]
  },
  {
   "cell_type": "code",
   "execution_count": 29,
   "metadata": {
    "id": "lU6tzOBz3XgO"
   },
   "outputs": [],
   "source": [
    "import pickle\n",
    "\n",
    "with open('history.pkl', 'wb') as f:\n",
    "    pickle.dump(history.history, f)"
   ]
  },
  {
   "cell_type": "code",
   "execution_count": 30,
   "metadata": {
    "colab": {
     "base_uri": "https://localhost:8080/",
     "height": 265
    },
    "id": "wqX1wbIA06s4",
    "outputId": "99363c96-29d8-4c6e-fb34-0f0b50f4b5e0"
   },
   "outputs": [
    {
     "data": {
      "image/png": "[encoded data removed]",
      "text/plain": [
       "<Figure size 432x288 with 1 Axes>"
      ]
     },
     "metadata": {
      "needs_background": "light"
     },
     "output_type": "display_data"
    }
   ],
   "source": [
    "from matplotlib import pyplot\n",
    "\n",
    "pyplot.plot(history.history['loss'], label='train')\n",
    "pyplot.plot(history.history['val_loss'], label='test')\n",
    "pyplot.legend()\n",
    "pyplot.show()"
   ]
  },
  {
   "cell_type": "code",
   "execution_count": 31,
   "metadata": {
    "id": "NrF7KM4K1dr-"
   },
   "outputs": [],
   "source": [
    "#Building Dictionary for Source Vocabulary\n",
    "reverse_target_word_index=y_tokenizer.index_word \n",
    "reverse_source_word_index=x_tokenizer.index_word \n",
    "target_word_index=y_tokenizer.word_index"
   ]
  },
  {
   "cell_type": "code",
   "execution_count": 32,
   "metadata": {
    "id": "dFXQA8Vm1rqq"
   },
   "outputs": [],
   "source": [
    "#Inference/Validation Phase\n",
    "#Encoding the input sequence to get the feature vector\n",
    "encoder_model = Model(inputs=encoder_inputs,outputs=[encoder_outputs, state_h, state_c])\n",
    "\n",
    "#Decoder setup\n",
    "#These tensors will hold the states of the previous time step\n",
    "decoder_state_input_h = Input(shape=(latent_dim,))\n",
    "decoder_state_input_c = Input(shape=(latent_dim,))\n",
    "decoder_hidden_state_input = Input(shape=(max_len_content,latent_dim))\n",
    "\n",
    "#Getting the embeddings of the decoder sequence\n",
    "dec_emb2= decoder_emb_layer(decoder_inputs) \n",
    "\n",
    "#Setting the initial states to the states from the previous time step for better prediction\n",
    "decoder_outputs2, state_h2, state_c2 = decoder_lstm(dec_emb2, initial_state=[decoder_state_input_h, decoder_state_input_c])\n",
    "\n",
    "#Attention inference\n",
    "attn_out_inf, attn_states_inf = attn_layer([decoder_hidden_state_input, decoder_outputs2])\n",
    "decoder_inf_concat = Concatenate(axis=-1, name='concat')([decoder_outputs2, attn_out_inf])\n",
    "\n",
    "#Adding Dense softmax layer to generate proability distribution over the target vocabulary\n",
    "decoder_outputs2 = decoder_dense(decoder_inf_concat) \n",
    "\n",
    "#Final Decoder model\n",
    "decoder_model = Model(\n",
    "    [decoder_inputs] + [decoder_hidden_state_input,decoder_state_input_h, decoder_state_input_c],\n",
    "    [decoder_outputs2] + [state_h2, state_c2])"
   ]
  },
  {
   "cell_type": "code",
   "execution_count": 33,
   "metadata": {
    "id": "YxOPkUOv12Tj"
   },
   "outputs": [],
   "source": [
    "#Function defining the implementation of inference process\n",
    "import numpy as np\n",
    "def decode_sequence(input_seq):\n",
    "    #Encoding the input as state vectors\n",
    "    e_out, e_h, e_c = encoder_model.predict(input_seq)\n",
    "    \n",
    "    #Generating empty target sequence of length 1\n",
    "    target_seq = np.zeros((1,1))\n",
    "    \n",
    "    #Populating the first word of target sequence with the start word\n",
    "    target_seq[0, 0] = target_word_index['START']\n",
    "\n",
    "    stop_condition = False\n",
    "    decoded_sentence = ''\n",
    "    while not stop_condition:\n",
    "      \n",
    "        output_tokens, h, c = decoder_model.predict([target_seq] + [e_out, e_h, e_c])\n",
    "\n",
    "        #Sampling a token\n",
    "        sampled_token_index = np.argmax(output_tokens[0, -1, :])\n",
    "        if sampled_token_index == 0:\n",
    "            continue\n",
    "        sampled_token = reverse_target_word_index[sampled_token_index]\n",
    "        \n",
    "        if sampled_token != 'END':\n",
    "            decoded_sentence += ' '+sampled_token\n",
    "\n",
    "        #Exit condition: either hit max length or find stop word\n",
    "        if (sampled_token == 'END' or len(decoded_sentence.split()) >= (max_len_summary-1)):\n",
    "            stop_condition = True\n",
    "\n",
    "        #Updating the target sequence (of length 1)\n",
    "        target_seq = np.zeros((1,1))\n",
    "        target_seq[0, 0] = sampled_token_index\n",
    "\n",
    "        #Updating internal states\n",
    "        e_h, e_c = h, c\n",
    "\n",
    "    return decoded_sentence"
   ]
  },
  {
   "cell_type": "code",
   "execution_count": 34,
   "metadata": {
    "id": "fU6dOMs42Bqb"
   },
   "outputs": [],
   "source": [
    "#Functions to convert an integer sequence to a word sequence for summary as well as reviews \n",
    "def seq2summary(input_seq):\n",
    "    newString=''\n",
    "    for i in input_seq:\n",
    "        if((i!=0 and i!=target_word_index['START']) and i!=target_word_index['END']):\n",
    "            newString=newString+reverse_target_word_index[i]+' '\n",
    "    return newString\n",
    "\n",
    "def seq2text(input_seq):\n",
    "    newString=''\n",
    "    for i in input_seq:\n",
    "        if(i!=0):\n",
    "            newString=newString+reverse_source_word_index[i]+' '\n",
    "    return newString"
   ]
  },
  {
   "cell_type": "code",
   "execution_count": 35,
   "metadata": {
    "colab": {
     "base_uri": "https://localhost:8080/",
     "height": 1000
    },
    "id": "0zDSFPM82Dpf",
    "outputId": "6844b05b-bcff-44b4-e3ae-e47629f219e8"
   },
   "outputs": [],
   "source": [
    "#for i, news in enumerate(x_dev):\n",
    "#    print ('Review:', seq2text(news))\n",
    "#    print ('Original summary:', seq2summary(y_dev[i]))\n",
    "#    print ('Predicted summary:', decode_sequence(news.reshape(1,\n",
    "#           max_len_content)))\n",
    "#    print ('\\n')"
   ]
  },
  {
   "cell_type": "code",
   "execution_count": 36,
   "metadata": {
    "colab": {
     "base_uri": "https://localhost:8080/"
    },
    "id": "WHQmWc3gCNgs",
    "outputId": "5eb58c42-88ad-4ad4-b1f6-fa25ab1b7ce1"
   },
   "outputs": [
    {
     "name": "stdout",
     "output_type": "stream",
     "text": [
      "Review: jakarta cnn indonesia predikat film terbaik di academy awards selalu menjadi incaran tertinggi ajang penghargaan bidang perfilman hollywood itu namun kini studio studio mulai mencari penghargaan alternatif yang tak kalah membanggakan setidaknya mereka memenangi film animasi terbaik terbukti tahun ini pendaftar kategori film animasi terbaik memecahkan rekor terbanyak yang pernah ada dalam sejarah academy awards terhitung ada film animasi yang dimasukkan demi mengejar predikat film animasi terbaik itu disampaikan academy of motion picture arts and sciences melalui pengumuman yang disampaikan pada jumat mengutip the hollywood reporter ramainya persaingan di kategori itu mengindikasikan hal lain artinya studio juga mulai menganggap serius produksi film film animasi di antara para pendaftar ada pixar yang memasukkan finding dory disney animation yang menjagokan zootopia dan moana illumination yang mengantarkan the secret life of pets dan sing dreamworks animation dengan kung fu panda dan trolls blue sky yang menyuguhkan ice age collision course sony pictures dengan the angry birds movie dan sausage party serta warner bros dengan film andalannya yang berjudul storks meski sedikit flop selain studio studio besar itu ada pula film yang bukan box office seperti kubo and the two strings milik laika dan the red turtle film alterbatif dari sony pictures the red turtle memenangi penghargaan un certain regard di cannes film festival tahun ini swiss bahkan punya jagoan di kategori itu duta’ mereka yang berjudul my life as a zucchini bakal punya pekerjaan ganda selain didaftarkan untuk kategori film animasi terbaik film itu juga merupakan perwakilan swiss untuk film berbahasa asing terbaik masih di kategori film animasi terbaik netflix pun punya jagoan mereka mendaftarkan film animasi the little prince kisah pangeran kecil dari perancis untuk berkompetisi sesuai peraturan ampas hanya akan ada lima film yang dipilih menjadi nominasi masing masing kategori puluhan film animasi itu masih harus bertarung dengan sesamanya di depan mata para juri sebelum namanya dibacakan sebagai nomine pada januari mendatang rsa rsa \n",
      "Original summary: tahun ini pendaftar kategori film animasi terbaik memecahkan rekor terhitung ada film animasi yang dimasukkan demi mengejar predikat film animasi terbaik hal itu disampaikan academy of motion picture arts and sciences melalui pengumuman yang disampaikan pada jumat mengutip the hollywood reporter ramainya persaingan di kategori itu mengindikasikan hal lain artinya studio juga mulai menganggap serius produksi film film animasi \n",
      "Predicted summary:  film animasi disney kembali memenangkan kategori film terbaik dalam kategori film terbaik dalam kategori film terbaik ini adalah kategori film animasi terbaik kategori film paling populer di kategori film animasi terbaik kategori film animasi terbaik kategori film ini kategori kategori kategori animasi terbaik kategori film animasi terbaik kategori film animasi terbaik untuk kategori film terbaik\n"
     ]
    }
   ],
   "source": [
    "print(\"Review:\",seq2text(x_train[1]))\n",
    "print(\"Original summary:\",seq2summary(y_train[1]))\n",
    "print(\"Predicted summary:\",decode_sequence(x_train[1].reshape(1,max_len_content)))"
   ]
  }
 ],
 "metadata": {
  "accelerator": "GPU",
  "colab": {
   "collapsed_sections": [],
   "name": "seq2seq tes 2.ipynb",
   "provenance": []
  },
  "kernelspec": {
   "display_name": "Python 3",
   "language": "python",
   "name": "python3"
  },
  "language_info": {
   "codemirror_mode": {
    "name": "ipython",
    "version": 3
   },
   "file_extension": ".py",
   "mimetype": "text/x-python",
   "name": "python",
   "nbconvert_exporter": "python",
   "pygments_lexer": "ipython3",
   "version": "3.7.12"
  }
 },
 "nbformat": 4,
 "nbformat_minor": 1
}
